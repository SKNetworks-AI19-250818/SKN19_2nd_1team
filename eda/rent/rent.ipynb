{
 "cells": [
  {
   "cell_type": "code",
   "execution_count": 23,
   "id": "84a44b87",
   "metadata": {},
   "outputs": [],
   "source": [
    "import numpy as np\n",
    "import pandas as pd\n",
    "import matplotlib.pyplot as plt\n",
    "import seaborn as sns"
   ]
  },
  {
   "cell_type": "code",
   "execution_count": 24,
   "id": "0f049a02",
   "metadata": {},
   "outputs": [
    {
     "data": {
      "text/html": [
       "<div>\n",
       "<style scoped>\n",
       "    .dataframe tbody tr th:only-of-type {\n",
       "        vertical-align: middle;\n",
       "    }\n",
       "\n",
       "    .dataframe tbody tr th {\n",
       "        vertical-align: top;\n",
       "    }\n",
       "\n",
       "    .dataframe thead th {\n",
       "        text-align: right;\n",
       "    }\n",
       "</style>\n",
       "<table border=\"1\" class=\"dataframe\">\n",
       "  <thead>\n",
       "    <tr style=\"text-align: right;\">\n",
       "      <th></th>\n",
       "      <th>기준_년분기_코드</th>\n",
       "      <th>자치구_코드_명</th>\n",
       "      <th>전체임대료</th>\n",
       "    </tr>\n",
       "  </thead>\n",
       "  <tbody>\n",
       "    <tr>\n",
       "      <th>0</th>\n",
       "      <td>2019년 1분기</td>\n",
       "      <td>서울시 전체</td>\n",
       "      <td>99721</td>\n",
       "    </tr>\n",
       "    <tr>\n",
       "      <th>1</th>\n",
       "      <td>2019년 1분기</td>\n",
       "      <td>종로구</td>\n",
       "      <td>152261</td>\n",
       "    </tr>\n",
       "    <tr>\n",
       "      <th>2</th>\n",
       "      <td>2019년 1분기</td>\n",
       "      <td>중구</td>\n",
       "      <td>211449</td>\n",
       "    </tr>\n",
       "    <tr>\n",
       "      <th>3</th>\n",
       "      <td>2019년 1분기</td>\n",
       "      <td>용산구</td>\n",
       "      <td>93586</td>\n",
       "    </tr>\n",
       "    <tr>\n",
       "      <th>4</th>\n",
       "      <td>2019년 1분기</td>\n",
       "      <td>성동구</td>\n",
       "      <td>89189</td>\n",
       "    </tr>\n",
       "    <tr>\n",
       "      <th>...</th>\n",
       "      <td>...</td>\n",
       "      <td>...</td>\n",
       "      <td>...</td>\n",
       "    </tr>\n",
       "    <tr>\n",
       "      <th>670</th>\n",
       "      <td>2025년 2분기</td>\n",
       "      <td>관악구</td>\n",
       "      <td>121002</td>\n",
       "    </tr>\n",
       "    <tr>\n",
       "      <th>671</th>\n",
       "      <td>2025년 2분기</td>\n",
       "      <td>서초구</td>\n",
       "      <td>143895</td>\n",
       "    </tr>\n",
       "    <tr>\n",
       "      <th>672</th>\n",
       "      <td>2025년 2분기</td>\n",
       "      <td>강남구</td>\n",
       "      <td>180958</td>\n",
       "    </tr>\n",
       "    <tr>\n",
       "      <th>673</th>\n",
       "      <td>2025년 2분기</td>\n",
       "      <td>송파구</td>\n",
       "      <td>134775</td>\n",
       "    </tr>\n",
       "    <tr>\n",
       "      <th>674</th>\n",
       "      <td>2025년 2분기</td>\n",
       "      <td>강동구</td>\n",
       "      <td>152759</td>\n",
       "    </tr>\n",
       "  </tbody>\n",
       "</table>\n",
       "<p>675 rows × 3 columns</p>\n",
       "</div>"
      ],
      "text/plain": [
       "     기준_년분기_코드 자치구_코드_명   전체임대료\n",
       "0    2019년 1분기   서울시 전체   99721\n",
       "1    2019년 1분기      종로구  152261\n",
       "2    2019년 1분기       중구  211449\n",
       "3    2019년 1분기      용산구   93586\n",
       "4    2019년 1분기      성동구   89189\n",
       "..         ...      ...     ...\n",
       "670  2025년 2분기      관악구  121002\n",
       "671  2025년 2분기      서초구  143895\n",
       "672  2025년 2분기      강남구  180958\n",
       "673  2025년 2분기      송파구  134775\n",
       "674  2025년 2분기      강동구  152759\n",
       "\n",
       "[675 rows x 3 columns]"
      ]
     },
     "execution_count": 24,
     "metadata": {},
     "output_type": "execute_result"
    }
   ],
   "source": [
    "df = pd.read_csv('../../data/임대료_자치구.csv')\n",
    "df"
   ]
  },
  {
   "cell_type": "code",
   "execution_count": 25,
   "id": "5c375349",
   "metadata": {},
   "outputs": [
    {
     "name": "stdout",
     "output_type": "stream",
     "text": [
      "<class 'pandas.core.frame.DataFrame'>\n",
      "RangeIndex: 675 entries, 0 to 674\n",
      "Data columns (total 3 columns):\n",
      " #   Column     Non-Null Count  Dtype \n",
      "---  ------     --------------  ----- \n",
      " 0   기준_년분기_코드  675 non-null    object\n",
      " 1   자치구_코드_명   675 non-null    object\n",
      " 2   전체임대료      675 non-null    int64 \n",
      "dtypes: int64(1), object(2)\n",
      "memory usage: 15.9+ KB\n"
     ]
    }
   ],
   "source": [
    "df.info()"
   ]
  },
  {
   "cell_type": "code",
   "execution_count": 26,
   "id": "9c9b22f4",
   "metadata": {},
   "outputs": [
    {
     "data": {
      "text/html": [
       "<div>\n",
       "<style scoped>\n",
       "    .dataframe tbody tr th:only-of-type {\n",
       "        vertical-align: middle;\n",
       "    }\n",
       "\n",
       "    .dataframe tbody tr th {\n",
       "        vertical-align: top;\n",
       "    }\n",
       "\n",
       "    .dataframe thead th {\n",
       "        text-align: right;\n",
       "    }\n",
       "</style>\n",
       "<table border=\"1\" class=\"dataframe\">\n",
       "  <thead>\n",
       "    <tr style=\"text-align: right;\">\n",
       "      <th></th>\n",
       "      <th>전체임대료</th>\n",
       "    </tr>\n",
       "  </thead>\n",
       "  <tbody>\n",
       "    <tr>\n",
       "      <th>count</th>\n",
       "      <td>675.000000</td>\n",
       "    </tr>\n",
       "    <tr>\n",
       "      <th>mean</th>\n",
       "      <td>119573.595556</td>\n",
       "    </tr>\n",
       "    <tr>\n",
       "      <th>std</th>\n",
       "      <td>38770.488623</td>\n",
       "    </tr>\n",
       "    <tr>\n",
       "      <th>min</th>\n",
       "      <td>46416.000000</td>\n",
       "    </tr>\n",
       "    <tr>\n",
       "      <th>25%</th>\n",
       "      <td>95845.000000</td>\n",
       "    </tr>\n",
       "    <tr>\n",
       "      <th>50%</th>\n",
       "      <td>110900.000000</td>\n",
       "    </tr>\n",
       "    <tr>\n",
       "      <th>75%</th>\n",
       "      <td>132865.500000</td>\n",
       "    </tr>\n",
       "    <tr>\n",
       "      <th>max</th>\n",
       "      <td>292292.000000</td>\n",
       "    </tr>\n",
       "  </tbody>\n",
       "</table>\n",
       "</div>"
      ],
      "text/plain": [
       "               전체임대료\n",
       "count     675.000000\n",
       "mean   119573.595556\n",
       "std     38770.488623\n",
       "min     46416.000000\n",
       "25%     95845.000000\n",
       "50%    110900.000000\n",
       "75%    132865.500000\n",
       "max    292292.000000"
      ]
     },
     "execution_count": 26,
     "metadata": {},
     "output_type": "execute_result"
    }
   ],
   "source": [
    "df.describe()"
   ]
  },
  {
   "cell_type": "code",
   "execution_count": 27,
   "id": "d57d8d16",
   "metadata": {},
   "outputs": [],
   "source": [
    "df = df.drop(df[df['자치구_코드_명']=='서울시 전체'].index)"
   ]
  },
  {
   "cell_type": "code",
   "execution_count": 28,
   "id": "9f940a42",
   "metadata": {},
   "outputs": [],
   "source": [
    "df['기준_년분기_코드'] = df['기준_년분기_코드'].str.replace('년 ', '')\n",
    "df['기준_년분기_코드'] = df['기준_년분기_코드'].str.replace('분기', '')"
   ]
  },
  {
   "cell_type": "code",
   "execution_count": 32,
   "id": "780d1df4",
   "metadata": {},
   "outputs": [],
   "source": [
    "df.sort_values('기준_년분기_코드').to_csv('rent_data.csv', index=False)"
   ]
  }
 ],
 "metadata": {
  "kernelspec": {
   "display_name": "pystudy_env",
   "language": "python",
   "name": "python3"
  },
  "language_info": {
   "codemirror_mode": {
    "name": "ipython",
    "version": 3
   },
   "file_extension": ".py",
   "mimetype": "text/x-python",
   "name": "python",
   "nbconvert_exporter": "python",
   "pygments_lexer": "ipython3",
   "version": "3.12.11"
  }
 },
 "nbformat": 4,
 "nbformat_minor": 5
}
