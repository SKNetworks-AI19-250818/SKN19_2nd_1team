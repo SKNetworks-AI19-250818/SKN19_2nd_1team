{
  "cells": [
    {
      "cell_type": "code",
      "execution_count": 1,
      "metadata": {
        "colab": {
          "base_uri": "https://localhost:8080/"
        },
        "id": "z22E_GR3HhsB",
        "outputId": "82ab0e8b-a51c-4feb-ae6f-9567d2b6f776"
      },
      "outputs": [
        {
          "name": "stdout",
          "output_type": "stream",
          "text": [
            "Reading package lists... Done\n",
            "Building dependency tree... Done\n",
            "Reading state information... Done\n",
            "fonts-nanum is already the newest version (20200506-1).\n",
            "0 upgraded, 0 newly installed, 0 to remove and 38 not upgraded.\n",
            "/usr/share/fonts: caching, new cache contents: 0 fonts, 1 dirs\n",
            "/usr/share/fonts/truetype: caching, new cache contents: 0 fonts, 3 dirs\n",
            "/usr/share/fonts/truetype/humor-sans: caching, new cache contents: 1 fonts, 0 dirs\n",
            "/usr/share/fonts/truetype/liberation: caching, new cache contents: 16 fonts, 0 dirs\n",
            "/usr/share/fonts/truetype/nanum: caching, new cache contents: 12 fonts, 0 dirs\n",
            "/usr/local/share/fonts: caching, new cache contents: 0 fonts, 0 dirs\n",
            "/root/.local/share/fonts: skipping, no such directory\n",
            "/root/.fonts: skipping, no such directory\n",
            "/usr/share/fonts/truetype: skipping, looped directory detected\n",
            "/usr/share/fonts/truetype/humor-sans: skipping, looped directory detected\n",
            "/usr/share/fonts/truetype/liberation: skipping, looped directory detected\n",
            "/usr/share/fonts/truetype/nanum: skipping, looped directory detected\n",
            "/var/cache/fontconfig: cleaning cache directory\n",
            "/root/.cache/fontconfig: not cleaning non-existent cache directory\n",
            "/root/.fontconfig: not cleaning non-existent cache directory\n",
            "fc-cache: succeeded\n"
          ]
        }
      ],
      "source": [
        "!sudo apt-get install -y fonts-nanum\n",
        "!sudo fc-cache -fv\n",
        "!rm ~/.cache/matplotlib -rf"
      ]
    },
    {
      "cell_type": "code",
      "execution_count": 2,
      "metadata": {
        "id": "yLjlbpi4HjxC"
      },
      "outputs": [],
      "source": [
        "import matplotlib.pyplot as plt\n",
        "plt.rc('font', family='NanumBarunGothic')\n",
        "plt.rcParams['axes.unicode_minus'] =False"
      ]
    },
    {
      "cell_type": "markdown",
      "metadata": {
        "id": "2fGFbvZeHbjo"
      },
      "source": [
        "# TabNet 폐업률 분류 예측 모델\n",
        "\n",
        "**목표**: 서울시 상권 데이터를 활용한 폐업 위험도 분류 (High Risk / Low Risk)\n",
        "\n",
        "**사용모델**:\n",
        "- TabNet (Attention-based Tabular Deep Learning)\n"
      ]
    },
    {
      "cell_type": "code",
      "execution_count": 3,
      "metadata": {
        "colab": {
          "base_uri": "https://localhost:8080/"
        },
        "id": "rsftf777HfaQ",
        "outputId": "104178cd-bb72-411c-95ac-053865630627"
      },
      "outputs": [
        {
          "name": "stdout",
          "output_type": "stream",
          "text": [
            "Drive already mounted at /content/drive; to attempt to forcibly remount, call drive.mount(\"/content/drive\", force_remount=True).\n"
          ]
        }
      ],
      "source": [
        "from google.colab import drive\n",
        "drive.mount('/content/drive')"
      ]
    },
    {
      "cell_type": "markdown",
      "metadata": {
        "id": "BzxD2Ca2Hbjr"
      },
      "source": [
        "## 1. 라이브러리 임포트 및 GPU 설정"
      ]
    },
    {
      "cell_type": "code",
      "execution_count": 4,
      "metadata": {
        "id": "jjl1cZyOHbjs"
      },
      "outputs": [],
      "source": [
        "!pip install optuna pytorch-tabnet imbalanced-learn -q"
      ]
    },
    {
      "cell_type": "code",
      "execution_count": 5,
      "metadata": {
        "colab": {
          "base_uri": "https://localhost:8080/"
        },
        "id": "s5VEIqv2Hbjt",
        "outputId": "afa954b0-0ed3-471d-d254-26518d509d00"
      },
      "outputs": [
        {
          "name": "stdout",
          "output_type": "stream",
          "text": [
            "✓ 라이브러리 임포트 완료\n"
          ]
        }
      ],
      "source": [
        "# 필요 라이브러리 임포트\n",
        "import pandas as pd\n",
        "import numpy as np\n",
        "import matplotlib.pyplot as plt\n",
        "import seaborn as sns\n",
        "import torch\n",
        "from pathlib import Path\n",
        "import pickle\n",
        "import json\n",
        "import warnings\n",
        "warnings.filterwarnings('ignore')\n",
        "\n",
        "# Sklearn\n",
        "from sklearn.preprocessing import StandardScaler, LabelEncoder\n",
        "from sklearn.metrics import (\n",
        "    accuracy_score, precision_score, recall_score, f1_score,\n",
        "    roc_auc_score, confusion_matrix, classification_report,\n",
        "    precision_recall_curve, roc_curve, average_precision_score\n",
        ")\n",
        "from sklearn.utils.class_weight import compute_class_weight\n",
        "\n",
        "# SMOTE\n",
        "from imblearn.over_sampling import SMOTE\n",
        "\n",
        "# TabNet\n",
        "from pytorch_tabnet.tab_model import TabNetClassifier\n",
        "\n",
        "\n",
        "\n",
        "# 시드 설정\n",
        "SEED = 42\n",
        "np.random.seed(SEED)\n",
        "torch.manual_seed(SEED)\n",
        "\n",
        "print(\"✓ 라이브러리 임포트 완료\")"
      ]
    },
    {
      "cell_type": "code",
      "execution_count": null,
      "metadata": {
        "colab": {
          "base_uri": "https://localhost:8080/"
        },
        "id": "Wx6GgdElHbju",
        "outputId": "8d7919b6-38fc-48ff-da2c-68308487316a"
      },
      "outputs": [
        {
          "name": "stdout",
          "output_type": "stream",
          "text": [
            "✓ NVIDIA GPU 사용\n",
            "Device: cuda\n"
          ]
        }
      ],
      "source": [
        "# GPU 설정 (Mac GPU 자동 감지)\n",
        "if torch.backends.mps.is_available():\n",
        "    device = 'mps'\n",
        "    print(\"Mac GPU 사용\")\n",
        "elif torch.cuda.is_available():\n",
        "    device = 'cuda'\n",
        "    print(\"NVIDIA GPU 사용\")\n",
        "else:\n",
        "    device = 'cpu'\n",
        "    print(\"GPU 사용 불가, CPU 사용\")\n",
        "\n",
        "print(f\"Device: {device}\")"
      ]
    },
    {
      "cell_type": "markdown",
      "metadata": {
        "id": "ya9nriPIHbju"
      },
      "source": [
        "## 2. 데이터 로드 및 탐색"
      ]
    },
    {
      "cell_type": "code",
      "execution_count": 7,
      "metadata": {
        "colab": {
          "base_uri": "https://localhost:8080/"
        },
        "id": "tZwT5J1zHbjv",
        "outputId": "2721ad25-8cf9-4d51-c3ea-6698cd9713d4"
      },
      "outputs": [
        {
          "name": "stdout",
          "output_type": "stream",
          "text": [
            "✓ 데이터 로드 완료\n",
            "  - Shape: (39975, 137)\n",
            "  - 행 수: 39,975\n",
            "  - 컬럼 수: 137\n"
          ]
        }
      ],
      "source": [
        "# 데이터 로드\n",
        "data_path = '/content/drive/MyDrive/merged_data.csv'\n",
        "df = pd.read_csv(data_path)\n",
        "\n",
        "print(f\"✓ 데이터 로드 완료\")\n",
        "print(f\"  - Shape: {df.shape}\")\n",
        "print(f\"  - 행 수: {len(df):,}\")\n",
        "print(f\"  - 컬럼 수: {len(df.columns)}\")"
      ]
    },
    {
      "cell_type": "code",
      "execution_count": 8,
      "metadata": {
        "colab": {
          "base_uri": "https://localhost:8080/",
          "height": 708
        },
        "id": "1pkrwao5Hbjv",
        "outputId": "9c6ddeef-ef02-4744-b64a-0ab7bd17dfa8"
      },
      "outputs": [
        {
          "name": "stdout",
          "output_type": "stream",
          "text": [
            "\n",
            "[데이터 미리보기]\n"
          ]
        },
        {
          "data": {
            "application/vnd.google.colaboratory.intrinsic+json": {
              "type": "dataframe",
              "variable_name": "df"
            },
            "text/html": [
              "\n",
              "  <div id=\"df-c91c6859-2295-4696-9e0f-bb7a6424db12\" class=\"colab-df-container\">\n",
              "    <div>\n",
              "<style scoped>\n",
              "    .dataframe tbody tr th:only-of-type {\n",
              "        vertical-align: middle;\n",
              "    }\n",
              "\n",
              "    .dataframe tbody tr th {\n",
              "        vertical-align: top;\n",
              "    }\n",
              "\n",
              "    .dataframe thead th {\n",
              "        text-align: right;\n",
              "    }\n",
              "</style>\n",
              "<table border=\"1\" class=\"dataframe\">\n",
              "  <thead>\n",
              "    <tr style=\"text-align: right;\">\n",
              "      <th></th>\n",
              "      <th>기준_년분기_코드</th>\n",
              "      <th>자치구_코드_명</th>\n",
              "      <th>서비스_업종_코드_명</th>\n",
              "      <th>점포_수</th>\n",
              "      <th>유사_업종_점포_수</th>\n",
              "      <th>개업_률</th>\n",
              "      <th>개업_점포_수</th>\n",
              "      <th>폐업_률</th>\n",
              "      <th>폐업_점포_수</th>\n",
              "      <th>프랜차이즈_점포_수</th>\n",
              "      <th>...</th>\n",
              "      <th>남성연령대_30_직장_인구_수</th>\n",
              "      <th>남성연령대_40_직장_인구_수</th>\n",
              "      <th>남성연령대_50_직장_인구_수</th>\n",
              "      <th>남성연령대_60_이상_직장_인구_수</th>\n",
              "      <th>여성연령대_10_직장_인구_수</th>\n",
              "      <th>여성연령대_20_직장_인구_수</th>\n",
              "      <th>여성연령대_30_직장_인구_수</th>\n",
              "      <th>여성연령대_40_직장_인구_수</th>\n",
              "      <th>여성연령대_50_직장_인구_수</th>\n",
              "      <th>여성연령대_60_이상_직장_인구_수</th>\n",
              "    </tr>\n",
              "  </thead>\n",
              "  <tbody>\n",
              "    <tr>\n",
              "      <th>0</th>\n",
              "      <td>20191</td>\n",
              "      <td>강남구</td>\n",
              "      <td>PC방</td>\n",
              "      <td>122.0</td>\n",
              "      <td>132.0</td>\n",
              "      <td>9.8</td>\n",
              "      <td>13.0</td>\n",
              "      <td>6.8</td>\n",
              "      <td>9.0</td>\n",
              "      <td>10.0</td>\n",
              "      <td>...</td>\n",
              "      <td>178522.0</td>\n",
              "      <td>164466.0</td>\n",
              "      <td>100728.0</td>\n",
              "      <td>44021.0</td>\n",
              "      <td>1679.0</td>\n",
              "      <td>99408.0</td>\n",
              "      <td>108205.0</td>\n",
              "      <td>74466.0</td>\n",
              "      <td>54523.0</td>\n",
              "      <td>22838.0</td>\n",
              "    </tr>\n",
              "    <tr>\n",
              "      <th>1</th>\n",
              "      <td>20191</td>\n",
              "      <td>강남구</td>\n",
              "      <td>가구</td>\n",
              "      <td>435.0</td>\n",
              "      <td>436.0</td>\n",
              "      <td>2.8</td>\n",
              "      <td>12.0</td>\n",
              "      <td>0.7</td>\n",
              "      <td>3.0</td>\n",
              "      <td>1.0</td>\n",
              "      <td>...</td>\n",
              "      <td>178522.0</td>\n",
              "      <td>164466.0</td>\n",
              "      <td>100728.0</td>\n",
              "      <td>44021.0</td>\n",
              "      <td>1679.0</td>\n",
              "      <td>99408.0</td>\n",
              "      <td>108205.0</td>\n",
              "      <td>74466.0</td>\n",
              "      <td>54523.0</td>\n",
              "      <td>22838.0</td>\n",
              "    </tr>\n",
              "    <tr>\n",
              "      <th>2</th>\n",
              "      <td>20191</td>\n",
              "      <td>강남구</td>\n",
              "      <td>가방</td>\n",
              "      <td>279.0</td>\n",
              "      <td>280.0</td>\n",
              "      <td>4.3</td>\n",
              "      <td>12.0</td>\n",
              "      <td>3.6</td>\n",
              "      <td>10.0</td>\n",
              "      <td>1.0</td>\n",
              "      <td>...</td>\n",
              "      <td>178522.0</td>\n",
              "      <td>164466.0</td>\n",
              "      <td>100728.0</td>\n",
              "      <td>44021.0</td>\n",
              "      <td>1679.0</td>\n",
              "      <td>99408.0</td>\n",
              "      <td>108205.0</td>\n",
              "      <td>74466.0</td>\n",
              "      <td>54523.0</td>\n",
              "      <td>22838.0</td>\n",
              "    </tr>\n",
              "    <tr>\n",
              "      <th>3</th>\n",
              "      <td>20191</td>\n",
              "      <td>강남구</td>\n",
              "      <td>가전제품</td>\n",
              "      <td>163.0</td>\n",
              "      <td>163.0</td>\n",
              "      <td>1.8</td>\n",
              "      <td>3.0</td>\n",
              "      <td>1.2</td>\n",
              "      <td>2.0</td>\n",
              "      <td>0.0</td>\n",
              "      <td>...</td>\n",
              "      <td>178522.0</td>\n",
              "      <td>164466.0</td>\n",
              "      <td>100728.0</td>\n",
              "      <td>44021.0</td>\n",
              "      <td>1679.0</td>\n",
              "      <td>99408.0</td>\n",
              "      <td>108205.0</td>\n",
              "      <td>74466.0</td>\n",
              "      <td>54523.0</td>\n",
              "      <td>22838.0</td>\n",
              "    </tr>\n",
              "    <tr>\n",
              "      <th>4</th>\n",
              "      <td>20191</td>\n",
              "      <td>강남구</td>\n",
              "      <td>가전제품수리</td>\n",
              "      <td>92.0</td>\n",
              "      <td>92.0</td>\n",
              "      <td>3.3</td>\n",
              "      <td>3.0</td>\n",
              "      <td>1.1</td>\n",
              "      <td>1.0</td>\n",
              "      <td>0.0</td>\n",
              "      <td>...</td>\n",
              "      <td>178522.0</td>\n",
              "      <td>164466.0</td>\n",
              "      <td>100728.0</td>\n",
              "      <td>44021.0</td>\n",
              "      <td>1679.0</td>\n",
              "      <td>99408.0</td>\n",
              "      <td>108205.0</td>\n",
              "      <td>74466.0</td>\n",
              "      <td>54523.0</td>\n",
              "      <td>22838.0</td>\n",
              "    </tr>\n",
              "  </tbody>\n",
              "</table>\n",
              "<p>5 rows × 137 columns</p>\n",
              "</div>\n",
              "    <div class=\"colab-df-buttons\">\n",
              "\n",
              "  <div class=\"colab-df-container\">\n",
              "    <button class=\"colab-df-convert\" onclick=\"convertToInteractive('df-c91c6859-2295-4696-9e0f-bb7a6424db12')\"\n",
              "            title=\"Convert this dataframe to an interactive table.\"\n",
              "            style=\"display:none;\">\n",
              "\n",
              "  <svg xmlns=\"http://www.w3.org/2000/svg\" height=\"24px\" viewBox=\"0 -960 960 960\">\n",
              "    <path d=\"M120-120v-720h720v720H120Zm60-500h600v-160H180v160Zm220 220h160v-160H400v160Zm0 220h160v-160H400v160ZM180-400h160v-160H180v160Zm440 0h160v-160H620v160ZM180-180h160v-160H180v160Zm440 0h160v-160H620v160Z\"/>\n",
              "  </svg>\n",
              "    </button>\n",
              "\n",
              "  <style>\n",
              "    .colab-df-container {\n",
              "      display:flex;\n",
              "      gap: 12px;\n",
              "    }\n",
              "\n",
              "    .colab-df-convert {\n",
              "      background-color: #E8F0FE;\n",
              "      border: none;\n",
              "      border-radius: 50%;\n",
              "      cursor: pointer;\n",
              "      display: none;\n",
              "      fill: #1967D2;\n",
              "      height: 32px;\n",
              "      padding: 0 0 0 0;\n",
              "      width: 32px;\n",
              "    }\n",
              "\n",
              "    .colab-df-convert:hover {\n",
              "      background-color: #E2EBFA;\n",
              "      box-shadow: 0px 1px 2px rgba(60, 64, 67, 0.3), 0px 1px 3px 1px rgba(60, 64, 67, 0.15);\n",
              "      fill: #174EA6;\n",
              "    }\n",
              "\n",
              "    .colab-df-buttons div {\n",
              "      margin-bottom: 4px;\n",
              "    }\n",
              "\n",
              "    [theme=dark] .colab-df-convert {\n",
              "      background-color: #3B4455;\n",
              "      fill: #D2E3FC;\n",
              "    }\n",
              "\n",
              "    [theme=dark] .colab-df-convert:hover {\n",
              "      background-color: #434B5C;\n",
              "      box-shadow: 0px 1px 3px 1px rgba(0, 0, 0, 0.15);\n",
              "      filter: drop-shadow(0px 1px 2px rgba(0, 0, 0, 0.3));\n",
              "      fill: #FFFFFF;\n",
              "    }\n",
              "  </style>\n",
              "\n",
              "    <script>\n",
              "      const buttonEl =\n",
              "        document.querySelector('#df-c91c6859-2295-4696-9e0f-bb7a6424db12 button.colab-df-convert');\n",
              "      buttonEl.style.display =\n",
              "        google.colab.kernel.accessAllowed ? 'block' : 'none';\n",
              "\n",
              "      async function convertToInteractive(key) {\n",
              "        const element = document.querySelector('#df-c91c6859-2295-4696-9e0f-bb7a6424db12');\n",
              "        const dataTable =\n",
              "          await google.colab.kernel.invokeFunction('convertToInteractive',\n",
              "                                                    [key], {});\n",
              "        if (!dataTable) return;\n",
              "\n",
              "        const docLinkHtml = 'Like what you see? Visit the ' +\n",
              "          '<a target=\"_blank\" href=https://colab.research.google.com/notebooks/data_table.ipynb>data table notebook</a>'\n",
              "          + ' to learn more about interactive tables.';\n",
              "        element.innerHTML = '';\n",
              "        dataTable['output_type'] = 'display_data';\n",
              "        await google.colab.output.renderOutput(dataTable, element);\n",
              "        const docLink = document.createElement('div');\n",
              "        docLink.innerHTML = docLinkHtml;\n",
              "        element.appendChild(docLink);\n",
              "      }\n",
              "    </script>\n",
              "  </div>\n",
              "\n",
              "\n",
              "    <div id=\"df-6b76380d-1bfb-4fa2-bdbf-9a562fd4c9da\">\n",
              "      <button class=\"colab-df-quickchart\" onclick=\"quickchart('df-6b76380d-1bfb-4fa2-bdbf-9a562fd4c9da')\"\n",
              "                title=\"Suggest charts\"\n",
              "                style=\"display:none;\">\n",
              "\n",
              "<svg xmlns=\"http://www.w3.org/2000/svg\" height=\"24px\"viewBox=\"0 0 24 24\"\n",
              "     width=\"24px\">\n",
              "    <g>\n",
              "        <path d=\"M19 3H5c-1.1 0-2 .9-2 2v14c0 1.1.9 2 2 2h14c1.1 0 2-.9 2-2V5c0-1.1-.9-2-2-2zM9 17H7v-7h2v7zm4 0h-2V7h2v10zm4 0h-2v-4h2v4z\"/>\n",
              "    </g>\n",
              "</svg>\n",
              "      </button>\n",
              "\n",
              "<style>\n",
              "  .colab-df-quickchart {\n",
              "      --bg-color: #E8F0FE;\n",
              "      --fill-color: #1967D2;\n",
              "      --hover-bg-color: #E2EBFA;\n",
              "      --hover-fill-color: #174EA6;\n",
              "      --disabled-fill-color: #AAA;\n",
              "      --disabled-bg-color: #DDD;\n",
              "  }\n",
              "\n",
              "  [theme=dark] .colab-df-quickchart {\n",
              "      --bg-color: #3B4455;\n",
              "      --fill-color: #D2E3FC;\n",
              "      --hover-bg-color: #434B5C;\n",
              "      --hover-fill-color: #FFFFFF;\n",
              "      --disabled-bg-color: #3B4455;\n",
              "      --disabled-fill-color: #666;\n",
              "  }\n",
              "\n",
              "  .colab-df-quickchart {\n",
              "    background-color: var(--bg-color);\n",
              "    border: none;\n",
              "    border-radius: 50%;\n",
              "    cursor: pointer;\n",
              "    display: none;\n",
              "    fill: var(--fill-color);\n",
              "    height: 32px;\n",
              "    padding: 0;\n",
              "    width: 32px;\n",
              "  }\n",
              "\n",
              "  .colab-df-quickchart:hover {\n",
              "    background-color: var(--hover-bg-color);\n",
              "    box-shadow: 0 1px 2px rgba(60, 64, 67, 0.3), 0 1px 3px 1px rgba(60, 64, 67, 0.15);\n",
              "    fill: var(--button-hover-fill-color);\n",
              "  }\n",
              "\n",
              "  .colab-df-quickchart-complete:disabled,\n",
              "  .colab-df-quickchart-complete:disabled:hover {\n",
              "    background-color: var(--disabled-bg-color);\n",
              "    fill: var(--disabled-fill-color);\n",
              "    box-shadow: none;\n",
              "  }\n",
              "\n",
              "  .colab-df-spinner {\n",
              "    border: 2px solid var(--fill-color);\n",
              "    border-color: transparent;\n",
              "    border-bottom-color: var(--fill-color);\n",
              "    animation:\n",
              "      spin 1s steps(1) infinite;\n",
              "  }\n",
              "\n",
              "  @keyframes spin {\n",
              "    0% {\n",
              "      border-color: transparent;\n",
              "      border-bottom-color: var(--fill-color);\n",
              "      border-left-color: var(--fill-color);\n",
              "    }\n",
              "    20% {\n",
              "      border-color: transparent;\n",
              "      border-left-color: var(--fill-color);\n",
              "      border-top-color: var(--fill-color);\n",
              "    }\n",
              "    30% {\n",
              "      border-color: transparent;\n",
              "      border-left-color: var(--fill-color);\n",
              "      border-top-color: var(--fill-color);\n",
              "      border-right-color: var(--fill-color);\n",
              "    }\n",
              "    40% {\n",
              "      border-color: transparent;\n",
              "      border-right-color: var(--fill-color);\n",
              "      border-top-color: var(--fill-color);\n",
              "    }\n",
              "    60% {\n",
              "      border-color: transparent;\n",
              "      border-right-color: var(--fill-color);\n",
              "    }\n",
              "    80% {\n",
              "      border-color: transparent;\n",
              "      border-right-color: var(--fill-color);\n",
              "      border-bottom-color: var(--fill-color);\n",
              "    }\n",
              "    90% {\n",
              "      border-color: transparent;\n",
              "      border-bottom-color: var(--fill-color);\n",
              "    }\n",
              "  }\n",
              "</style>\n",
              "\n",
              "      <script>\n",
              "        async function quickchart(key) {\n",
              "          const quickchartButtonEl =\n",
              "            document.querySelector('#' + key + ' button');\n",
              "          quickchartButtonEl.disabled = true;  // To prevent multiple clicks.\n",
              "          quickchartButtonEl.classList.add('colab-df-spinner');\n",
              "          try {\n",
              "            const charts = await google.colab.kernel.invokeFunction(\n",
              "                'suggestCharts', [key], {});\n",
              "          } catch (error) {\n",
              "            console.error('Error during call to suggestCharts:', error);\n",
              "          }\n",
              "          quickchartButtonEl.classList.remove('colab-df-spinner');\n",
              "          quickchartButtonEl.classList.add('colab-df-quickchart-complete');\n",
              "        }\n",
              "        (() => {\n",
              "          let quickchartButtonEl =\n",
              "            document.querySelector('#df-6b76380d-1bfb-4fa2-bdbf-9a562fd4c9da button');\n",
              "          quickchartButtonEl.style.display =\n",
              "            google.colab.kernel.accessAllowed ? 'block' : 'none';\n",
              "        })();\n",
              "      </script>\n",
              "    </div>\n",
              "\n",
              "    </div>\n",
              "  </div>\n"
            ],
            "text/plain": [
              "   기준_년분기_코드 자치구_코드_명 서비스_업종_코드_명   점포_수  유사_업종_점포_수  개업_률  개업_점포_수  폐업_률  \\\n",
              "0      20191      강남구         PC방  122.0       132.0   9.8     13.0   6.8   \n",
              "1      20191      강남구          가구  435.0       436.0   2.8     12.0   0.7   \n",
              "2      20191      강남구          가방  279.0       280.0   4.3     12.0   3.6   \n",
              "3      20191      강남구        가전제품  163.0       163.0   1.8      3.0   1.2   \n",
              "4      20191      강남구      가전제품수리   92.0        92.0   3.3      3.0   1.1   \n",
              "\n",
              "   폐업_점포_수  프랜차이즈_점포_수  ...  남성연령대_30_직장_인구_수  남성연령대_40_직장_인구_수  \\\n",
              "0      9.0        10.0  ...          178522.0          164466.0   \n",
              "1      3.0         1.0  ...          178522.0          164466.0   \n",
              "2     10.0         1.0  ...          178522.0          164466.0   \n",
              "3      2.0         0.0  ...          178522.0          164466.0   \n",
              "4      1.0         0.0  ...          178522.0          164466.0   \n",
              "\n",
              "   남성연령대_50_직장_인구_수  남성연령대_60_이상_직장_인구_수  여성연령대_10_직장_인구_수  여성연령대_20_직장_인구_수  \\\n",
              "0          100728.0              44021.0            1679.0           99408.0   \n",
              "1          100728.0              44021.0            1679.0           99408.0   \n",
              "2          100728.0              44021.0            1679.0           99408.0   \n",
              "3          100728.0              44021.0            1679.0           99408.0   \n",
              "4          100728.0              44021.0            1679.0           99408.0   \n",
              "\n",
              "   여성연령대_30_직장_인구_수  여성연령대_40_직장_인구_수  여성연령대_50_직장_인구_수  여성연령대_60_이상_직장_인구_수  \n",
              "0          108205.0           74466.0           54523.0              22838.0  \n",
              "1          108205.0           74466.0           54523.0              22838.0  \n",
              "2          108205.0           74466.0           54523.0              22838.0  \n",
              "3          108205.0           74466.0           54523.0              22838.0  \n",
              "4          108205.0           74466.0           54523.0              22838.0  \n",
              "\n",
              "[5 rows x 137 columns]"
            ]
          },
          "execution_count": 8,
          "metadata": {},
          "output_type": "execute_result"
        }
      ],
      "source": [
        "# 데이터 미리보기\n",
        "print(\"\\n[데이터 미리보기]\")\n",
        "df.head()"
      ]
    },
    {
      "cell_type": "code",
      "execution_count": 9,
      "metadata": {
        "colab": {
          "base_uri": "https://localhost:8080/",
          "height": 558
        },
        "id": "Jp15p2xQHbjw",
        "outputId": "fc28f535-ce8c-4d63-a1a2-99b408296d84"
      },
      "outputs": [
        {
          "name": "stdout",
          "output_type": "stream",
          "text": [
            "\n",
            "[폐업률 통계]\n",
            "count    39975.000000\n",
            "mean         2.589829\n",
            "std          2.001541\n",
            "min          0.000000\n",
            "25%          1.200000\n",
            "50%          2.300000\n",
            "75%          3.600000\n",
            "max         33.300000\n",
            "Name: 폐업_률, dtype: float64\n"
          ]
        },
        {
          "data": {
            "image/png": "[encoded data removed]",
            "text/plain": [
              "<Figure size 1400x500 with 2 Axes>"
            ]
          },
          "metadata": {},
          "output_type": "display_data"
        }
      ],
      "source": [
        "# 기본 통계\n",
        "print(\"\\n[폐업률 통계]\")\n",
        "print(df['폐업_률'].describe())\n",
        "\n",
        "# 폐업률 분포 시각화\n",
        "fig, axes = plt.subplots(1, 2, figsize=(14, 5))\n",
        "\n",
        "axes[0].hist(df['폐업_률'], bins=50, edgecolor='black')\n",
        "axes[0].set_xlabel('폐업률 (%)', fontsize=12)\n",
        "axes[0].set_ylabel('빈도', fontsize=12)\n",
        "axes[0].set_title('폐업률 분포', fontsize=14)\n",
        "axes[0].grid(True, alpha=0.3)\n",
        "\n",
        "axes[1].boxplot(df['폐업_률'])\n",
        "axes[1].set_ylabel('폐업률 (%)', fontsize=12)\n",
        "axes[1].set_title('폐업률 박스플롯', fontsize=14)\n",
        "axes[1].grid(True, alpha=0.3, axis='y')\n",
        "\n",
        "plt.tight_layout()\n",
        "plt.show()"
      ]
    },
    {
      "cell_type": "markdown",
      "metadata": {
        "id": "u1TsSsV3Hbjw"
      },
      "source": [
        "## 3. 타겟 변수 생성"
      ]
    },
    {
      "cell_type": "code",
      "execution_count": 10,
      "metadata": {
        "colab": {
          "base_uri": "https://localhost:8080/"
        },
        "id": "6azwZP2qHbjw",
        "outputId": "fb21a7c2-7aff-4e9f-936a-fa055a125073"
      },
      "outputs": [
        {
          "name": "stdout",
          "output_type": "stream",
          "text": [
            "✓ 타겟 변수 생성 완료\n",
            "  - 폐업률 임계값: 2.30%\n",
            "\n",
            "✓ 클래스 분포:\n",
            "closure_risk\n",
            "1    20320\n",
            "0    19655\n",
            "Name: count, dtype: int64\n",
            "\n",
            "✓ 클래스 비율:\n",
            "  - Class 1: 50.83%\n",
            "  - Class 0: 49.17%\n"
          ]
        }
      ],
      "source": [
        "# 폐업률 상위 50%를 High Risk로 분류\n",
        "threshold_percentile = 50\n",
        "threshold = df['폐업_률'].quantile(threshold_percentile / 100)\n",
        "\n",
        "df['closure_risk'] = (df['폐업_률'] >= threshold).astype(int)\n",
        "\n",
        "print(f\"✓ 타겟 변수 생성 완료\")\n",
        "print(f\"  - 폐업률 임계값: {threshold:.2f}%\")\n",
        "print(f\"\\n✓ 클래스 분포:\")\n",
        "print(df['closure_risk'].value_counts())\n",
        "print(f\"\\n✓ 클래스 비율:\")\n",
        "for cls, count in df['closure_risk'].value_counts().items():\n",
        "    print(f\"  - Class {cls}: {count/len(df)*100:.2f}%\")"
      ]
    },
    {
      "cell_type": "code",
      "execution_count": 11,
      "metadata": {
        "colab": {
          "base_uri": "https://localhost:8080/",
          "height": 607
        },
        "id": "G6M09Jm0Hbjx",
        "outputId": "39c8c723-f7d1-4e58-afe1-9cace29a23ca"
      },
      "outputs": [
        {
          "data": {
            "image/png": "[encoded data removed]",
            "text/plain": [
              "<Figure size 800x600 with 1 Axes>"
            ]
          },
          "metadata": {},
          "output_type": "display_data"
        }
      ],
      "source": [
        "# 클래스 분포 시각화\n",
        "fig, ax = plt.subplots(figsize=(8, 6))\n",
        "df['closure_risk'].value_counts().plot(kind='bar', ax=ax, color=['#3498db', '#e74c3c'])\n",
        "ax.set_xlabel('클래스 (0: Low Risk, 1: High Risk)', fontsize=12)\n",
        "ax.set_ylabel('개수', fontsize=12)\n",
        "ax.set_title('타겟 변수 클래스 분포', fontsize=14)\n",
        "ax.set_xticklabels(['Low Risk', 'High Risk'], rotation=0)\n",
        "plt.tight_layout()\n",
        "plt.show()"
      ]
    },
    {
      "cell_type": "markdown",
      "metadata": {
        "id": "F3zvA3JsHbjx"
      },
      "source": [
        "## 4. 데이터 전처리"
      ]
    },
    {
      "cell_type": "code",
      "execution_count": null,
      "metadata": {
        "colab": {
          "base_uri": "https://localhost:8080/"
        },
        "id": "4M4-QxOxHbjx",
        "outputId": "a2ee0ff7-8b2f-4734-f865-08c77e3b6128"
      },
      "outputs": [
        {
          "name": "stdout",
          "output_type": "stream",
          "text": [
            "✓ 범주형 변수 인코딩\n",
            "  - 자치구: 25개\n",
            "  - 업종: 63개\n",
            "  - 상권 변화 지표: 4개\n",
            "  - 분기 범위: 20191 ~ 20252\n",
            "\n",
            "✓ Feature Engineering\n",
            "  - 현재 총 컬럼 수: 165\n"
          ]
        }
      ],
      "source": [
        "# 범주형 변수 인코딩\n",
        "print(\"✓ 범주형 변수 인코딩\")\n",
        "\n",
        "# 자치구 인코딩\n",
        "le_district = LabelEncoder()\n",
        "df['자치구_encoded'] = le_district.fit_transform(df['자치구_코드_명'])\n",
        "print(f\"  - 자치구: {len(le_district.classes_)}개\")\n",
        "\n",
        "# 업종 인코딩\n",
        "le_industry = LabelEncoder()\n",
        "df['업종_encoded'] = le_industry.fit_transform(df['서비스_업종_코드_명'])\n",
        "print(f\"  - 업종: {len(le_industry.classes_)}개\")\n",
        "\n",
        "# 상권변화지표 인코딩\n",
        "le_change = LabelEncoder()\n",
        "df['상권변화_encoded'] = le_change.fit_transform(df['상권_변화_지표'])\n",
        "print(f\"  - 상권 변화 지표: {len(le_change.classes_)}개\")\n",
        "\n",
        "# 분기 정보 추출\n",
        "df['year'] = df['기준_년분기_코드'].astype(str).str[:4].astype(int)\n",
        "df['quarter'] = df['기준_년분기_코드'].astype(str).str[4:].astype(int)\n",
        "df['year_quarter'] = df['year'] * 10 + df['quarter']\n",
        "\n",
        "print(f\"  - 분기 범위: {df['year_quarter'].min()} ~ {df['year_quarter'].max()}\")\n",
        "\n",
        "# Feature Engineering\n",
        "print(\"\\n✓ Feature Engineering\")\n",
        "\n",
        "# 시계열 순서대로 정렬\n",
        "df = df.sort_values(['자치구_encoded', '업종_encoded', 'year_quarter'])\n",
        "\n",
        "# Interaction Features\n",
        "df['점포당_매출'] = df['당월_매출_금액'] / (df['점포_수'] + 1)\n",
        "df['건당_매출'] = df['당월_매출_금액'] / (df['당월_매출_건수'] + 1)\n",
        "df['점포당_유동인구'] = df['총_유동인구_수'] / (df['점포_수'] + 1)\n",
        "# 지난 분기(lag1)의 개업률, 폐업률 -> 해당 분기 이전 폐업률 활용\n",
        "df['개업_률_lag1'] = df.groupby(['자치구_encoded', '업종_encoded'])['개업_률'].shift(1)\n",
        "df['폐업_률_lag1'] = df.groupby(['자치구_encoded', '업종_encoded'])['폐업_률'].shift(1)\n",
        "# 지난 분기의 개폐업 비율\n",
        "df['개폐업_비율_lag1'] = df['개업_률_lag1'] / (df['폐업_률_lag1'] + 0.1)\n",
        "\n",
        "# Ratio Features\n",
        "df['남성_매출_비율'] = df['남성_매출_금액'] / (df['당월_매출_금액'] + 1)\n",
        "df['여성_매출_비율'] = df['여성_매출_금액'] / (df['당월_매출_금액'] + 1)\n",
        "df['주말_매출_비율'] = (df['토요일_매출_금액'] + df['일요일_매출_금액']) / (df['당월_매출_금액'] + 1)\n",
        "df['야간_매출_비율'] = (df['시간대_00_06_매출_금액'] + df['시간대_21_24_매출_금액']) / (df['당월_매출_금액'] + 1)\n",
        "df['연령대_20_매출_비율'] = df['연령대_20_매출_금액'] / (df['당월_매출_금액'] + 1)\n",
        "df['연령대_30_매출_비율'] = df['연령대_30_매출_금액'] / (df['당월_매출_금액'] + 1)\n",
        "\n",
        "\n",
        "# Aggregation Features\n",
        "df['총_인구'] = df['총_유동인구_수'] + df['총_상주인구_수'] + df['총_직장인구_수']\n",
        "df['1인당_소득'] = df['월_평균_소득_금액'] / (df['총_상주인구_수'] + 1)\n",
        "df['소득지출비율'] = df['월_평균_소득_금액'] / (df['지출_총_금액'] + 1)\n",
        "df['점포당_가구수'] = df['총_가구_수'] / (df['점포_수'] + 1)\n",
        "\n",
        "\n",
        "# Density Features\n",
        "df['유동인구_밀집도'] = df['총_유동인구_수'] / (df['총_상주인구_수'] + 1)\n",
        "df['직장인구_비율'] = df['총_직장인구_수'] / (df['총_상주인구_수'] + 1)\n",
        "df['점포_밀집도'] = df['점포_수'] / (df['유사_업종_점포_수'] + 1)\n",
        "\n",
        "\n",
        "# Competition Features\n",
        "df['프랜차이즈_비율'] = df['프랜차이즈_점포_수'] / (df['점포_수'] + 1)\n",
        "df['경쟁도'] = df['유사_업종_점포_수'] / (df['점포_수'] + 1)\n",
        "\n",
        "\n",
        "\n",
        "print(f\"  - 현재 총 컬럼 수: {len(df.columns)}\")"
      ]
    },
    {
      "cell_type": "code",
      "execution_count": 13,
      "metadata": {
        "colab": {
          "base_uri": "https://localhost:8080/"
        },
        "id": "TFIHl6QhHbjx",
        "outputId": "1c36346c-a2b9-47f9-e788-6e729384bd8f"
      },
      "outputs": [
        {
          "name": "stdout",
          "output_type": "stream",
          "text": [
            "\n",
            "✓ Feature 선택\n",
            "  - 전체 컬럼 수: 165\n",
            "  - 제외 컬럼 수: 10\n",
            "  - 사용 feature 수: 155\n",
            "\n",
            "  - 범주형 feature: 3개\n",
            "    - cat_idxs: [131, 132, 133]\n",
            "    - cat_dims: [25, 63, 4]\n"
          ]
        }
      ],
      "source": [
        "# Feature 선택\n",
        "print(\"\\n✓ Feature 선택\")\n",
        "\n",
        "# 범주형 변수 (인코딩된 버전 사용)\n",
        "categorical_features = ['자치구_encoded', '업종_encoded', '상권변화_encoded']\n",
        "\n",
        "# 제외할 컬럼들\n",
        "exclude_cols = [\n",
        "    # 원본 범주형 변수 (인코딩 전)\n",
        "    '기준_년분기_코드', '자치구_코드_명', '서비스_업종_코드_명', '상권_변화_지표',\n",
        "\n",
        "    # 타겟 변수 및 타겟과 직접 연관된 변수\n",
        "    '폐업_률', '폐업_점포_수', 'closure_risk',\n",
        "\n",
        "    # 시간 정보 (정렬용으로만 사용)\n",
        "    'year', 'quarter', 'year_quarter'\n",
        "]\n",
        "\n",
        "# 사용 가능한 feature 선택\n",
        "feature_cols = [col for col in df.columns if col not in exclude_cols]\n",
        "\n",
        "# 범주형 feature의 인덱스 및 차원 설정 (TabNet용)\n",
        "cat_idxs = [feature_cols.index(col) for col in categorical_features]\n",
        "cat_dims = [\n",
        "    len(le_district.classes_),\n",
        "    len(le_industry.classes_),\n",
        "    len(le_change.classes_)\n",
        "]\n",
        "\n",
        "print(f\"  - 전체 컬럼 수: {len(df.columns)}\")\n",
        "print(f\"  - 제외 컬럼 수: {len(exclude_cols)}\")\n",
        "print(f\"  - 사용 feature 수: {len(feature_cols)}\")\n",
        "print(f\"\\n  - 범주형 feature: {len(categorical_features)}개\")\n",
        "print(f\"    - cat_idxs: {cat_idxs}\")\n",
        "print(f\"    - cat_dims: {cat_dims}\")"
      ]
    },
    {
      "cell_type": "code",
      "execution_count": 14,
      "metadata": {
        "colab": {
          "base_uri": "https://localhost:8080/"
        },
        "id": "yZQ1-x1bHbjy",
        "outputId": "cc28f2f6-4676-4e4d-eb46-fb2beefebf72"
      },
      "outputs": [
        {
          "name": "stdout",
          "output_type": "stream",
          "text": [
            "\n",
            "✓ 결측치 처리\n",
            "  - 결측치가 있는 feature: 3개\n",
            "    - 개업_률_lag1: 1556개 (3.89%)\n",
            "    - 폐업_률_lag1: 1556개 (3.89%)\n",
            "    - 개폐업_비율_lag1: 1556개 (3.89%)\n",
            "\n",
            "  - 제거된 행 수: 1556 (3.89%)\n",
            "  - 최종 데이터 shape: (38419, 165)\n"
          ]
        }
      ],
      "source": [
        "# 결측치 처리\n",
        "print(\"\\n✓ 결측치 처리\")\n",
        "\n",
        "# 무한대 값 처리\n",
        "df = df.replace([np.inf, -np.inf], np.nan)\n",
        "\n",
        "# 결측치 확인\n",
        "missing_counts = df[feature_cols].isnull().sum()\n",
        "missing_features = missing_counts[missing_counts > 0]\n",
        "\n",
        "if len(missing_features) > 0:\n",
        "    print(f\"  - 결측치가 있는 feature: {len(missing_features)}개\")\n",
        "    for feat, count in missing_features.items():\n",
        "        print(f\"    - {feat}: {count}개 ({count/len(df)*100:.2f}%)\")\n",
        "else:\n",
        "    print(\"  - 결측치 없음\")\n",
        "\n",
        "# 결측치가 있는 행 제거\n",
        "df_clean = df.dropna(subset=feature_cols)\n",
        "removed_rows = len(df) - len(df_clean)\n",
        "\n",
        "print(f\"\\n  - 제거된 행 수: {removed_rows} ({removed_rows/len(df)*100:.2f}%)\")\n",
        "print(f\"  - 최종 데이터 shape: {df_clean.shape}\")"
      ]
    },
    {
      "cell_type": "markdown",
      "metadata": {
        "id": "TBCoxOthHbjy"
      },
      "source": [
        "## 5. 데이터 분할"
      ]
    },
    {
      "cell_type": "code",
      "execution_count": 15,
      "metadata": {
        "colab": {
          "base_uri": "https://localhost:8080/"
        },
        "id": "yxrKna4hHbjy",
        "outputId": "f9f8097f-280a-4ccd-c5e4-669aee80a2e8"
      },
      "outputs": [
        {
          "name": "stdout",
          "output_type": "stream",
          "text": [
            "✓ 데이터 분할 완료\n",
            "\n",
            "  Train: (26893, 155) (70.0%)\n",
            "    - Class 0: 13447, Class 1: 13446\n",
            "\n",
            "  Validation: (3841, 155) (10.0%)\n",
            "    - Class 0: 1791, Class 1: 2050\n",
            "\n",
            "  Test: (7685, 155) (20.0%)\n",
            "    - Class 0: 3695, Class 1: 3990\n"
          ]
        }
      ],
      "source": [
        "# 시계열 순서대로 정렬\n",
        "df_sorted = df_clean.sort_values('year_quarter')\n",
        "\n",
        "# Train/Val/Test 분할\n",
        "train_size = 0.7\n",
        "val_size = 0.1\n",
        "test_size = 0.2\n",
        "\n",
        "n_total = len(df_sorted)\n",
        "n_train = int(n_total * train_size)\n",
        "n_val = int(n_total * val_size)\n",
        "\n",
        "train_df = df_sorted.iloc[:n_train]\n",
        "val_df = df_sorted.iloc[n_train:n_train+n_val]\n",
        "test_df = df_sorted.iloc[n_train+n_val:]\n",
        "\n",
        "# 범주형과 연속형 분리\n",
        "categorical_mask = np.zeros(len(feature_cols), dtype=bool)\n",
        "for idx in cat_idxs:\n",
        "    categorical_mask[idx] = True\n",
        "\n",
        "continuous_mask = ~categorical_mask\n",
        "\n",
        "# 데이터 추출\n",
        "X_train = train_df[feature_cols].values\n",
        "y_train = train_df['closure_risk'].values\n",
        "\n",
        "X_val = val_df[feature_cols].values\n",
        "y_val = val_df['closure_risk'].values\n",
        "\n",
        "X_test = test_df[feature_cols].values\n",
        "y_test = test_df['closure_risk'].values\n",
        "\n",
        "print(\"✓ 데이터 분할 완료\")\n",
        "print(f\"\\n  Train: {X_train.shape} ({len(X_train)/n_total*100:.1f}%)\")\n",
        "print(f\"    - Class 0: {(y_train==0).sum()}, Class 1: {(y_train==1).sum()}\")\n",
        "print(f\"\\n  Validation: {X_val.shape} ({len(X_val)/n_total*100:.1f}%)\")\n",
        "print(f\"    - Class 0: {(y_val==0).sum()}, Class 1: {(y_val==1).sum()}\")\n",
        "print(f\"\\n  Test: {X_test.shape} ({len(X_test)/n_total*100:.1f}%)\")\n",
        "print(f\"    - Class 0: {(y_test==0).sum()}, Class 1: {(y_test==1).sum()}\")"
      ]
    },
    {
      "cell_type": "code",
      "execution_count": 16,
      "metadata": {
        "colab": {
          "base_uri": "https://localhost:8080/"
        },
        "id": "PcM-r7m-Hbjy",
        "outputId": "71547a8b-002e-432f-cff7-8faa203d6d68"
      },
      "outputs": [
        {
          "name": "stdout",
          "output_type": "stream",
          "text": [
            "\n",
            "✓ Feature 스케일링 (연속형 변수만)\n",
            "  - 연속형 feature 수: 152개\n",
            "  - 범주형 feature 수: 3개\n",
            "  - Train 평균: 0.000000, 표준편차: 1.000000\n",
            "  - Val 평균: 0.009003, 표준편차: 1.098309\n",
            "  - Test 평균: 0.032105, 표준편차: 1.134352\n"
          ]
        }
      ],
      "source": [
        "# Feature 스케일링 (연속형 변수만)\n",
        "print(\"\\n✓ Feature 스케일링 (연속형 변수만)\")\n",
        "\n",
        "# 연속형 변수만 스케일링\n",
        "scaler = StandardScaler()\n",
        "X_train_continuous = X_train[:, continuous_mask].astype(np.float64)\n",
        "X_val_continuous = X_val[:, continuous_mask].astype(np.float64)\n",
        "X_test_continuous = X_test[:, continuous_mask].astype(np.float64)\n",
        "\n",
        "X_train_continuous_scaled = scaler.fit_transform(X_train_continuous)\n",
        "X_val_continuous_scaled = scaler.transform(X_val_continuous)\n",
        "X_test_continuous_scaled = scaler.transform(X_test_continuous)\n",
        "\n",
        "# 범주형과 스케일링된 연속형 결합\n",
        "X_train_scaled = X_train.copy()\n",
        "X_val_scaled = X_val.copy()\n",
        "X_test_scaled = X_test.copy()\n",
        "\n",
        "X_train_scaled[:, continuous_mask] = X_train_continuous_scaled\n",
        "X_val_scaled[:, continuous_mask] = X_val_continuous_scaled\n",
        "X_test_scaled[:, continuous_mask] = X_test_continuous_scaled\n",
        "\n",
        "# MPS 호환성\n",
        "if device == 'mps':\n",
        "    X_train_scaled = X_train_scaled.astype(np.float32)\n",
        "    X_val_scaled = X_val_scaled.astype(np.float32)\n",
        "    X_test_scaled = X_test_scaled.astype(np.float32)\n",
        "\n",
        "print(f\"  - 연속형 feature 수: {continuous_mask.sum()}개\")\n",
        "print(f\"  - 범주형 feature 수: {categorical_mask.sum()}개\")\n",
        "print(f\"  - Train 평균: {X_train_continuous_scaled.mean():.6f}, 표준편차: {X_train_continuous_scaled.std():.6f}\")\n",
        "print(f\"  - Val 평균: {X_val_continuous_scaled.mean():.6f}, 표준편차: {X_val_continuous_scaled.std():.6f}\")\n",
        "print(f\"  - Test 평균: {X_test_continuous_scaled.mean():.6f}, 표준편차: {X_test_continuous_scaled.std():.6f}\")"
      ]
    },
    {
      "cell_type": "markdown",
      "metadata": {
        "id": "DVwxwpQ8Hbjy"
      },
      "source": [
        "## 6. SMOTE 적용 (선택사항 - 균형 데이터에서는 불필요)"
      ]
    },
    {
      "cell_type": "code",
      "execution_count": 17,
      "metadata": {
        "colab": {
          "base_uri": "https://localhost:8080/"
        },
        "id": "h38dXSreHbjy",
        "outputId": "6d38120b-f214-44f0-c4e7-c6101f1ed73b"
      },
      "outputs": [
        {
          "name": "stdout",
          "output_type": "stream",
          "text": [
            "✓ 데이터 균형 확인\n",
            "\n",
            "  클래스 분포:\n",
            "    - Class 0: 13447 (50.00%)\n",
            "    - Class 1: 13446 (50.00%)\n",
            "    - 비율: 1.000\n",
            "\n",
            "✓ SMOTE 제거 (이미 균형 잡힌 데이터)\n",
            "  - 원본 데이터로 학습 진행\n"
          ]
        }
      ],
      "source": [
        "# SMOTE 제거\n",
        "print(\"✓ 데이터 균형 확인\")\n",
        "print(f\"\\n  클래스 분포:\")\n",
        "print(f\"    - Class 0: {(y_train==0).sum()} ({(y_train==0).sum()/len(y_train)*100:.2f}%)\")\n",
        "print(f\"    - Class 1: {(y_train==1).sum()} ({(y_train==1).sum()/len(y_train)*100:.2f}%)\")\n",
        "print(f\"    - 비율: {(y_train==1).sum() / (y_train==0).sum():.3f}\")\n",
        "\n",
        "print(f\"\\n✓ SMOTE 제거 (이미 균형 잡힌 데이터)\")\n",
        "print(f\"  - 원본 데이터로 학습 진행\")\n",
        "\n",
        "# SMOTE 적용하지 않음\n",
        "X_train_resampled = X_train_scaled\n",
        "y_train_resampled = y_train"
      ]
    },
    {
      "cell_type": "code",
      "execution_count": 18,
      "metadata": {
        "colab": {
          "base_uri": "https://localhost:8080/"
        },
        "id": "EhyUBIJZHbjy",
        "outputId": "28059e2e-21a8-41d0-bf47-afbd96765812"
      },
      "outputs": [
        {
          "name": "stdout",
          "output_type": "stream",
          "text": [
            "\n",
            "✓ 클래스 가중치 계산\n",
            "  클래스 가중치:\n",
            "    - Class 0: 1.0000\n",
            "    - Class 1: 1.0000\n"
          ]
        }
      ],
      "source": [
        "# 클래스 가중치 계산 (SMOTE 적용 후)\n",
        "print(\"\\n✓ 클래스 가중치 계산\")\n",
        "\n",
        "class_weights = compute_class_weight(\n",
        "    'balanced',\n",
        "    classes=np.unique(y_train_resampled),\n",
        "    y=y_train_resampled\n",
        ")\n",
        "weights_dict = {i: class_weights[i] for i in range(len(class_weights))}\n",
        "\n",
        "print(f\"  클래스 가중치:\")\n",
        "for cls, weight in weights_dict.items():\n",
        "    print(f\"    - Class {cls}: {weight:.4f}\")"
      ]
    },
    {
      "cell_type": "markdown",
      "metadata": {
        "id": "A0jcaQ2PHbjz"
      },
      "source": [
        "## 7. TabNet 모델 학습 - Hyperparameter Tuning with Optuna"
      ]
    },
    {
      "cell_type": "code",
      "execution_count": 19,
      "metadata": {
        "colab": {
          "base_uri": "https://localhost:8080/"
        },
        "id": "5id4io04Hbjz",
        "outputId": "4beda296-975d-4afb-9d2d-ca3f8b94a700"
      },
      "outputs": [
        {
          "name": "stderr",
          "output_type": "stream",
          "text": [
            "[I 2025-10-11 12:50:18,780] A new study created in memory with name: no-name-1fc8fcdc-95be-47fd-bbba-e91294db2063\n"
          ]
        },
        {
          "name": "stdout",
          "output_type": "stream",
          "text": [
            "\n",
            "Early stopping occurred at epoch 42 with best_epoch = 32 and best_val_0_auc = 0.76459\n"
          ]
        },
        {
          "name": "stderr",
          "output_type": "stream",
          "text": [
            "[I 2025-10-11 12:52:02,649] Trial 0 finished with value: 0.7645863463659762 and parameters: {'mask_type': 'entmax', 'n_d': 48, 'n_steps': 7, 'gamma': 1.7000000000000002, 'lambda_sparse': 0.0005786214128494909, 'lr': 0.0031082613888779175}. Best is trial 0 with value: 0.7645863463659762.\n"
          ]
        },
        {
          "name": "stdout",
          "output_type": "stream",
          "text": [
            "Stop training because you reached max_epochs = 50 with best_epoch = 47 and best_val_0_auc = 0.80062\n"
          ]
        },
        {
          "name": "stderr",
          "output_type": "stream",
          "text": [
            "[I 2025-10-11 12:53:07,471] Trial 1 finished with value: 0.8006233062330623 and parameters: {'mask_type': 'entmax', 'n_d': 8, 'n_steps': 3, 'gamma': 1.9, 'lambda_sparse': 4.3226182827160935e-06, 'lr': 0.0055618654670690285}. Best is trial 1 with value: 0.8006233062330623.\n"
          ]
        },
        {
          "name": "stdout",
          "output_type": "stream",
          "text": [
            "Stop training because you reached max_epochs = 50 with best_epoch = 47 and best_val_0_auc = 0.77711\n"
          ]
        },
        {
          "name": "stderr",
          "output_type": "stream",
          "text": [
            "[I 2025-10-11 12:55:32,546] Trial 2 finished with value: 0.7771099399436205 and parameters: {'mask_type': 'entmax', 'n_d': 48, 'n_steps': 9, 'gamma': 1.0, 'lambda_sparse': 1.092923103498013e-06, 'lr': 0.0012526488414497633}. Best is trial 1 with value: 0.8006233062330623.\n"
          ]
        },
        {
          "name": "stdout",
          "output_type": "stream",
          "text": [
            "Stop training because you reached max_epochs = 50 with best_epoch = 47 and best_val_0_auc = 0.77942\n"
          ]
        },
        {
          "name": "stderr",
          "output_type": "stream",
          "text": [
            "[I 2025-10-11 12:56:52,114] Trial 3 finished with value: 0.7794220424616307 and parameters: {'mask_type': 'sparsemax', 'n_d': 64, 'n_steps': 4, 'gamma': 1.2, 'lambda_sparse': 5.837198148881796e-05, 'lr': 0.0017730647298382998}. Best is trial 1 with value: 0.8006233062330623.\n"
          ]
        },
        {
          "name": "stdout",
          "output_type": "stream",
          "text": [
            "Stop training because you reached max_epochs = 50 with best_epoch = 46 and best_val_0_auc = 0.80008\n"
          ]
        },
        {
          "name": "stderr",
          "output_type": "stream",
          "text": [
            "[I 2025-10-11 12:57:56,644] Trial 4 finished with value: 0.800076534433686 and parameters: {'mask_type': 'entmax', 'n_d': 16, 'n_steps': 3, 'gamma': 1.1, 'lambda_sparse': 2.5105890925763314e-05, 'lr': 0.0034777052894757916}. Best is trial 1 with value: 0.8006233062330623.\n"
          ]
        },
        {
          "name": "stdout",
          "output_type": "stream",
          "text": [
            "\n",
            "Early stopping occurred at epoch 45 with best_epoch = 35 and best_val_0_auc = 0.7657\n"
          ]
        },
        {
          "name": "stderr",
          "output_type": "stream",
          "text": [
            "[I 2025-10-11 12:59:20,074] Trial 5 finished with value: 0.7656967765657555 and parameters: {'mask_type': 'entmax', 'n_d': 16, 'n_steps': 5, 'gamma': 1.3, 'lambda_sparse': 0.0001401927397598974, 'lr': 0.001389019426448966}. Best is trial 1 with value: 0.8006233062330623.\n"
          ]
        },
        {
          "name": "stdout",
          "output_type": "stream",
          "text": [
            "Stop training because you reached max_epochs = 50 with best_epoch = 47 and best_val_0_auc = 0.78452\n"
          ]
        },
        {
          "name": "stderr",
          "output_type": "stream",
          "text": [
            "[I 2025-10-11 13:00:37,763] Trial 6 finished with value: 0.7845228854298594 and parameters: {'mask_type': 'entmax', 'n_d': 24, 'n_steps': 4, 'gamma': 1.6, 'lambda_sparse': 5.3866210832816634e-05, 'lr': 0.002237916897136346}. Best is trial 1 with value: 0.8006233062330623.\n"
          ]
        },
        {
          "name": "stdout",
          "output_type": "stream",
          "text": [
            "\n",
            "Early stopping occurred at epoch 35 with best_epoch = 25 and best_val_0_auc = 0.75816\n"
          ]
        },
        {
          "name": "stderr",
          "output_type": "stream",
          "text": [
            "[I 2025-10-11 13:02:32,446] Trial 7 finished with value: 0.7581648077787311 and parameters: {'mask_type': 'entmax', 'n_d': 24, 'n_steps': 10, 'gamma': 1.2, 'lambda_sparse': 7.763507888013234e-05, 'lr': 0.004792829539888534}. Best is trial 1 with value: 0.8006233062330623.\n"
          ]
        },
        {
          "name": "stdout",
          "output_type": "stream",
          "text": [
            "Stop training because you reached max_epochs = 50 with best_epoch = 41 and best_val_0_auc = 0.74427\n"
          ]
        },
        {
          "name": "stderr",
          "output_type": "stream",
          "text": [
            "[I 2025-10-11 13:03:49,939] Trial 8 finished with value: 0.744265228581934 and parameters: {'mask_type': 'sparsemax', 'n_d': 16, 'n_steps': 4, 'gamma': 1.1, 'lambda_sparse': 2.004685335575321e-05, 'lr': 0.0012803693538258776}. Best is trial 1 with value: 0.8006233062330623.\n"
          ]
        },
        {
          "name": "stdout",
          "output_type": "stream",
          "text": [
            "\n",
            "Early stopping occurred at epoch 49 with best_epoch = 39 and best_val_0_auc = 0.72719\n"
          ]
        },
        {
          "name": "stderr",
          "output_type": "stream",
          "text": [
            "[I 2025-10-11 13:05:59,980] Trial 9 finished with value: 0.7271879723822364 and parameters: {'mask_type': 'entmax', 'n_d': 8, 'n_steps': 8, 'gamma': 2.0, 'lambda_sparse': 0.00011697741139011645, 'lr': 0.0043081398466999305}. Best is trial 1 with value: 0.8006233062330623.\n"
          ]
        },
        {
          "name": "stdout",
          "output_type": "stream",
          "text": [
            "\n",
            "Early stopping occurred at epoch 42 with best_epoch = 32 and best_val_0_auc = 0.75677\n"
          ]
        },
        {
          "name": "stderr",
          "output_type": "stream",
          "text": [
            "[I 2025-10-11 13:07:29,996] Trial 10 finished with value: 0.7567713908294862 and parameters: {'mask_type': 'sparsemax', 'n_d': 40, 'n_steps': 6, 'gamma': 2.0, 'lambda_sparse': 2.7119233168072094e-06, 'lr': 0.012443111038930511}. Best is trial 1 with value: 0.8006233062330623.\n"
          ]
        },
        {
          "name": "stdout",
          "output_type": "stream",
          "text": [
            "Stop training because you reached max_epochs = 50 with best_epoch = 45 and best_val_0_auc = 0.81906\n"
          ]
        },
        {
          "name": "stderr",
          "output_type": "stream",
          "text": [
            "[I 2025-10-11 13:08:33,926] Trial 11 finished with value: 0.8190610232735493 and parameters: {'mask_type': 'entmax', 'n_d': 8, 'n_steps': 3, 'gamma': 1.4, 'lambda_sparse': 8.535518208081139e-06, 'lr': 0.01064696992621617}. Best is trial 11 with value: 0.8190610232735493.\n"
          ]
        },
        {
          "name": "stdout",
          "output_type": "stream",
          "text": [
            "\n",
            "Early stopping occurred at epoch 35 with best_epoch = 25 and best_val_0_auc = 0.8124\n"
          ]
        },
        {
          "name": "stderr",
          "output_type": "stream",
          "text": [
            "[I 2025-10-11 13:09:20,559] Trial 12 finished with value: 0.8123950375182143 and parameters: {'mask_type': 'entmax', 'n_d': 8, 'n_steps': 3, 'gamma': 1.4, 'lambda_sparse': 6.473291337821476e-06, 'lr': 0.00999849858110685}. Best is trial 11 with value: 0.8190610232735493.\n"
          ]
        },
        {
          "name": "stdout",
          "output_type": "stream",
          "text": [
            "\n",
            "Early stopping occurred at epoch 20 with best_epoch = 10 and best_val_0_auc = 0.78457\n"
          ]
        },
        {
          "name": "stderr",
          "output_type": "stream",
          "text": [
            "[I 2025-10-11 13:10:05,795] Trial 13 finished with value: 0.7845701406762811 and parameters: {'mask_type': 'entmax', 'n_d': 24, 'n_steps': 6, 'gamma': 1.4, 'lambda_sparse': 9.831091359403984e-06, 'lr': 0.024985534986685227}. Best is trial 11 with value: 0.8190610232735493.\n"
          ]
        },
        {
          "name": "stdout",
          "output_type": "stream",
          "text": [
            "\n",
            "Early stopping occurred at epoch 45 with best_epoch = 35 and best_val_0_auc = 0.80886\n"
          ]
        },
        {
          "name": "stderr",
          "output_type": "stream",
          "text": [
            "[I 2025-10-11 13:11:04,873] Trial 14 finished with value: 0.8088626057114843 and parameters: {'mask_type': 'sparsemax', 'n_d': 8, 'n_steps': 3, 'gamma': 1.5, 'lambda_sparse': 7.036351907298579e-06, 'lr': 0.00966755072438152}. Best is trial 11 with value: 0.8190610232735493.\n"
          ]
        },
        {
          "name": "stdout",
          "output_type": "stream",
          "text": [
            "\n",
            "Early stopping occurred at epoch 39 with best_epoch = 29 and best_val_0_auc = 0.7919\n"
          ]
        },
        {
          "name": "stderr",
          "output_type": "stream",
          "text": [
            "[I 2025-10-11 13:12:17,540] Trial 15 finished with value: 0.7918974275169888 and parameters: {'mask_type': 'entmax', 'n_d': 32, 'n_steps': 5, 'gamma': 1.7000000000000002, 'lambda_sparse': 2.208514717357715e-06, 'lr': 0.010056786131170272}. Best is trial 11 with value: 0.8190610232735493.\n"
          ]
        },
        {
          "name": "stdout",
          "output_type": "stream",
          "text": [
            "Stop training because you reached max_epochs = 50 with best_epoch = 48 and best_val_0_auc = 0.81883\n"
          ]
        },
        {
          "name": "stderr",
          "output_type": "stream",
          "text": [
            "[I 2025-10-11 13:13:48,090] Trial 16 finished with value: 0.8188252917705057 and parameters: {'mask_type': 'entmax', 'n_d': 32, 'n_steps': 5, 'gamma': 1.4, 'lambda_sparse': 1.420766007796661e-05, 'lr': 0.017468248517993546}. Best is trial 11 with value: 0.8190610232735493.\n"
          ]
        },
        {
          "name": "stdout",
          "output_type": "stream",
          "text": [
            "\n",
            "Early stopping occurred at epoch 35 with best_epoch = 25 and best_val_0_auc = 0.805\n"
          ]
        },
        {
          "name": "stderr",
          "output_type": "stream",
          "text": [
            "[I 2025-10-11 13:14:54,355] Trial 17 finished with value: 0.8050000680911332 and parameters: {'mask_type': 'entmax', 'n_d': 64, 'n_steps': 5, 'gamma': 1.5, 'lambda_sparse': 1.4211047737055736e-05, 'lr': 0.026833492780093983}. Best is trial 11 with value: 0.8190610232735493.\n"
          ]
        },
        {
          "name": "stdout",
          "output_type": "stream",
          "text": [
            "Stop training because you reached max_epochs = 50 with best_epoch = 47 and best_val_0_auc = 0.76942\n"
          ]
        },
        {
          "name": "stderr",
          "output_type": "stream",
          "text": [
            "[I 2025-10-11 13:16:51,440] Trial 18 finished with value: 0.7694171399000422 and parameters: {'mask_type': 'sparsemax', 'n_d': 40, 'n_steps': 7, 'gamma': 1.7000000000000002, 'lambda_sparse': 0.0002722962738689604, 'lr': 0.017610216364155273}. Best is trial 11 with value: 0.8190610232735493.\n"
          ]
        },
        {
          "name": "stdout",
          "output_type": "stream",
          "text": [
            "\n",
            "Early stopping occurred at epoch 48 with best_epoch = 38 and best_val_0_auc = 0.80616\n"
          ]
        },
        {
          "name": "stderr",
          "output_type": "stream",
          "text": [
            "[I 2025-10-11 13:18:07,848] Trial 19 finished with value: 0.8061597962713295 and parameters: {'mask_type': 'entmax', 'n_d': 56, 'n_steps': 4, 'gamma': 1.3, 'lambda_sparse': 3.282931687116339e-05, 'lr': 0.006989116772118993}. Best is trial 11 with value: 0.8190610232735493.\n"
          ]
        },
        {
          "name": "stdout",
          "output_type": "stream",
          "text": [
            "\n",
            "Early stopping occurred at epoch 29 with best_epoch = 19 and best_val_0_auc = 0.79242\n"
          ]
        },
        {
          "name": "stderr",
          "output_type": "stream",
          "text": [
            "[I 2025-10-11 13:19:03,282] Trial 20 finished with value: 0.7924228187005489 and parameters: {'mask_type': 'entmax', 'n_d': 32, 'n_steps': 5, 'gamma': 1.5, 'lambda_sparse': 1.4823307073703146e-06, 'lr': 0.016948668851852963}. Best is trial 11 with value: 0.8190610232735493.\n"
          ]
        },
        {
          "name": "stdout",
          "output_type": "stream",
          "text": [
            "\n",
            "Early stopping occurred at epoch 33 with best_epoch = 23 and best_val_0_auc = 0.8093\n"
          ]
        },
        {
          "name": "stderr",
          "output_type": "stream",
          "text": [
            "[I 2025-10-11 13:19:47,761] Trial 21 finished with value: 0.809300704062317 and parameters: {'mask_type': 'entmax', 'n_d': 16, 'n_steps': 3, 'gamma': 1.4, 'lambda_sparse': 5.908165186586008e-06, 'lr': 0.01348192455974682}. Best is trial 11 with value: 0.8190610232735493.\n"
          ]
        },
        {
          "name": "stdout",
          "output_type": "stream",
          "text": [
            "\n",
            "Early stopping occurred at epoch 49 with best_epoch = 39 and best_val_0_auc = 0.78953\n"
          ]
        },
        {
          "name": "stderr",
          "output_type": "stream",
          "text": [
            "[I 2025-10-11 13:21:05,154] Trial 22 finished with value: 0.7895292179052443 and parameters: {'mask_type': 'entmax', 'n_d': 8, 'n_steps': 4, 'gamma': 1.4, 'lambda_sparse': 1.230596064974213e-05, 'lr': 0.00806859036267002}. Best is trial 11 with value: 0.8190610232735493.\n"
          ]
        },
        {
          "name": "stdout",
          "output_type": "stream",
          "text": [
            "\n",
            "Early stopping occurred at epoch 39 with best_epoch = 29 and best_val_0_auc = 0.81839\n"
          ]
        },
        {
          "name": "stderr",
          "output_type": "stream",
          "text": [
            "[I 2025-10-11 13:21:57,139] Trial 23 finished with value: 0.8183884190600699 and parameters: {'mask_type': 'entmax', 'n_d': 24, 'n_steps': 3, 'gamma': 1.3, 'lambda_sparse': 3.71615362232154e-06, 'lr': 0.019133003834034323}. Best is trial 11 with value: 0.8190610232735493.\n"
          ]
        },
        {
          "name": "stdout",
          "output_type": "stream",
          "text": [
            "Stop training because you reached max_epochs = 50 with best_epoch = 42 and best_val_0_auc = 0.81082\n"
          ]
        },
        {
          "name": "stderr",
          "output_type": "stream",
          "text": [
            "[I 2025-10-11 13:23:41,170] Trial 24 finished with value: 0.8108202257901975 and parameters: {'mask_type': 'entmax', 'n_d': 32, 'n_steps': 6, 'gamma': 1.3, 'lambda_sparse': 4.093507798155199e-06, 'lr': 0.021094348833429272}. Best is trial 11 with value: 0.8190610232735493.\n"
          ]
        },
        {
          "name": "stdout",
          "output_type": "stream",
          "text": [
            "\n",
            "Early stopping occurred at epoch 37 with best_epoch = 27 and best_val_0_auc = 0.81418\n"
          ]
        },
        {
          "name": "stderr",
          "output_type": "stream",
          "text": [
            "[I 2025-10-11 13:24:40,474] Trial 25 finished with value: 0.8141787528428048 and parameters: {'mask_type': 'entmax', 'n_d': 24, 'n_steps': 4, 'gamma': 1.6, 'lambda_sparse': 2.6708181896734256e-06, 'lr': 0.014535470474737352}. Best is trial 11 with value: 0.8190610232735493.\n"
          ]
        },
        {
          "name": "stdout",
          "output_type": "stream",
          "text": [
            "\n",
            "Early stopping occurred at epoch 42 with best_epoch = 32 and best_val_0_auc = 0.80961\n"
          ]
        },
        {
          "name": "stderr",
          "output_type": "stream",
          "text": [
            "[I 2025-10-11 13:25:36,121] Trial 26 finished with value: 0.809612289087715 and parameters: {'mask_type': 'sparsemax', 'n_d': 40, 'n_steps': 3, 'gamma': 1.2, 'lambda_sparse': 1.6305782970204257e-05, 'lr': 0.019509532484367476}. Best is trial 11 with value: 0.8190610232735493.\n"
          ]
        },
        {
          "name": "stdout",
          "output_type": "stream",
          "text": [
            "\n",
            "Early stopping occurred at epoch 33 with best_epoch = 23 and best_val_0_auc = 0.81296\n"
          ]
        },
        {
          "name": "stderr",
          "output_type": "stream",
          "text": [
            "[I 2025-10-11 13:26:38,682] Trial 27 finished with value: 0.81296046628808 and parameters: {'mask_type': 'entmax', 'n_d': 32, 'n_steps': 5, 'gamma': 1.6, 'lambda_sparse': 3.782693731067419e-05, 'lr': 0.029146469517484314}. Best is trial 11 with value: 0.8190610232735493.\n"
          ]
        },
        {
          "name": "stdout",
          "output_type": "stream",
          "text": [
            "\n",
            "Early stopping occurred at epoch 24 with best_epoch = 14 and best_val_0_auc = 0.79473\n"
          ]
        },
        {
          "name": "stderr",
          "output_type": "stream",
          "text": [
            "[I 2025-10-11 13:27:18,623] Trial 28 finished with value: 0.7947311081151013 and parameters: {'mask_type': 'entmax', 'n_d': 24, 'n_steps': 4, 'gamma': 1.3, 'lambda_sparse': 9.876567576141785e-06, 'lr': 0.012451624013410678}. Best is trial 11 with value: 0.8190610232735493.\n"
          ]
        },
        {
          "name": "stdout",
          "output_type": "stream",
          "text": [
            "\n",
            "Early stopping occurred at epoch 34 with best_epoch = 24 and best_val_0_auc = 0.75456\n"
          ]
        },
        {
          "name": "stderr",
          "output_type": "stream",
          "text": [
            "[I 2025-10-11 13:28:42,011] Trial 29 finished with value: 0.7545636039274966 and parameters: {'mask_type': 'entmax', 'n_d': 48, 'n_steps': 7, 'gamma': 1.8, 'lambda_sparse': 0.0005435893068623584, 'lr': 0.0066882701588784075}. Best is trial 11 with value: 0.8190610232735493.\n"
          ]
        },
        {
          "name": "stdout",
          "output_type": "stream",
          "text": [
            "Best trial:\n",
            "  Value: 0.8190610232735493\n",
            "  Params: \n",
            "    mask_type: entmax\n",
            "    n_d: 8\n",
            "    n_steps: 3\n",
            "    gamma: 1.4\n",
            "    lambda_sparse: 8.535518208081139e-06\n",
            "    lr: 0.01064696992621617\n"
          ]
        }
      ],
      "source": [
        "import optuna\n",
        "from sklearn.metrics import roc_auc_score\n",
        "\n",
        "def objective(trial):\n",
        "    mask_type = trial.suggest_categorical(\"mask_type\", [\"entmax\", \"sparsemax\"])\n",
        "    n_d = trial.suggest_int(\"n_d\", 8, 64, step=8)\n",
        "    n_steps = trial.suggest_int(\"n_steps\", 3, 10, step=1)\n",
        "    gamma = trial.suggest_float(\"gamma\", 1.0, 2.0, step=0.1)\n",
        "    lambda_sparse = trial.suggest_float(\"lambda_sparse\", 1e-6, 1e-3, log=True)\n",
        "    lr = trial.suggest_float(\"lr\", 1e-3, 3e-2, log=True)\n",
        "\n",
        "    model = TabNetClassifier(\n",
        "        cat_idxs=cat_idxs,\n",
        "        cat_dims=cat_dims,\n",
        "        cat_emb_dim=3,\n",
        "        n_d=n_d,\n",
        "        n_a=n_d,\n",
        "        n_steps=n_steps,\n",
        "        gamma=gamma,\n",
        "        lambda_sparse=lambda_sparse,\n",
        "        mask_type=mask_type,\n",
        "        optimizer_params=dict(lr=lr),\n",
        "        scheduler_params={\"step_size\":50, \"gamma\":0.9},\n",
        "        scheduler_fn=torch.optim.lr_scheduler.StepLR,\n",
        "        seed=SEED,\n",
        "        verbose=0,\n",
        "        device_name=device,\n",
        "    )\n",
        "\n",
        "    model.fit(\n",
        "        X_train_resampled, y_train_resampled,\n",
        "        eval_set=[(X_val_scaled, y_val)],\n",
        "        max_epochs=50,\n",
        "        patience=10,\n",
        "        eval_metric=['auc'],\n",
        "    )\n",
        "\n",
        "    preds = model.predict_proba(X_val_scaled)[:, 1]\n",
        "    auc = roc_auc_score(y_val, preds)\n",
        "\n",
        "    return auc\n",
        "\n",
        "study = optuna.create_study(direction=\"maximize\")\n",
        "study.optimize(objective, n_trials=30)\n",
        "\n",
        "print(\"Best trial:\")\n",
        "trial = study.best_trial\n",
        "print(f\"  Value: {trial.value}\")\n",
        "print(\"  Params: \")\n",
        "for key, value in trial.params.items():\n",
        "    print(f\"    {key}: {value}\")\n",
        "\n",
        "best_params = trial.params"
      ]
    },
    {
      "cell_type": "code",
      "execution_count": 20,
      "metadata": {
        "colab": {
          "base_uri": "https://localhost:8080/"
        },
        "id": "vEJFO0JAHbjz",
        "outputId": "68e7d1e2-2b56-4f2f-9ef6-cb30cd231d23"
      },
      "outputs": [
        {
          "name": "stdout",
          "output_type": "stream",
          "text": [
            "✓ TabNet 모델 생성\n",
            "\n",
            "  모델 설정:\n",
            "    - cat_idxs: [131, 132, 133]\n",
            "    - cat_dims: [25, 63, 4]\n",
            "    - cat_emb_dim: 3\n",
            "    - n_d: 8\n",
            "    - n_a: 8\n",
            "    - n_steps: 3\n",
            "    - gamma: 1.4\n",
            "    - lambda_sparse: 0.000009\n",
            "    - learning_rate: 0.010647\n",
            "    - mask_type: entmax\n",
            "    - device: cuda\n"
          ]
        }
      ],
      "source": [
        "# TabNet 모델 생성\n",
        "print(\"✓ TabNet 모델 생성\")\n",
        "\n",
        "model = TabNetClassifier(\n",
        "    cat_idxs=cat_idxs,\n",
        "    cat_dims=cat_dims,\n",
        "    cat_emb_dim=3,\n",
        "    n_d=best_params['n_d'],\n",
        "    n_a=best_params['n_d'],\n",
        "    n_steps=best_params['n_steps'],\n",
        "    gamma=best_params['gamma'],\n",
        "    lambda_sparse=best_params['lambda_sparse'],\n",
        "    optimizer_fn=torch.optim.Adam,\n",
        "    optimizer_params=dict(lr=best_params['lr']),\n",
        "    scheduler_params={\"step_size\": 50, \"gamma\": 0.9},\n",
        "    scheduler_fn=torch.optim.lr_scheduler.StepLR,\n",
        "    mask_type=best_params['mask_type'],\n",
        "    seed=SEED,\n",
        "    verbose=1,\n",
        "    device_name=device,\n",
        ")\n",
        "\n",
        "print(f\"\\n  모델 설정:\")\n",
        "print(f\"    - cat_idxs: {cat_idxs}\")\n",
        "print(f\"    - cat_dims: {cat_dims}\")\n",
        "print(f\"    - cat_emb_dim: 3\")\n",
        "print(f\"    - n_d: {best_params['n_d']}\")\n",
        "print(f\"    - n_a: {best_params['n_d']}\")\n",
        "print(f\"    - n_steps: {best_params['n_steps']}\")\n",
        "print(f\"    - gamma: {best_params['gamma']}\")\n",
        "print(f\"    - lambda_sparse: {best_params['lambda_sparse']:.6f}\")\n",
        "print(f\"    - learning_rate: {best_params['lr']:.6f}\")\n",
        "print(f\"    - mask_type: {best_params['mask_type']}\")\n",
        "print(f\"    - device: {device}\")"
      ]
    },
    {
      "cell_type": "code",
      "execution_count": 21,
      "metadata": {
        "colab": {
          "base_uri": "https://localhost:8080/"
        },
        "id": "TM4OM1GkHbjz",
        "outputId": "77617ec4-f974-4ef9-e7a7-02ea90981287"
      },
      "outputs": [
        {
          "name": "stdout",
          "output_type": "stream",
          "text": [
            "\n",
            "✓ 모델 학습 시작\n",
            "\n",
            "epoch 0  | loss: 0.71467 | val_0_accuracy: 0.64384 | val_0_auc: 0.69563 | val_0_logloss: 0.67413 |  0:00:00s\n",
            "epoch 1  | loss: 0.6372  | val_0_accuracy: 0.68081 | val_0_auc: 0.73616 | val_0_logloss: 0.61289 |  0:00:01s\n",
            "epoch 2  | loss: 0.59168 | val_0_accuracy: 0.67795 | val_0_auc: 0.74281 | val_0_logloss: 0.61349 |  0:00:02s\n",
            "epoch 3  | loss: 0.57516 | val_0_accuracy: 0.67743 | val_0_auc: 0.74974 | val_0_logloss: 0.60789 |  0:00:03s\n",
            "epoch 4  | loss: 0.56619 | val_0_accuracy: 0.69643 | val_0_auc: 0.76821 | val_0_logloss: 0.57224 |  0:00:04s\n",
            "epoch 5  | loss: 0.56192 | val_0_accuracy: 0.70398 | val_0_auc: 0.77675 | val_0_logloss: 0.5665  |  0:00:05s\n",
            "epoch 6  | loss: 0.5561  | val_0_accuracy: 0.70893 | val_0_auc: 0.77721 | val_0_logloss: 0.5644  |  0:00:06s\n",
            "epoch 7  | loss: 0.55274 | val_0_accuracy: 0.70919 | val_0_auc: 0.77775 | val_0_logloss: 0.56337 |  0:00:07s\n",
            "epoch 8  | loss: 0.55164 | val_0_accuracy: 0.70893 | val_0_auc: 0.77911 | val_0_logloss: 0.56405 |  0:00:08s\n",
            "epoch 9  | loss: 0.55559 | val_0_accuracy: 0.70971 | val_0_auc: 0.78026 | val_0_logloss: 0.56189 |  0:00:09s\n",
            "epoch 10 | loss: 0.55159 | val_0_accuracy: 0.71257 | val_0_auc: 0.7832  | val_0_logloss: 0.55575 |  0:00:10s\n",
            "epoch 11 | loss: 0.5482  | val_0_accuracy: 0.7131  | val_0_auc: 0.7824  | val_0_logloss: 0.55554 |  0:00:11s\n",
            "epoch 12 | loss: 0.5475  | val_0_accuracy: 0.7144  | val_0_auc: 0.78256 | val_0_logloss: 0.55626 |  0:00:12s\n",
            "epoch 13 | loss: 0.54267 | val_0_accuracy: 0.71336 | val_0_auc: 0.78491 | val_0_logloss: 0.55709 |  0:00:13s\n",
            "epoch 14 | loss: 0.54461 | val_0_accuracy: 0.7131  | val_0_auc: 0.78401 | val_0_logloss: 0.55865 |  0:00:15s\n",
            "epoch 15 | loss: 0.53934 | val_0_accuracy: 0.71414 | val_0_auc: 0.78456 | val_0_logloss: 0.5568  |  0:00:16s\n",
            "epoch 16 | loss: 0.53798 | val_0_accuracy: 0.71492 | val_0_auc: 0.78722 | val_0_logloss: 0.55261 |  0:00:17s\n",
            "epoch 17 | loss: 0.53634 | val_0_accuracy: 0.71049 | val_0_auc: 0.78604 | val_0_logloss: 0.55564 |  0:00:18s\n",
            "epoch 18 | loss: 0.53363 | val_0_accuracy: 0.71336 | val_0_auc: 0.78679 | val_0_logloss: 0.55823 |  0:00:19s\n",
            "epoch 19 | loss: 0.53141 | val_0_accuracy: 0.70919 | val_0_auc: 0.79055 | val_0_logloss: 0.54905 |  0:00:20s\n",
            "epoch 20 | loss: 0.53019 | val_0_accuracy: 0.70841 | val_0_auc: 0.78904 | val_0_logloss: 0.55218 |  0:00:21s\n",
            "epoch 21 | loss: 0.52816 | val_0_accuracy: 0.69982 | val_0_auc: 0.78931 | val_0_logloss: 0.55649 |  0:00:22s\n",
            "epoch 22 | loss: 0.52667 | val_0_accuracy: 0.70893 | val_0_auc: 0.79323 | val_0_logloss: 0.54887 |  0:00:23s\n",
            "epoch 23 | loss: 0.52427 | val_0_accuracy: 0.71023 | val_0_auc: 0.79028 | val_0_logloss: 0.55383 |  0:00:24s\n",
            "epoch 24 | loss: 0.52331 | val_0_accuracy: 0.71179 | val_0_auc: 0.79174 | val_0_logloss: 0.54794 |  0:00:25s\n",
            "epoch 25 | loss: 0.52337 | val_0_accuracy: 0.70555 | val_0_auc: 0.79567 | val_0_logloss: 0.546   |  0:00:26s\n",
            "epoch 26 | loss: 0.52376 | val_0_accuracy: 0.70294 | val_0_auc: 0.79625 | val_0_logloss: 0.5538  |  0:00:27s\n",
            "epoch 27 | loss: 0.52215 | val_0_accuracy: 0.71179 | val_0_auc: 0.79367 | val_0_logloss: 0.54797 |  0:00:28s\n",
            "epoch 28 | loss: 0.51894 | val_0_accuracy: 0.70711 | val_0_auc: 0.79741 | val_0_logloss: 0.54338 |  0:00:29s\n",
            "epoch 29 | loss: 0.51822 | val_0_accuracy: 0.70659 | val_0_auc: 0.79915 | val_0_logloss: 0.5446  |  0:00:30s\n",
            "epoch 30 | loss: 0.51675 | val_0_accuracy: 0.71075 | val_0_auc: 0.80035 | val_0_logloss: 0.54552 |  0:00:30s\n",
            "epoch 31 | loss: 0.51267 | val_0_accuracy: 0.71414 | val_0_auc: 0.8012  | val_0_logloss: 0.5393  |  0:00:31s\n",
            "epoch 32 | loss: 0.51042 | val_0_accuracy: 0.71023 | val_0_auc: 0.80283 | val_0_logloss: 0.54119 |  0:00:33s\n",
            "epoch 33 | loss: 0.50958 | val_0_accuracy: 0.70789 | val_0_auc: 0.79603 | val_0_logloss: 0.54944 |  0:00:33s\n",
            "epoch 34 | loss: 0.5094  | val_0_accuracy: 0.71544 | val_0_auc: 0.7984  | val_0_logloss: 0.54004 |  0:00:34s\n",
            "epoch 35 | loss: 0.50829 | val_0_accuracy: 0.70893 | val_0_auc: 0.79293 | val_0_logloss: 0.5467  |  0:00:35s\n",
            "epoch 36 | loss: 0.50922 | val_0_accuracy: 0.70424 | val_0_auc: 0.79386 | val_0_logloss: 0.55112 |  0:00:36s\n",
            "epoch 37 | loss: 0.50599 | val_0_accuracy: 0.70893 | val_0_auc: 0.79729 | val_0_logloss: 0.5482  |  0:00:37s\n",
            "epoch 38 | loss: 0.50284 | val_0_accuracy: 0.70711 | val_0_auc: 0.79765 | val_0_logloss: 0.54776 |  0:00:39s\n",
            "epoch 39 | loss: 0.50351 | val_0_accuracy: 0.70294 | val_0_auc: 0.79497 | val_0_logloss: 0.55141 |  0:00:40s\n",
            "epoch 40 | loss: 0.50187 | val_0_accuracy: 0.70815 | val_0_auc: 0.79355 | val_0_logloss: 0.54807 |  0:00:41s\n",
            "epoch 41 | loss: 0.50276 | val_0_accuracy: 0.70685 | val_0_auc: 0.79415 | val_0_logloss: 0.54698 |  0:00:42s\n",
            "epoch 42 | loss: 0.50223 | val_0_accuracy: 0.70138 | val_0_auc: 0.79344 | val_0_logloss: 0.55332 |  0:00:43s\n",
            "epoch 43 | loss: 0.50155 | val_0_accuracy: 0.7032  | val_0_auc: 0.79822 | val_0_logloss: 0.54614 |  0:00:44s\n",
            "epoch 44 | loss: 0.50015 | val_0_accuracy: 0.69357 | val_0_auc: 0.7913  | val_0_logloss: 0.55724 |  0:00:45s\n",
            "epoch 45 | loss: 0.49767 | val_0_accuracy: 0.6993  | val_0_auc: 0.79692 | val_0_logloss: 0.54657 |  0:00:46s\n",
            "epoch 46 | loss: 0.49549 | val_0_accuracy: 0.69826 | val_0_auc: 0.78883 | val_0_logloss: 0.55504 |  0:00:47s\n",
            "epoch 47 | loss: 0.49662 | val_0_accuracy: 0.70607 | val_0_auc: 0.79854 | val_0_logloss: 0.53712 |  0:00:47s\n",
            "epoch 48 | loss: 0.49806 | val_0_accuracy: 0.70763 | val_0_auc: 0.79831 | val_0_logloss: 0.53859 |  0:00:48s\n",
            "epoch 49 | loss: 0.49781 | val_0_accuracy: 0.69721 | val_0_auc: 0.79581 | val_0_logloss: 0.55582 |  0:00:49s\n",
            "epoch 50 | loss: 0.49543 | val_0_accuracy: 0.70529 | val_0_auc: 0.8004  | val_0_logloss: 0.54456 |  0:00:50s\n",
            "epoch 51 | loss: 0.493   | val_0_accuracy: 0.698   | val_0_auc: 0.7934  | val_0_logloss: 0.54995 |  0:00:51s\n",
            "epoch 52 | loss: 0.49452 | val_0_accuracy: 0.70502 | val_0_auc: 0.79444 | val_0_logloss: 0.54035 |  0:00:52s\n",
            "epoch 53 | loss: 0.49195 | val_0_accuracy: 0.69878 | val_0_auc: 0.79141 | val_0_logloss: 0.55089 |  0:00:53s\n",
            "epoch 54 | loss: 0.49198 | val_0_accuracy: 0.70372 | val_0_auc: 0.79724 | val_0_logloss: 0.54403 |  0:00:54s\n",
            "epoch 55 | loss: 0.48979 | val_0_accuracy: 0.71596 | val_0_auc: 0.79939 | val_0_logloss: 0.54177 |  0:00:55s\n",
            "epoch 56 | loss: 0.48992 | val_0_accuracy: 0.6993  | val_0_auc: 0.79502 | val_0_logloss: 0.55486 |  0:00:56s\n",
            "epoch 57 | loss: 0.48867 | val_0_accuracy: 0.7045  | val_0_auc: 0.79587 | val_0_logloss: 0.54884 |  0:00:57s\n",
            "epoch 58 | loss: 0.48712 | val_0_accuracy: 0.70555 | val_0_auc: 0.79674 | val_0_logloss: 0.55044 |  0:00:58s\n",
            "epoch 59 | loss: 0.48749 | val_0_accuracy: 0.71518 | val_0_auc: 0.80019 | val_0_logloss: 0.53748 |  0:00:59s\n",
            "epoch 60 | loss: 0.48579 | val_0_accuracy: 0.70737 | val_0_auc: 0.79762 | val_0_logloss: 0.54975 |  0:01:00s\n",
            "epoch 61 | loss: 0.48745 | val_0_accuracy: 0.71908 | val_0_auc: 0.80385 | val_0_logloss: 0.53137 |  0:01:01s\n",
            "epoch 62 | loss: 0.48551 | val_0_accuracy: 0.71284 | val_0_auc: 0.80072 | val_0_logloss: 0.53718 |  0:01:03s\n",
            "epoch 63 | loss: 0.48436 | val_0_accuracy: 0.71908 | val_0_auc: 0.79827 | val_0_logloss: 0.53831 |  0:01:04s\n",
            "epoch 64 | loss: 0.48385 | val_0_accuracy: 0.71596 | val_0_auc: 0.799   | val_0_logloss: 0.54298 |  0:01:05s\n",
            "epoch 65 | loss: 0.48409 | val_0_accuracy: 0.71466 | val_0_auc: 0.79876 | val_0_logloss: 0.54548 |  0:01:06s\n",
            "epoch 66 | loss: 0.48284 | val_0_accuracy: 0.70945 | val_0_auc: 0.79331 | val_0_logloss: 0.54739 |  0:01:07s\n",
            "epoch 67 | loss: 0.48365 | val_0_accuracy: 0.71518 | val_0_auc: 0.79592 | val_0_logloss: 0.54192 |  0:01:08s\n",
            "epoch 68 | loss: 0.48181 | val_0_accuracy: 0.71544 | val_0_auc: 0.80085 | val_0_logloss: 0.53826 |  0:01:09s\n",
            "epoch 69 | loss: 0.48109 | val_0_accuracy: 0.72221 | val_0_auc: 0.80209 | val_0_logloss: 0.53385 |  0:01:10s\n",
            "epoch 70 | loss: 0.48118 | val_0_accuracy: 0.71205 | val_0_auc: 0.79897 | val_0_logloss: 0.54341 |  0:01:11s\n",
            "epoch 71 | loss: 0.48071 | val_0_accuracy: 0.72143 | val_0_auc: 0.80313 | val_0_logloss: 0.53556 |  0:01:12s\n",
            "epoch 72 | loss: 0.47853 | val_0_accuracy: 0.71362 | val_0_auc: 0.7984  | val_0_logloss: 0.54773 |  0:01:13s\n",
            "epoch 73 | loss: 0.48151 | val_0_accuracy: 0.72585 | val_0_auc: 0.80633 | val_0_logloss: 0.5314  |  0:01:14s\n",
            "epoch 74 | loss: 0.48085 | val_0_accuracy: 0.717   | val_0_auc: 0.80145 | val_0_logloss: 0.5312  |  0:01:15s\n",
            "epoch 75 | loss: 0.47928 | val_0_accuracy: 0.72195 | val_0_auc: 0.80299 | val_0_logloss: 0.53536 |  0:01:16s\n",
            "epoch 76 | loss: 0.47658 | val_0_accuracy: 0.71362 | val_0_auc: 0.7975  | val_0_logloss: 0.53823 |  0:01:17s\n",
            "epoch 77 | loss: 0.47709 | val_0_accuracy: 0.72117 | val_0_auc: 0.8041  | val_0_logloss: 0.53208 |  0:01:18s\n",
            "epoch 78 | loss: 0.47537 | val_0_accuracy: 0.7183  | val_0_auc: 0.80348 | val_0_logloss: 0.53526 |  0:01:19s\n",
            "epoch 79 | loss: 0.4751  | val_0_accuracy: 0.71752 | val_0_auc: 0.7991  | val_0_logloss: 0.53591 |  0:01:20s\n",
            "epoch 80 | loss: 0.47527 | val_0_accuracy: 0.71284 | val_0_auc: 0.79636 | val_0_logloss: 0.54205 |  0:01:20s\n",
            "epoch 81 | loss: 0.4739  | val_0_accuracy: 0.7183  | val_0_auc: 0.80065 | val_0_logloss: 0.53848 |  0:01:22s\n",
            "epoch 82 | loss: 0.47177 | val_0_accuracy: 0.71856 | val_0_auc: 0.80343 | val_0_logloss: 0.53201 |  0:01:22s\n",
            "epoch 83 | loss: 0.47266 | val_0_accuracy: 0.72012 | val_0_auc: 0.80443 | val_0_logloss: 0.53514 |  0:01:23s\n",
            "epoch 84 | loss: 0.4716  | val_0_accuracy: 0.72091 | val_0_auc: 0.80074 | val_0_logloss: 0.53672 |  0:01:24s\n",
            "epoch 85 | loss: 0.47074 | val_0_accuracy: 0.70763 | val_0_auc: 0.79565 | val_0_logloss: 0.54072 |  0:01:25s\n",
            "epoch 86 | loss: 0.46908 | val_0_accuracy: 0.71492 | val_0_auc: 0.79742 | val_0_logloss: 0.53458 |  0:01:27s\n",
            "epoch 87 | loss: 0.47003 | val_0_accuracy: 0.71492 | val_0_auc: 0.79898 | val_0_logloss: 0.54028 |  0:01:28s\n",
            "epoch 88 | loss: 0.47132 | val_0_accuracy: 0.70789 | val_0_auc: 0.79246 | val_0_logloss: 0.54707 |  0:01:29s\n",
            "epoch 89 | loss: 0.46915 | val_0_accuracy: 0.71414 | val_0_auc: 0.79657 | val_0_logloss: 0.54591 |  0:01:30s\n",
            "epoch 90 | loss: 0.47181 | val_0_accuracy: 0.71257 | val_0_auc: 0.79897 | val_0_logloss: 0.54153 |  0:01:31s\n",
            "epoch 91 | loss: 0.47388 | val_0_accuracy: 0.71023 | val_0_auc: 0.79479 | val_0_logloss: 0.54339 |  0:01:32s\n",
            "epoch 92 | loss: 0.47176 | val_0_accuracy: 0.70659 | val_0_auc: 0.79751 | val_0_logloss: 0.539   |  0:01:33s\n",
            "epoch 93 | loss: 0.46721 | val_0_accuracy: 0.72091 | val_0_auc: 0.79942 | val_0_logloss: 0.54303 |  0:01:34s\n",
            "epoch 94 | loss: 0.46659 | val_0_accuracy: 0.70841 | val_0_auc: 0.79841 | val_0_logloss: 0.54242 |  0:01:35s\n",
            "epoch 95 | loss: 0.46745 | val_0_accuracy: 0.717   | val_0_auc: 0.80273 | val_0_logloss: 0.53606 |  0:01:36s\n",
            "epoch 96 | loss: 0.46721 | val_0_accuracy: 0.70893 | val_0_auc: 0.79279 | val_0_logloss: 0.54956 |  0:01:37s\n",
            "epoch 97 | loss: 0.46452 | val_0_accuracy: 0.71179 | val_0_auc: 0.79933 | val_0_logloss: 0.54096 |  0:01:38s\n",
            "epoch 98 | loss: 0.46667 | val_0_accuracy: 0.71023 | val_0_auc: 0.79656 | val_0_logloss: 0.54701 |  0:01:39s\n",
            "epoch 99 | loss: 0.46407 | val_0_accuracy: 0.7045  | val_0_auc: 0.79562 | val_0_logloss: 0.54236 |  0:01:40s\n",
            "\n",
            "Early stopping occurred at epoch 99 with best_epoch = 74 and best_val_0_logloss = 0.5312\n",
            "\n",
            "✓ 학습 완료\n",
            "  - Best Epoch: 74\n",
            "  - Best Loss: 0.531198\n"
          ]
        }
      ],
      "source": [
        "# 모델 학습\n",
        "print(\"\\n✓ 모델 학습 시작\\n\")\n",
        "\n",
        "model.fit(\n",
        "    X_train_resampled, y_train_resampled,\n",
        "    eval_set=[(X_val_scaled, y_val)],\n",
        "    eval_metric=['accuracy', 'auc', 'logloss'],\n",
        "    max_epochs=150,\n",
        "    patience=25,\n",
        "    batch_size=1024,\n",
        "    virtual_batch_size=256\n",
        ")\n",
        "\n",
        "print(f\"\\n✓ 학습 완료\")\n",
        "print(f\"  - Best Epoch: {model.best_epoch}\")\n",
        "print(f\"  - Best Loss: {model.best_cost:.6f}\")"
      ]
    },
    {
      "cell_type": "markdown",
      "metadata": {
        "id": "oepouxEbHbjz"
      },
      "source": [
        "## 8. 모델 평가"
      ]
    },
    {
      "cell_type": "code",
      "execution_count": 22,
      "metadata": {
        "colab": {
          "base_uri": "https://localhost:8080/"
        },
        "id": "iQDyG6pRHbjz",
        "outputId": "503ed3a9-75c8-4ffb-a79a-1103e7b42f40"
      },
      "outputs": [
        {
          "name": "stdout",
          "output_type": "stream",
          "text": [
            "✓ 임계값 최적화 (검증 세트 사용)\n",
            "\n",
            "  최적 임계값: 0.3304\n",
            "    - Expected Precision: 0.6610\n",
            "    - Expected Recall: 0.8751\n",
            "    - Expected F1 Score: 0.7531\n"
          ]
        }
      ],
      "source": [
        "# 임계값 최적화 (검증 세트 사용)\n",
        "print(\"✓ 임계값 최적화 (검증 세트 사용)\")\n",
        "\n",
        "y_val_proba = model.predict_proba(X_val_scaled)\n",
        "precision_curve, recall_curve, thresholds = precision_recall_curve(y_val, y_val_proba[:, 1])\n",
        "\n",
        "# F1 Score 최대화\n",
        "f1_scores = 2 * (precision_curve * recall_curve) / (precision_curve + recall_curve + 1e-10)\n",
        "optimal_idx = np.argmax(f1_scores)\n",
        "optimal_threshold = thresholds[optimal_idx] if optimal_idx < len(thresholds) else 0.5\n",
        "\n",
        "print(f\"\\n  최적 임계값: {optimal_threshold:.4f}\")\n",
        "print(f\"    - Expected Precision: {precision_curve[optimal_idx]:.4f}\")\n",
        "print(f\"    - Expected Recall: {recall_curve[optimal_idx]:.4f}\")\n",
        "print(f\"    - Expected F1 Score: {f1_scores[optimal_idx]:.4f}\")"
      ]
    },
    {
      "cell_type": "code",
      "execution_count": 23,
      "metadata": {
        "colab": {
          "base_uri": "https://localhost:8080/"
        },
        "id": "ThH_ejwqHbjz",
        "outputId": "657bcd4f-03f9-417c-a747-cae39760f3f1"
      },
      "outputs": [
        {
          "name": "stdout",
          "output_type": "stream",
          "text": [
            "\n",
            "================================================================================\n",
            "                              테스트 세트 평가\n",
            "================================================================================\n",
            "\n",
            "✓ 평가 결과 (Threshold=0.3304)\n",
            "  - Accuracy:  0.6230 (62.30%)\n",
            "  - Precision: 0.5886 (58.86%)\n",
            "  - Recall:    0.9095 (90.95%)\n",
            "  - F1 Score:  0.7147\n",
            "  - AUC:       0.7484\n",
            "\n",
            "✓ Confusion Matrix:\n",
            "[[1159 2536]\n",
            " [ 361 3629]]\n",
            "\n",
            "✓ Classification Report:\n",
            "              precision    recall  f1-score   support\n",
            "\n",
            "    Low Risk       0.76      0.31      0.44      3695\n",
            "   High Risk       0.59      0.91      0.71      3990\n",
            "\n",
            "    accuracy                           0.62      7685\n",
            "   macro avg       0.68      0.61      0.58      7685\n",
            "weighted avg       0.67      0.62      0.58      7685\n",
            "\n"
          ]
        }
      ],
      "source": [
        "# 테스트 세트 평가\n",
        "print(\"\\n\" + \"=\"*80)\n",
        "print(\" \" * 30 + \"테스트 세트 평가\")\n",
        "print(\"=\"*80)\n",
        "\n",
        "y_test_proba = model.predict_proba(X_test_scaled)\n",
        "y_test_pred = (y_test_proba[:, 1] >= optimal_threshold).astype(int)\n",
        "\n",
        "# 평가 지표 계산\n",
        "accuracy = accuracy_score(y_test, y_test_pred)\n",
        "precision = precision_score(y_test, y_test_pred)\n",
        "recall = recall_score(y_test, y_test_pred)\n",
        "f1 = f1_score(y_test, y_test_pred)\n",
        "auc = roc_auc_score(y_test, y_test_proba[:, 1])\n",
        "\n",
        "print(f\"\\n✓ 평가 결과 (Threshold={optimal_threshold:.4f})\")\n",
        "print(f\"  - Accuracy:  {accuracy:.4f} ({accuracy*100:.2f}%)\")\n",
        "print(f\"  - Precision: {precision:.4f} ({precision*100:.2f}%)\")\n",
        "print(f\"  - Recall:    {recall:.4f} ({recall*100:.2f}%)\")\n",
        "print(f\"  - F1 Score:  {f1:.4f}\")\n",
        "print(f\"  - AUC:       {auc:.4f}\")\n",
        "\n",
        "# Confusion Matrix\n",
        "cm = confusion_matrix(y_test, y_test_pred)\n",
        "print(f\"\\n✓ Confusion Matrix:\")\n",
        "print(cm)\n",
        "\n",
        "# Classification Report\n",
        "print(f\"\\n✓ Classification Report:\")\n",
        "print(classification_report(y_test, y_test_pred, target_names=['Low Risk', 'High Risk']))"
      ]
    },
    {
      "cell_type": "markdown",
      "metadata": {
        "id": "_XegiCqnHbjz"
      },
      "source": [
        "## 9. 시각화"
      ]
    },
    {
      "cell_type": "code",
      "execution_count": 24,
      "metadata": {
        "colab": {
          "base_uri": "https://localhost:8080/",
          "height": 607
        },
        "id": "-R3LGW0QHbj0",
        "outputId": "534f58f8-bcc1-42bf-e24c-3c683c726eff"
      },
      "outputs": [
        {
          "data": {
            "image/png": "[encoded data removed]",
            "text/plain": [
              "<Figure size 800x600 with 2 Axes>"
            ]
          },
          "metadata": {},
          "output_type": "display_data"
        }
      ],
      "source": [
        "# Confusion Matrix 시각화\n",
        "fig, ax = plt.subplots(figsize=(8, 6))\n",
        "sns.heatmap(\n",
        "    cm, annot=True, fmt='d', cmap='Blues',\n",
        "    xticklabels=['Low Risk', 'High Risk'],\n",
        "    yticklabels=['Low Risk', 'High Risk'],\n",
        "    ax=ax\n",
        ")\n",
        "ax.set_title('Confusion Matrix', fontsize=14, pad=20)\n",
        "ax.set_xlabel('Predicted', fontsize=12)\n",
        "ax.set_ylabel('Actual', fontsize=12)\n",
        "plt.tight_layout()\n",
        "plt.show()"
      ]
    },
    {
      "cell_type": "code",
      "execution_count": 25,
      "metadata": {
        "colab": {
          "base_uri": "https://localhost:8080/",
          "height": 404
        },
        "id": "e4MFG6nVHbj0",
        "outputId": "b4918543-c06b-44a9-fae3-830a72593053"
      },
      "outputs": [
        {
          "data": {
            "image/png": "[encoded data removed]",
            "text/plain": [
              "<Figure size 1500x600 with 2 Axes>"
            ]
          },
          "metadata": {},
          "output_type": "display_data"
        }
      ],
      "source": [
        "# ROC Curve & Precision-Recall Curve\n",
        "fig, axes = plt.subplots(1, 2, figsize=(15, 6))\n",
        "\n",
        "# ROC Curve\n",
        "fpr, tpr, _ = roc_curve(y_test, y_test_proba[:, 1])\n",
        "axes[0].plot(fpr, tpr, linewidth=2, label=f'AUC = {auc:.3f}')\n",
        "axes[0].plot([0, 1], [0, 1], 'k--', alpha=0.3)\n",
        "axes[0].set_xlabel('False Positive Rate', fontsize=12)\n",
        "axes[0].set_ylabel('True Positive Rate', fontsize=12)\n",
        "axes[0].set_title('ROC Curve', fontsize=14, pad=20)\n",
        "axes[0].legend(fontsize=11)\n",
        "axes[0].grid(True, alpha=0.3)\n",
        "\n",
        "# Precision-Recall Curve\n",
        "precision_test, recall_test, _ = precision_recall_curve(y_test, y_test_proba[:, 1])\n",
        "ap = average_precision_score(y_test, y_test_proba[:, 1])\n",
        "axes[1].plot(recall_test, precision_test, linewidth=2, label=f'AP = {ap:.3f}')\n",
        "axes[1].set_xlabel('Recall', fontsize=12)\n",
        "axes[1].set_ylabel('Precision', fontsize=12)\n",
        "axes[1].set_title('Precision-Recall Curve', fontsize=14, pad=20)\n",
        "axes[1].legend(fontsize=11)\n",
        "axes[1].grid(True, alpha=0.3)\n",
        "\n",
        "plt.tight_layout()\n",
        "plt.show()"
      ]
    },
    {
      "cell_type": "code",
      "execution_count": 26,
      "metadata": {
        "colab": {
          "base_uri": "https://localhost:8080/",
          "height": 1000
        },
        "id": "Aj84z7k3Hbj0",
        "outputId": "761e21f5-c38c-43b8-8724-537e8e265243"
      },
      "outputs": [
        {
          "data": {
            "image/png": "[encoded data removed]",
            "text/plain": [
              "<Figure size 1000x800 with 1 Axes>"
            ]
          },
          "metadata": {},
          "output_type": "display_data"
        },
        {
          "name": "stdout",
          "output_type": "stream",
          "text": [
            "\n",
            "Top 20 중요 Feature:\n",
            "              feature  importance\n",
            "2                개업_률    0.144476\n",
            "149           점포당_가구수    0.113263\n",
            "143          야간_매출_비율    0.073695\n",
            "142          주말_매출_비율    0.061948\n",
            "138         폐업_률_lag1    0.053632\n",
            "153          프랜차이즈_비율    0.042098\n",
            "137         개업_률_lag1    0.041209\n",
            "133      상권변화_encoded    0.028971\n",
            "107   여성연령대_50_상주인구_수    0.028036\n",
            "28          월요일_매출_건수    0.026807\n",
            "37    시간대_건수~14_매출_건수    0.020881\n",
            "152            점포_밀집도    0.019214\n",
            "135             건당_매출    0.018415\n",
            "96   연령대_60_이상_상주인구_수    0.016639\n",
            "136          점포당_유동인구    0.016033\n",
            "40    시간대_건수~24_매출_건수    0.014919\n",
            "0                점포_수    0.012044\n",
            "42           여성_매출_건수    0.011687\n",
            "43       연령대_10_매출_건수    0.011552\n",
            "29          화요일_매출_건수    0.010376\n"
          ]
        }
      ],
      "source": [
        "# Feature Importance (Top 20)\n",
        "feature_importances = model.feature_importances_\n",
        "importance_df = pd.DataFrame({\n",
        "    'feature': feature_cols,\n",
        "    'importance': feature_importances\n",
        "}).sort_values('importance', ascending=False).head(20)\n",
        "\n",
        "fig, ax = plt.subplots(figsize=(10, 8))\n",
        "ax.barh(range(len(importance_df)), importance_df['importance'])\n",
        "ax.set_yticks(range(len(importance_df)))\n",
        "ax.set_yticklabels(importance_df['feature'], fontsize=9)\n",
        "ax.invert_yaxis()\n",
        "ax.set_xlabel('Importance', fontsize=12)\n",
        "ax.set_title('Top 20 Feature Importance', fontsize=14, pad=20)\n",
        "ax.grid(True, alpha=0.3, axis='x')\n",
        "plt.tight_layout()\n",
        "plt.show()\n",
        "\n",
        "print(\"\\nTop 20 중요 Feature:\")\n",
        "print(importance_df)"
      ]
    },
    {
      "cell_type": "code",
      "execution_count": 27,
      "metadata": {
        "id": "i6EOmJ_oHbj0"
      },
      "outputs": [],
      "source": [
        "# # 테스트 데이터에서 설명하고 싶은 샘플 하나를 선택 (예: 첫 번째 데이터)\n",
        "# sample_idx = 0\n",
        "# X_sample = X_test_scaled[sample_idx].reshape(1, -1)\n",
        "# y_sample_actual = y_test[sample_idx]\n",
        "# y_sample_pred_prob = model.predict_proba(X_sample)[0, 1]\n",
        "\n",
        "# print(f\"샘플 {sample_idx}번 데이터 분석\")\n",
        "# print(f\"실제 값: {'High Risk' if y_sample_actual == 1 else 'Low Risk'}\")\n",
        "# print(f\"예측 확률 (High Risk): {y_sample_pred_prob:.4f}\")\n",
        "\n",
        "# # 모델의 explain 기능으로 어텐션 마스크 추출\n",
        "# masks, _ = model.explain(X_sample)\n",
        "\n",
        "# # 마스크 시각화\n",
        "# fig, ax = plt.subplots(figsize=(12, 8))\n",
        "# im = ax.imshow(masks[0], cmap='viridis')\n",
        "# ax.set_yticks(range(len(feature_cols)))\n",
        "# ax.set_yticklabels(feature_cols, fontsize=8)\n",
        "# ax.set_xlabel(\"Decision Steps\")\n",
        "# ax.set_ylabel(\"Features\")\n",
        "# ax.set_title(f\"Feature Attentions for Sample {sample_idx}\")\n",
        "# fig.colorbar(im, ax=ax)\n",
        "# plt.tight_layout()\n",
        "# plt.show()"
      ]
    },
    {
      "cell_type": "code",
      "execution_count": 28,
      "metadata": {
        "colab": {
          "base_uri": "https://localhost:8080/",
          "height": 631
        },
        "id": "xCaJhyxSHbj0",
        "outputId": "1690819b-0a8e-4366-84c7-99f64aac8298"
      },
      "outputs": [
        {
          "ename": "KeyError",
          "evalue": "0",
          "output_type": "error",
          "traceback": [
            "\u001b[0;31m---------------------------------------------------------------------------\u001b[0m",
            "\u001b[0;31mKeyError\u001b[0m                                  Traceback (most recent call last)",
            "\u001b[0;32m/tmp/ipython-input-731688188.py\u001b[0m in \u001b[0;36m<cell line: 0>\u001b[0;34m()\u001b[0m\n\u001b[1;32m      5\u001b[0m \u001b[0;34m\u001b[0m\u001b[0m\n\u001b[1;32m      6\u001b[0m \u001b[0;31m# Loss\u001b[0m\u001b[0;34m\u001b[0m\u001b[0;34m\u001b[0m\u001b[0m\n\u001b[0;32m----> 7\u001b[0;31m \u001b[0;32mif\u001b[0m \u001b[0;34m'loss'\u001b[0m \u001b[0;32min\u001b[0m \u001b[0mhistory\u001b[0m\u001b[0;34m:\u001b[0m\u001b[0;34m\u001b[0m\u001b[0;34m\u001b[0m\u001b[0m\n\u001b[0m\u001b[1;32m      8\u001b[0m     \u001b[0maxes\u001b[0m\u001b[0;34m[\u001b[0m\u001b[0;36m0\u001b[0m\u001b[0;34m]\u001b[0m\u001b[0;34m.\u001b[0m\u001b[0mplot\u001b[0m\u001b[0;34m(\u001b[0m\u001b[0mhistory\u001b[0m\u001b[0;34m[\u001b[0m\u001b[0;34m'loss'\u001b[0m\u001b[0;34m]\u001b[0m\u001b[0;34m,\u001b[0m \u001b[0mlabel\u001b[0m\u001b[0;34m=\u001b[0m\u001b[0;34m'Train Loss'\u001b[0m\u001b[0;34m,\u001b[0m \u001b[0mlinewidth\u001b[0m\u001b[0;34m=\u001b[0m\u001b[0;36m2\u001b[0m\u001b[0;34m)\u001b[0m\u001b[0;34m\u001b[0m\u001b[0;34m\u001b[0m\u001b[0m\n\u001b[1;32m      9\u001b[0m \u001b[0;32mif\u001b[0m \u001b[0;34m'val_0_loss'\u001b[0m \u001b[0;32min\u001b[0m \u001b[0mhistory\u001b[0m\u001b[0;34m:\u001b[0m\u001b[0;34m\u001b[0m\u001b[0;34m\u001b[0m\u001b[0m\n",
            "\u001b[0;32m/usr/local/lib/python3.12/dist-packages/pytorch_tabnet/callbacks.py\u001b[0m in \u001b[0;36m__getitem__\u001b[0;34m(self, name)\u001b[0m\n\u001b[1;32m    231\u001b[0m \u001b[0;34m\u001b[0m\u001b[0m\n\u001b[1;32m    232\u001b[0m     \u001b[0;32mdef\u001b[0m \u001b[0m__getitem__\u001b[0m\u001b[0;34m(\u001b[0m\u001b[0mself\u001b[0m\u001b[0;34m,\u001b[0m \u001b[0mname\u001b[0m\u001b[0;34m)\u001b[0m\u001b[0;34m:\u001b[0m\u001b[0;34m\u001b[0m\u001b[0;34m\u001b[0m\u001b[0m\n\u001b[0;32m--> 233\u001b[0;31m         \u001b[0;32mreturn\u001b[0m \u001b[0mself\u001b[0m\u001b[0;34m.\u001b[0m\u001b[0mhistory\u001b[0m\u001b[0;34m[\u001b[0m\u001b[0mname\u001b[0m\u001b[0;34m]\u001b[0m\u001b[0;34m\u001b[0m\u001b[0;34m\u001b[0m\u001b[0m\n\u001b[0m\u001b[1;32m    234\u001b[0m \u001b[0;34m\u001b[0m\u001b[0m\n\u001b[1;32m    235\u001b[0m     \u001b[0;32mdef\u001b[0m \u001b[0m__repr__\u001b[0m\u001b[0;34m(\u001b[0m\u001b[0mself\u001b[0m\u001b[0;34m)\u001b[0m\u001b[0;34m:\u001b[0m\u001b[0;34m\u001b[0m\u001b[0;34m\u001b[0m\u001b[0m\n",
            "\u001b[0;31mKeyError\u001b[0m: 0"
          ]
        },
        {
          "data": {
            "image/png": "[encoded data removed]",
            "text/plain": [
              "<Figure size 1800x500 with 3 Axes>"
            ]
          },
          "metadata": {},
          "output_type": "display_data"
        }
      ],
      "source": [
        "# Training History\n",
        "history = model.history\n",
        "\n",
        "fig, axes = plt.subplots(1, 3, figsize=(18, 5))\n",
        "\n",
        "# Loss\n",
        "if 'loss' in history:\n",
        "    axes[0].plot(history['loss'], label='Train Loss', linewidth=2)\n",
        "if 'val_0_loss' in history:\n",
        "    axes[0].plot(history['val_0_loss'], label='Val Loss', linewidth=2)\n",
        "axes[0].set_xlabel('Epoch', fontsize=12)\n",
        "axes[0].set_ylabel('Loss', fontsize=12)\n",
        "axes[0].set_title('Training and Validation Loss', fontsize=14, pad=20)\n",
        "axes[0].legend(fontsize=11)\n",
        "axes[0].grid(True, alpha=0.3)\n",
        "\n",
        "# Accuracy\n",
        "if 'train_accuracy' in history:\n",
        "    axes[1].plot(history['train_accuracy'], label='Train Accuracy', linewidth=2)\n",
        "if 'val_0_accuracy' in history:\n",
        "    axes[1].plot(history['val_0_accuracy'], label='Val Accuracy', linewidth=2)\n",
        "axes[1].set_xlabel('Epoch', fontsize=12)\n",
        "axes[1].set_ylabel('Accuracy', fontsize=12)\n",
        "axes[1].set_title('Training and Validation Accuracy', fontsize=14, pad=20)\n",
        "axes[1].legend(fontsize=11)\n",
        "axes[1].grid(True, alpha=0.3)\n",
        "\n",
        "# AUC\n",
        "if 'train_auc' in history:\n",
        "    axes[2].plot(history['train_auc'], label='Train AUC', linewidth=2)\n",
        "if 'val_0_auc' in history:\n",
        "    axes[2].plot(history['val_0_auc'], label='Val AUC', linewidth=2)\n",
        "axes[2].set_xlabel('Epoch', fontsize=12)\n",
        "axes[2].set_ylabel('AUC', fontsize=12)\n",
        "axes[2].set_title('Training and Validation AUC', fontsize=14, pad=20)\n",
        "axes[2].legend(fontsize=11)\n",
        "axes[2].grid(True, alpha=0.3)\n",
        "\n",
        "plt.tight_layout()\n",
        "plt.show()"
      ]
    },
    {
      "cell_type": "markdown",
      "metadata": {
        "id": "QrfTOBpcHbj0"
      },
      "source": [
        "## 10. 모델 저장"
      ]
    },
    {
      "cell_type": "code",
      "execution_count": 30,
      "metadata": {
        "colab": {
          "base_uri": "https://localhost:8080/"
        },
        "id": "7FdW-LbiHbj0",
        "outputId": "1d6274b3-f683-47e8-cc57-b51f9f9d46f7"
      },
      "outputs": [
        {
          "name": "stdout",
          "output_type": "stream",
          "text": [
            "✓ 모델 및 데이터 저장\n",
            "Successfully saved model at saved_models/tabnet_closure_prediction.zip.zip\n",
            "  - 모델: saved_models/tabnet_closure_prediction.zip\n",
            "  - Scaler: saved_models/scaler.pkl\n",
            "  - Label Encoders: saved_models/label_encoders.pkl\n",
            "  - Feature Names: saved_models/feature_names.txt\n",
            "  - Results: saved_models/results.json\n",
            "  - Feature Importance: saved_models/feature_importance.csv\n"
          ]
        }
      ],
      "source": [
        "# 저장 디렉토리 생성\n",
        "save_dir = Path('./saved_models')\n",
        "save_dir.mkdir(exist_ok=True)\n",
        "\n",
        "print(\"✓ 모델 및 데이터 저장\")\n",
        "\n",
        "# 모델 저장\n",
        "model_path = save_dir / 'tabnet_closure_prediction.zip'\n",
        "model.save_model(str(model_path))\n",
        "print(f\"  - 모델: {model_path}\")\n",
        "\n",
        "# Scaler 저장\n",
        "scaler_path = save_dir / 'scaler.pkl'\n",
        "with open(scaler_path, 'wb') as f:\n",
        "    pickle.dump(scaler, f)\n",
        "print(f\"  - Scaler: {scaler_path}\")\n",
        "\n",
        "# Label Encoders 저장\n",
        "encoders = {\n",
        "    '자치구': le_district,\n",
        "    '업종': le_industry\n",
        "}\n",
        "encoders_path = save_dir / 'label_encoders.pkl'\n",
        "with open(encoders_path, 'wb') as f:\n",
        "    pickle.dump(encoders, f)\n",
        "print(f\"  - Label Encoders: {encoders_path}\")\n",
        "\n",
        "# Feature 이름 저장\n",
        "features_path = save_dir / 'feature_names.txt'\n",
        "with open(features_path, 'w', encoding='utf-8') as f:\n",
        "    for feat in feature_cols:\n",
        "        f.write(f\"{feat}\\n\")\n",
        "print(f\"  - Feature Names: {features_path}\")\n",
        "\n",
        "# 평가 결과 저장\n",
        "results = {\n",
        "    'optimal_threshold': float(optimal_threshold),\n",
        "    'accuracy': float(accuracy),\n",
        "    'precision': float(precision),\n",
        "    'recall': float(recall),\n",
        "    'f1': float(f1),\n",
        "    'auc': float(auc),\n",
        "    'confusion_matrix': cm.tolist(),\n",
        "    'best_epoch': int(model.best_epoch),\n",
        "    'best_loss': float(model.best_cost)\n",
        "}\n",
        "\n",
        "results_path = save_dir / 'results.json'\n",
        "with open(results_path, 'w') as f:\n",
        "    json.dump(results, f, indent=2)\n",
        "print(f\"  - Results: {results_path}\")\n",
        "\n",
        "# Feature Importance 저장\n",
        "importance_path = save_dir / 'feature_importance.csv'\n",
        "importance_df.to_csv(importance_path, index=False, encoding='utf-8-sig')\n",
        "print(f\"  - Feature Importance: {importance_path}\")"
      ]
    },
    {
      "cell_type": "markdown",
      "metadata": {
        "id": "rV3p-Ge2Hbj0"
      },
      "source": [
        "## 📊 최종 결과 요약"
      ]
    },
    {
      "cell_type": "code",
      "execution_count": 29,
      "metadata": {
        "colab": {
          "base_uri": "https://localhost:8080/",
          "height": 537
        },
        "id": "PqMGiC7iHbj1",
        "outputId": "f1819e33-e7b8-4664-fa7f-5e674741b23e"
      },
      "outputs": [
        {
          "name": "stdout",
          "output_type": "stream",
          "text": [
            "\n",
            "================================================================================\n",
            "                              최종 결과 요약\n",
            "================================================================================\n",
            "\n",
            "✓ 모델: TabNet 폐업률 분류 예측\n",
            "✓ 디바이스: cuda\n",
            "✓ 최적 Threshold: 0.3304\n",
            "✓ Best Epoch: 74\n",
            "\n",
            "✓ Test Set 성능:\n",
            "  - Accuracy:  0.6230 (62.30%)\n",
            "  - Precision: 0.5886 (58.86%)\n",
            "  - Recall:    0.9095 (90.95%)\n",
            "  - F1 Score:  0.7147\n",
            "  - AUC:       0.7484\n",
            "\n",
            "✓ 저장된 파일:\n"
          ]
        },
        {
          "ename": "NameError",
          "evalue": "name 'save_dir' is not defined",
          "output_type": "error",
          "traceback": [
            "\u001b[0;31m---------------------------------------------------------------------------\u001b[0m",
            "\u001b[0;31mNameError\u001b[0m                                 Traceback (most recent call last)",
            "\u001b[0;32m/tmp/ipython-input-2477447443.py\u001b[0m in \u001b[0;36m<cell line: 0>\u001b[0;34m()\u001b[0m\n\u001b[1;32m     16\u001b[0m \u001b[0;34m\u001b[0m\u001b[0m\n\u001b[1;32m     17\u001b[0m \u001b[0mprint\u001b[0m\u001b[0;34m(\u001b[0m\u001b[0;34mf\"\\n✓ 저장된 파일:\"\u001b[0m\u001b[0;34m)\u001b[0m\u001b[0;34m\u001b[0m\u001b[0;34m\u001b[0m\u001b[0m\n\u001b[0;32m---> 18\u001b[0;31m \u001b[0mprint\u001b[0m\u001b[0;34m(\u001b[0m\u001b[0;34mf\"  - 모델: {save_dir}/tabnet_closure_prediction.zip\"\u001b[0m\u001b[0;34m)\u001b[0m\u001b[0;34m\u001b[0m\u001b[0;34m\u001b[0m\u001b[0m\n\u001b[0m\u001b[1;32m     19\u001b[0m \u001b[0mprint\u001b[0m\u001b[0;34m(\u001b[0m\u001b[0;34mf\"  - Scaler: {save_dir}/scaler.pkl\"\u001b[0m\u001b[0;34m)\u001b[0m\u001b[0;34m\u001b[0m\u001b[0;34m\u001b[0m\u001b[0m\n\u001b[1;32m     20\u001b[0m \u001b[0mprint\u001b[0m\u001b[0;34m(\u001b[0m\u001b[0;34mf\"  - Encoders: {save_dir}/label_encoders.pkl\"\u001b[0m\u001b[0;34m)\u001b[0m\u001b[0;34m\u001b[0m\u001b[0;34m\u001b[0m\u001b[0m\n",
            "\u001b[0;31mNameError\u001b[0m: name 'save_dir' is not defined"
          ]
        }
      ],
      "source": [
        "print(\"\\n\" + \"=\"*80)\n",
        "print(\" \" * 30 + \"최종 결과 요약\")\n",
        "print(\"=\"*80)\n",
        "\n",
        "print(f\"\\n✓ 모델: TabNet 폐업률 분류 예측\")\n",
        "print(f\"✓ 디바이스: {device}\")\n",
        "print(f\"✓ 최적 Threshold: {optimal_threshold:.4f}\")\n",
        "print(f\"✓ Best Epoch: {model.best_epoch}\")\n",
        "\n",
        "print(f\"\\n✓ Test Set 성능:\")\n",
        "print(f\"  - Accuracy:  {accuracy:.4f} ({accuracy*100:.2f}%)\")\n",
        "print(f\"  - Precision: {precision:.4f} ({precision*100:.2f}%)\")\n",
        "print(f\"  - Recall:    {recall:.4f} ({recall*100:.2f}%)\")\n",
        "print(f\"  - F1 Score:  {f1:.4f}\")\n",
        "print(f\"  - AUC:       {auc:.4f}\")\n",
        "\n",
        "print(f\"\\n✓ 저장된 파일:\")\n",
        "print(f\"  - 모델: {save_dir}/tabnet_closure_prediction.zip\")\n",
        "print(f\"  - Scaler: {save_dir}/scaler.pkl\")\n",
        "print(f\"  - Encoders: {save_dir}/label_encoders.pkl\")\n",
        "print(f\"  - Features: {save_dir}/feature_names.txt\")\n",
        "print(f\"  - Results: {save_dir}/results.json\")\n",
        "print(f\"  - Importance: {save_dir}/feature_importance.csv\")\n",
        "\n",
        "print(\"\\n\" + \"🎉 \"*20)\n",
        "print(\" \"*30 + \"완료!\")\n",
        "print(\"🎉 \"*20 + \"\\n\")"
      ]
    }
  ],
  "metadata": {
    "accelerator": "GPU",
    "colab": {
      "gpuType": "L4",
      "machine_shape": "hm",
      "provenance": []
    },
    "kernelspec": {
      "display_name": "Python 3",
      "name": "python3"
    },
    "language_info": {
      "codemirror_mode": {
        "name": "ipython",
        "version": 3
      },
      "file_extension": ".py",
      "mimetype": "text/x-python",
      "name": "python",
      "nbconvert_exporter": "python",
      "pygments_lexer": "ipython3",
      "version": "3.8.15"
    }
  },
  "nbformat": 4,
  "nbformat_minor": 0
}
