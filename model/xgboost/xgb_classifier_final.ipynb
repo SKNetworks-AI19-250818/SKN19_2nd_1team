{
 "cells": [
  {
   "cell_type": "code",
   "execution_count": 1,
   "id": "501620fc",
   "metadata": {},
   "outputs": [],
   "source": [
    "import numpy as np\n",
    "import pandas as pd\n",
    "import matplotlib.pyplot as plt\n",
    "import seaborn as sns"
   ]
  },
  {
   "cell_type": "code",
   "execution_count": 2,
   "id": "9e13cbc3",
   "metadata": {},
   "outputs": [],
   "source": [
    "import matplotlib.font_manager as fm\n",
    "import matplotlib\n",
    "\n",
    "font_path = 'C:\\\\Windows\\\\Fonts\\\\gulim.ttc'\n",
    "font = fm.FontProperties(fname=font_path).get_name()\n",
    "matplotlib.rc('font', family=font)"
   ]
  },
  {
   "cell_type": "markdown",
   "id": "31c4e4e1",
   "metadata": {},
   "source": [
    "### EDA"
   ]
  },
  {
   "cell_type": "code",
   "execution_count": 3,
   "id": "03b32de3",
   "metadata": {},
   "outputs": [],
   "source": [
    "df = pd.read_csv('./../../eda/data/merged_data.csv')"
   ]
  },
  {
   "cell_type": "code",
   "execution_count": 4,
   "id": "29158ec4",
   "metadata": {},
   "outputs": [],
   "source": [
    "df = df.drop(['폐업_점포_수', '폐업_영업_개월_평균', '서울시_폐업_영업_개월_평균', '기준_년분기_코드'], axis=1)"
   ]
  },
  {
   "cell_type": "code",
   "execution_count": 5,
   "id": "ab9b8ce0",
   "metadata": {},
   "outputs": [
    {
     "name": "stdout",
     "output_type": "stream",
     "text": [
      "['강남구' '강동구' '강북구' '강서구' '관악구' '광진구' '구로구' '금천구' '노원구' '도봉구' '동대문구' '동작구'\n",
      " '마포구' '서대문구' '서초구' '성동구' '성북구' '송파구' '양천구' '영등포구' '용산구' '은평구' '종로구' '중구'\n",
      " '중랑구']\n",
      "['PC방' '가구' '가방' '가전제품' '가전제품수리' '고시원' '골프연습장' '네일숍' '노래방' '당구장' '문구'\n",
      " '미곡판매' '미용실' '반찬가게' '부동산중개업' '분식전문점' '서적' '섬유제품' '세탁소' '수산물판매' '슈퍼마켓'\n",
      " '스포츠 강습' '스포츠클럽' '시계및귀금속' '신발' '안경' '애완동물' '양식음식점' '여관' '예술학원' '완구'\n",
      " '외국어학원' '운동/경기용품' '육류판매' '의료기기' '의약품' '인테리어' '일반교습학원' '일반의류' '일반의원'\n",
      " '일식음식점' '자동차미용' '자동차수리' '자전거 및 기타운송장비' '전자상거래업' '제과점' '조명용품' '중식음식점'\n",
      " '철물점' '청과상' '치과의원' '치킨전문점' '커피-음료' '컴퓨터및주변장치판매' '패스트푸드점' '편의점' '피부관리실'\n",
      " '한식음식점' '한의원' '핸드폰' '호프-간이주점' '화장품' '화초']\n",
      "['HH' 'HL' 'LH' 'LL']\n"
     ]
    }
   ],
   "source": [
    "# 레이블 인코딩\n",
    "from sklearn.preprocessing import LabelEncoder\n",
    "\n",
    "cols = ['자치구_코드_명', '서비스_업종_코드_명', '상권_변화_지표']\n",
    "\n",
    "for col in cols:\n",
    "    encoder = LabelEncoder()\n",
    "    df[col] = encoder.fit_transform(df[col])\n",
    "    print(encoder.classes_)"
   ]
  },
  {
   "cell_type": "code",
   "execution_count": 6,
   "id": "adbfdf37",
   "metadata": {},
   "outputs": [
    {
     "name": "stderr",
     "output_type": "stream",
     "text": [
      "c:\\Users\\tndl3\\anaconda3\\envs\\pystudy_env\\Lib\\site-packages\\joblib\\externals\\loky\\backend\\context.py:136: UserWarning: Could not find the number of physical cores for the following reason:\n",
      "[WinError 2] 지정된 파일을 찾을 수 없습니다\n",
      "Returning the number of logical cores instead. You can silence this warning by setting LOKY_MAX_CPU_COUNT to the number of cores you want to use.\n",
      "  warnings.warn(\n",
      "  File \"c:\\Users\\tndl3\\anaconda3\\envs\\pystudy_env\\Lib\\site-packages\\joblib\\externals\\loky\\backend\\context.py\", line 257, in _count_physical_cores\n",
      "    cpu_info = subprocess.run(\n",
      "               ^^^^^^^^^^^^^^^\n",
      "  File \"c:\\Users\\tndl3\\anaconda3\\envs\\pystudy_env\\Lib\\subprocess.py\", line 548, in run\n",
      "    with Popen(*popenargs, **kwargs) as process:\n",
      "         ^^^^^^^^^^^^^^^^^^^^^^^^^^^\n",
      "  File \"c:\\Users\\tndl3\\anaconda3\\envs\\pystudy_env\\Lib\\subprocess.py\", line 1026, in __init__\n",
      "    self._execute_child(args, executable, preexec_fn, close_fds,\n",
      "  File \"c:\\Users\\tndl3\\anaconda3\\envs\\pystudy_env\\Lib\\subprocess.py\", line 1538, in _execute_child\n",
      "    hp, ht, pid, tid = _winapi.CreateProcess(executable, args,\n",
      "                       ^^^^^^^^^^^^^^^^^^^^^^^^^^^^^^^^^^^^^^^\n"
     ]
    },
    {
     "data": {
      "text/plain": [
       "((48244, 132), (12062, 132), (48244,), (12062,))"
      ]
     },
     "execution_count": 6,
     "metadata": {},
     "output_type": "execute_result"
    }
   ],
   "source": [
    "from sklearn.model_selection import train_test_split\n",
    "from imblearn.over_sampling import SMOTE\n",
    "\n",
    "# 전체 데이터의 75%을 기준으로 등급 나누기\n",
    "df['폐업률_등급'] = pd.qcut(df['폐업_률'], q=[0, 0.75, 1.0], labels=[0, 1])\n",
    "\n",
    "X = df.drop(['폐업_률', '폐업률_등급'], axis=1) \n",
    "y_class = df['폐업률_등급']\n",
    "\n",
    "smote = SMOTE(random_state=42)\n",
    "X_resample, y_resample = smote.fit_resample(X, y_class)\n",
    "\n",
    "X_train, X_test, y_train, y_test = train_test_split(\n",
    "    X_resample, y_resample, test_size=0.2, random_state=42, stratify=y_resample\n",
    ")\n",
    "\n",
    "X_train.shape, X_test.shape, y_train.shape, y_test.shape"
   ]
  },
  {
   "cell_type": "code",
   "execution_count": 9,
   "id": "508dcd3a",
   "metadata": {},
   "outputs": [
    {
     "name": "stderr",
     "output_type": "stream",
     "text": [
      "[I 2025-10-13 21:37:43,646] A new study created in memory with name: no-name-eafffe25-daec-4391-ac2f-52b7d3bd17bd\n"
     ]
    }
   ],
   "source": [
    "from xgboost import XGBClassifier\n",
    "from sklearn.model_selection import cross_val_score\n",
    "import optuna\n",
    "\n",
    "# 목적 함수 생성\n",
    "def xgb_optuna_objective(trial):\n",
    "    params = {\n",
    "        'n_estimators': trial.suggest_int('n_estimators', 100, 500, 100),\n",
    "        'max_depth': trial.suggest_int('max_depth', 3, 10),\n",
    "        'learning_rate': trial.suggest_float('learning_rate', 0.01, 0.2),\n",
    "        'colsample_bytree': trial.suggest_float('colsample_bytree', 0.5, 1.0),\n",
    "        'random_state': 42,\n",
    "    }\n",
    "    xgb_clf = XGBClassifier(**params)\n",
    "    \n",
    "    return cross_val_score(xgb_clf, X_train, y_train, scoring='accuracy', cv=3).mean()\n",
    "\n",
    "# 스터디 생성\n",
    "study = optuna.create_study(direction='maximize')"
   ]
  },
  {
   "cell_type": "code",
   "execution_count": 10,
   "id": "cf864b07",
   "metadata": {},
   "outputs": [
    {
     "name": "stderr",
     "output_type": "stream",
     "text": [
      "C:\\Users\\tndl3\\AppData\\Local\\Temp\\ipykernel_27420\\1179490313.py:8: FutureWarning: suggest_int() got {'step'} as positional arguments but they were expected to be given as keyword arguments.\n",
      "Positional arguments ['self', 'name', 'low', 'high', 'step', 'log'] in suggest_int() have been deprecated since v3.5.0. They will be replaced with the corresponding keyword arguments in v5.0.0, so please use the keyword specification instead. See https://github.com/optuna/optuna/releases/tag/v3.5.0 for details.\n",
      "  'n_estimators': trial.suggest_int('n_estimators', 100, 500, 100),\n",
      "[I 2025-10-13 21:38:24,447] Trial 0 finished with value: 0.8698905918869048 and parameters: {'n_estimators': 200, 'max_depth': 10, 'learning_rate': 0.0650828879453693, 'colsample_bytree': 0.8740136506859832}. Best is trial 0 with value: 0.8698905918869048.\n",
      "C:\\Users\\tndl3\\AppData\\Local\\Temp\\ipykernel_27420\\1179490313.py:8: FutureWarning: suggest_int() got {'step'} as positional arguments but they were expected to be given as keyword arguments.\n",
      "Positional arguments ['self', 'name', 'low', 'high', 'step', 'log'] in suggest_int() have been deprecated since v3.5.0. They will be replaced with the corresponding keyword arguments in v5.0.0, so please use the keyword specification instead. See https://github.com/optuna/optuna/releases/tag/v3.5.0 for details.\n",
      "  'n_estimators': trial.suggest_int('n_estimators', 100, 500, 100),\n",
      "[I 2025-10-13 21:38:35,148] Trial 1 finished with value: 0.8602935328000493 and parameters: {'n_estimators': 200, 'max_depth': 5, 'learning_rate': 0.10875539306040626, 'colsample_bytree': 0.8160371591400636}. Best is trial 0 with value: 0.8698905918869048.\n",
      "C:\\Users\\tndl3\\AppData\\Local\\Temp\\ipykernel_27420\\1179490313.py:8: FutureWarning: suggest_int() got {'step'} as positional arguments but they were expected to be given as keyword arguments.\n",
      "Positional arguments ['self', 'name', 'low', 'high', 'step', 'log'] in suggest_int() have been deprecated since v3.5.0. They will be replaced with the corresponding keyword arguments in v5.0.0, so please use the keyword specification instead. See https://github.com/optuna/optuna/releases/tag/v3.5.0 for details.\n",
      "  'n_estimators': trial.suggest_int('n_estimators', 100, 500, 100),\n",
      "[I 2025-10-13 21:38:43,178] Trial 2 finished with value: 0.7978608715691614 and parameters: {'n_estimators': 200, 'max_depth': 3, 'learning_rate': 0.02749692449814039, 'colsample_bytree': 0.9603271600651863}. Best is trial 0 with value: 0.8698905918869048.\n",
      "C:\\Users\\tndl3\\AppData\\Local\\Temp\\ipykernel_27420\\1179490313.py:8: FutureWarning: suggest_int() got {'step'} as positional arguments but they were expected to be given as keyword arguments.\n",
      "Positional arguments ['self', 'name', 'low', 'high', 'step', 'log'] in suggest_int() have been deprecated since v3.5.0. They will be replaced with the corresponding keyword arguments in v5.0.0, so please use the keyword specification instead. See https://github.com/optuna/optuna/releases/tag/v3.5.0 for details.\n",
      "  'n_estimators': trial.suggest_int('n_estimators', 100, 500, 100),\n",
      "[I 2025-10-13 21:38:52,466] Trial 3 finished with value: 0.8225685290729466 and parameters: {'n_estimators': 300, 'max_depth': 3, 'learning_rate': 0.04174638296712059, 'colsample_bytree': 0.5754466184029783}. Best is trial 0 with value: 0.8698905918869048.\n",
      "C:\\Users\\tndl3\\AppData\\Local\\Temp\\ipykernel_27420\\1179490313.py:8: FutureWarning: suggest_int() got {'step'} as positional arguments but they were expected to be given as keyword arguments.\n",
      "Positional arguments ['self', 'name', 'low', 'high', 'step', 'log'] in suggest_int() have been deprecated since v3.5.0. They will be replaced with the corresponding keyword arguments in v5.0.0, so please use the keyword specification instead. See https://github.com/optuna/optuna/releases/tag/v3.5.0 for details.\n",
      "  'n_estimators': trial.suggest_int('n_estimators', 100, 500, 100),\n",
      "[I 2025-10-13 21:39:19,070] Trial 4 finished with value: 0.8714244712666604 and parameters: {'n_estimators': 500, 'max_depth': 6, 'learning_rate': 0.11091070478190447, 'colsample_bytree': 0.805105988121839}. Best is trial 4 with value: 0.8714244712666604.\n",
      "C:\\Users\\tndl3\\AppData\\Local\\Temp\\ipykernel_27420\\1179490313.py:8: FutureWarning: suggest_int() got {'step'} as positional arguments but they were expected to be given as keyword arguments.\n",
      "Positional arguments ['self', 'name', 'low', 'high', 'step', 'log'] in suggest_int() have been deprecated since v3.5.0. They will be replaced with the corresponding keyword arguments in v5.0.0, so please use the keyword specification instead. See https://github.com/optuna/optuna/releases/tag/v3.5.0 for details.\n",
      "  'n_estimators': trial.suggest_int('n_estimators', 100, 500, 100),\n",
      "[I 2025-10-13 21:39:26,486] Trial 5 finished with value: 0.8571843146710413 and parameters: {'n_estimators': 200, 'max_depth': 4, 'learning_rate': 0.1551773606693486, 'colsample_bytree': 0.5749183746210658}. Best is trial 4 with value: 0.8714244712666604.\n",
      "C:\\Users\\tndl3\\AppData\\Local\\Temp\\ipykernel_27420\\1179490313.py:8: FutureWarning: suggest_int() got {'step'} as positional arguments but they were expected to be given as keyword arguments.\n",
      "Positional arguments ['self', 'name', 'low', 'high', 'step', 'log'] in suggest_int() have been deprecated since v3.5.0. They will be replaced with the corresponding keyword arguments in v5.0.0, so please use the keyword specification instead. See https://github.com/optuna/optuna/releases/tag/v3.5.0 for details.\n",
      "  'n_estimators': trial.suggest_int('n_estimators', 100, 500, 100),\n",
      "[I 2025-10-13 21:40:38,959] Trial 6 finished with value: 0.8673202991602721 and parameters: {'n_estimators': 400, 'max_depth': 10, 'learning_rate': 0.023172655396410127, 'colsample_bytree': 0.8836735729893899}. Best is trial 4 with value: 0.8714244712666604.\n",
      "C:\\Users\\tndl3\\AppData\\Local\\Temp\\ipykernel_27420\\1179490313.py:8: FutureWarning: suggest_int() got {'step'} as positional arguments but they were expected to be given as keyword arguments.\n",
      "Positional arguments ['self', 'name', 'low', 'high', 'step', 'log'] in suggest_int() have been deprecated since v3.5.0. They will be replaced with the corresponding keyword arguments in v5.0.0, so please use the keyword specification instead. See https://github.com/optuna/optuna/releases/tag/v3.5.0 for details.\n",
      "  'n_estimators': trial.suggest_int('n_estimators', 100, 500, 100),\n",
      "[I 2025-10-13 21:40:44,147] Trial 7 finished with value: 0.8533289322935294 and parameters: {'n_estimators': 100, 'max_depth': 5, 'learning_rate': 0.140402060865333, 'colsample_bytree': 0.7962982516677084}. Best is trial 4 with value: 0.8714244712666604.\n",
      "C:\\Users\\tndl3\\AppData\\Local\\Temp\\ipykernel_27420\\1179490313.py:8: FutureWarning: suggest_int() got {'step'} as positional arguments but they were expected to be given as keyword arguments.\n",
      "Positional arguments ['self', 'name', 'low', 'high', 'step', 'log'] in suggest_int() have been deprecated since v3.5.0. They will be replaced with the corresponding keyword arguments in v5.0.0, so please use the keyword specification instead. See https://github.com/optuna/optuna/releases/tag/v3.5.0 for details.\n",
      "  'n_estimators': trial.suggest_int('n_estimators', 100, 500, 100),\n",
      "[I 2025-10-13 21:41:24,555] Trial 8 finished with value: 0.8729790519749457 and parameters: {'n_estimators': 400, 'max_depth': 9, 'learning_rate': 0.03895689769855755, 'colsample_bytree': 0.531400822893496}. Best is trial 8 with value: 0.8729790519749457.\n",
      "C:\\Users\\tndl3\\AppData\\Local\\Temp\\ipykernel_27420\\1179490313.py:8: FutureWarning: suggest_int() got {'step'} as positional arguments but they were expected to be given as keyword arguments.\n",
      "Positional arguments ['self', 'name', 'low', 'high', 'step', 'log'] in suggest_int() have been deprecated since v3.5.0. They will be replaced with the corresponding keyword arguments in v5.0.0, so please use the keyword specification instead. See https://github.com/optuna/optuna/releases/tag/v3.5.0 for details.\n",
      "  'n_estimators': trial.suggest_int('n_estimators', 100, 500, 100),\n",
      "[I 2025-10-13 21:41:58,861] Trial 9 finished with value: 0.8725644982364661 and parameters: {'n_estimators': 500, 'max_depth': 7, 'learning_rate': 0.11525042247909487, 'colsample_bytree': 0.9743197274996258}. Best is trial 8 with value: 0.8729790519749457.\n",
      "C:\\Users\\tndl3\\AppData\\Local\\Temp\\ipykernel_27420\\1179490313.py:8: FutureWarning: suggest_int() got {'step'} as positional arguments but they were expected to be given as keyword arguments.\n",
      "Positional arguments ['self', 'name', 'low', 'high', 'step', 'log'] in suggest_int() have been deprecated since v3.5.0. They will be replaced with the corresponding keyword arguments in v5.0.0, so please use the keyword specification instead. See https://github.com/optuna/optuna/releases/tag/v3.5.0 for details.\n",
      "  'n_estimators': trial.suggest_int('n_estimators', 100, 500, 100),\n",
      "[I 2025-10-13 21:42:29,219] Trial 10 finished with value: 0.8729790326411604 and parameters: {'n_estimators': 400, 'max_depth': 8, 'learning_rate': 0.06805266938513915, 'colsample_bytree': 0.5008393570711385}. Best is trial 8 with value: 0.8729790519749457.\n",
      "C:\\Users\\tndl3\\AppData\\Local\\Temp\\ipykernel_27420\\1179490313.py:8: FutureWarning: suggest_int() got {'step'} as positional arguments but they were expected to be given as keyword arguments.\n",
      "Positional arguments ['self', 'name', 'low', 'high', 'step', 'log'] in suggest_int() have been deprecated since v3.5.0. They will be replaced with the corresponding keyword arguments in v5.0.0, so please use the keyword specification instead. See https://github.com/optuna/optuna/releases/tag/v3.5.0 for details.\n",
      "  'n_estimators': trial.suggest_int('n_estimators', 100, 500, 100),\n",
      "[I 2025-10-13 21:43:01,597] Trial 11 finished with value: 0.8736008754936107 and parameters: {'n_estimators': 400, 'max_depth': 8, 'learning_rate': 0.07315809783997662, 'colsample_bytree': 0.5151033566239458}. Best is trial 11 with value: 0.8736008754936107.\n",
      "C:\\Users\\tndl3\\AppData\\Local\\Temp\\ipykernel_27420\\1179490313.py:8: FutureWarning: suggest_int() got {'step'} as positional arguments but they were expected to be given as keyword arguments.\n",
      "Positional arguments ['self', 'name', 'low', 'high', 'step', 'log'] in suggest_int() have been deprecated since v3.5.0. They will be replaced with the corresponding keyword arguments in v5.0.0, so please use the keyword specification instead. See https://github.com/optuna/optuna/releases/tag/v3.5.0 for details.\n",
      "  'n_estimators': trial.suggest_int('n_estimators', 100, 500, 100),\n",
      "[I 2025-10-13 21:43:37,210] Trial 12 finished with value: 0.8734972270698682 and parameters: {'n_estimators': 400, 'max_depth': 8, 'learning_rate': 0.07060697292581394, 'colsample_bytree': 0.6625324596467058}. Best is trial 11 with value: 0.8736008754936107.\n",
      "C:\\Users\\tndl3\\AppData\\Local\\Temp\\ipykernel_27420\\1179490313.py:8: FutureWarning: suggest_int() got {'step'} as positional arguments but they were expected to be given as keyword arguments.\n",
      "Positional arguments ['self', 'name', 'low', 'high', 'step', 'log'] in suggest_int() have been deprecated since v3.5.0. They will be replaced with the corresponding keyword arguments in v5.0.0, so please use the keyword specification instead. See https://github.com/optuna/optuna/releases/tag/v3.5.0 for details.\n",
      "  'n_estimators': trial.suggest_int('n_estimators', 100, 500, 100),\n",
      "[I 2025-10-13 21:44:04,626] Trial 13 finished with value: 0.8714658945464245 and parameters: {'n_estimators': 300, 'max_depth': 8, 'learning_rate': 0.07533777177114057, 'colsample_bytree': 0.6620805957229741}. Best is trial 11 with value: 0.8736008754936107.\n",
      "C:\\Users\\tndl3\\AppData\\Local\\Temp\\ipykernel_27420\\1179490313.py:8: FutureWarning: suggest_int() got {'step'} as positional arguments but they were expected to be given as keyword arguments.\n",
      "Positional arguments ['self', 'name', 'low', 'high', 'step', 'log'] in suggest_int() have been deprecated since v3.5.0. They will be replaced with the corresponding keyword arguments in v5.0.0, so please use the keyword specification instead. See https://github.com/optuna/optuna/releases/tag/v3.5.0 for details.\n",
      "  'n_estimators': trial.suggest_int('n_estimators', 100, 500, 100),\n",
      "[I 2025-10-13 21:44:37,741] Trial 14 finished with value: 0.8740361962954905 and parameters: {'n_estimators': 400, 'max_depth': 8, 'learning_rate': 0.18211205783179896, 'colsample_bytree': 0.6979548070144637}. Best is trial 14 with value: 0.8740361962954905.\n",
      "C:\\Users\\tndl3\\AppData\\Local\\Temp\\ipykernel_27420\\1179490313.py:8: FutureWarning: suggest_int() got {'step'} as positional arguments but they were expected to be given as keyword arguments.\n",
      "Positional arguments ['self', 'name', 'low', 'high', 'step', 'log'] in suggest_int() have been deprecated since v3.5.0. They will be replaced with the corresponding keyword arguments in v5.0.0, so please use the keyword specification instead. See https://github.com/optuna/optuna/releases/tag/v3.5.0 for details.\n",
      "  'n_estimators': trial.suggest_int('n_estimators', 100, 500, 100),\n",
      "[I 2025-10-13 21:45:10,469] Trial 15 finished with value: 0.8717975488796957 and parameters: {'n_estimators': 500, 'max_depth': 7, 'learning_rate': 0.18381870941661113, 'colsample_bytree': 0.684967494377448}. Best is trial 14 with value: 0.8740361962954905.\n",
      "C:\\Users\\tndl3\\AppData\\Local\\Temp\\ipykernel_27420\\1179490313.py:8: FutureWarning: suggest_int() got {'step'} as positional arguments but they were expected to be given as keyword arguments.\n",
      "Positional arguments ['self', 'name', 'low', 'high', 'step', 'log'] in suggest_int() have been deprecated since v3.5.0. They will be replaced with the corresponding keyword arguments in v5.0.0, so please use the keyword specification instead. See https://github.com/optuna/optuna/releases/tag/v3.5.0 for details.\n",
      "  'n_estimators': trial.suggest_int('n_estimators', 100, 500, 100),\n",
      "[I 2025-10-13 21:45:41,236] Trial 16 finished with value: 0.8719219501887291 and parameters: {'n_estimators': 300, 'max_depth': 9, 'learning_rate': 0.19904402808611776, 'colsample_bytree': 0.7089059145452028}. Best is trial 14 with value: 0.8740361962954905.\n",
      "C:\\Users\\tndl3\\AppData\\Local\\Temp\\ipykernel_27420\\1179490313.py:8: FutureWarning: suggest_int() got {'step'} as positional arguments but they were expected to be given as keyword arguments.\n",
      "Positional arguments ['self', 'name', 'low', 'high', 'step', 'log'] in suggest_int() have been deprecated since v3.5.0. They will be replaced with the corresponding keyword arguments in v5.0.0, so please use the keyword specification instead. See https://github.com/optuna/optuna/releases/tag/v3.5.0 for details.\n",
      "  'n_estimators': trial.suggest_int('n_estimators', 100, 500, 100),\n",
      "[I 2025-10-13 21:46:01,427] Trial 17 finished with value: 0.871196437000913 and parameters: {'n_estimators': 400, 'max_depth': 6, 'learning_rate': 0.15313492359376504, 'colsample_bytree': 0.5839139223150482}. Best is trial 14 with value: 0.8740361962954905.\n",
      "C:\\Users\\tndl3\\AppData\\Local\\Temp\\ipykernel_27420\\1179490313.py:8: FutureWarning: suggest_int() got {'step'} as positional arguments but they were expected to be given as keyword arguments.\n",
      "Positional arguments ['self', 'name', 'low', 'high', 'step', 'log'] in suggest_int() have been deprecated since v3.5.0. They will be replaced with the corresponding keyword arguments in v5.0.0, so please use the keyword specification instead. See https://github.com/optuna/optuna/releases/tag/v3.5.0 for details.\n",
      "  'n_estimators': trial.suggest_int('n_estimators', 100, 500, 100),\n",
      "[I 2025-10-13 21:46:21,548] Trial 18 finished with value: 0.8694967433437122 and parameters: {'n_estimators': 300, 'max_depth': 7, 'learning_rate': 0.0852517007303652, 'colsample_bytree': 0.616455252598109}. Best is trial 14 with value: 0.8740361962954905.\n",
      "C:\\Users\\tndl3\\AppData\\Local\\Temp\\ipykernel_27420\\1179490313.py:8: FutureWarning: suggest_int() got {'step'} as positional arguments but they were expected to be given as keyword arguments.\n",
      "Positional arguments ['self', 'name', 'low', 'high', 'step', 'log'] in suggest_int() have been deprecated since v3.5.0. They will be replaced with the corresponding keyword arguments in v5.0.0, so please use the keyword specification instead. See https://github.com/optuna/optuna/releases/tag/v3.5.0 for details.\n",
      "  'n_estimators': trial.suggest_int('n_estimators', 100, 500, 100),\n",
      "[I 2025-10-13 21:47:10,574] Trial 19 finished with value: 0.8748652638159599 and parameters: {'n_estimators': 500, 'max_depth': 9, 'learning_rate': 0.1306034547305802, 'colsample_bytree': 0.7281138935115632}. Best is trial 19 with value: 0.8748652638159599.\n",
      "C:\\Users\\tndl3\\AppData\\Local\\Temp\\ipykernel_27420\\1179490313.py:8: FutureWarning: suggest_int() got {'step'} as positional arguments but they were expected to be given as keyword arguments.\n",
      "Positional arguments ['self', 'name', 'low', 'high', 'step', 'log'] in suggest_int() have been deprecated since v3.5.0. They will be replaced with the corresponding keyword arguments in v5.0.0, so please use the keyword specification instead. See https://github.com/optuna/optuna/releases/tag/v3.5.0 for details.\n",
      "  'n_estimators': trial.suggest_int('n_estimators', 100, 500, 100),\n",
      "[I 2025-10-13 21:47:58,572] Trial 20 finished with value: 0.8736216129118732 and parameters: {'n_estimators': 500, 'max_depth': 9, 'learning_rate': 0.1735262049317517, 'colsample_bytree': 0.7506587800783534}. Best is trial 19 with value: 0.8748652638159599.\n",
      "C:\\Users\\tndl3\\AppData\\Local\\Temp\\ipykernel_27420\\1179490313.py:8: FutureWarning: suggest_int() got {'step'} as positional arguments but they were expected to be given as keyword arguments.\n",
      "Positional arguments ['self', 'name', 'low', 'high', 'step', 'log'] in suggest_int() have been deprecated since v3.5.0. They will be replaced with the corresponding keyword arguments in v5.0.0, so please use the keyword specification instead. See https://github.com/optuna/optuna/releases/tag/v3.5.0 for details.\n",
      "  'n_estimators': trial.suggest_int('n_estimators', 100, 500, 100),\n",
      "[I 2025-10-13 21:48:47,540] Trial 21 finished with value: 0.8746787623880939 and parameters: {'n_estimators': 500, 'max_depth': 9, 'learning_rate': 0.1754378411907229, 'colsample_bytree': 0.7387749716847395}. Best is trial 19 with value: 0.8748652638159599.\n",
      "C:\\Users\\tndl3\\AppData\\Local\\Temp\\ipykernel_27420\\1179490313.py:8: FutureWarning: suggest_int() got {'step'} as positional arguments but they were expected to be given as keyword arguments.\n",
      "Positional arguments ['self', 'name', 'low', 'high', 'step', 'log'] in suggest_int() have been deprecated since v3.5.0. They will be replaced with the corresponding keyword arguments in v5.0.0, so please use the keyword specification instead. See https://github.com/optuna/optuna/releases/tag/v3.5.0 for details.\n",
      "  'n_estimators': trial.suggest_int('n_estimators', 100, 500, 100),\n",
      "[I 2025-10-13 22:09:27,764] Trial 22 finished with value: 0.874782390189132 and parameters: {'n_estimators': 500, 'max_depth': 10, 'learning_rate': 0.13183139669693428, 'colsample_bytree': 0.7583225379319761}. Best is trial 19 with value: 0.8748652638159599.\n",
      "C:\\Users\\tndl3\\AppData\\Local\\Temp\\ipykernel_27420\\1179490313.py:8: FutureWarning: suggest_int() got {'step'} as positional arguments but they were expected to be given as keyword arguments.\n",
      "Positional arguments ['self', 'name', 'low', 'high', 'step', 'log'] in suggest_int() have been deprecated since v3.5.0. They will be replaced with the corresponding keyword arguments in v5.0.0, so please use the keyword specification instead. See https://github.com/optuna/optuna/releases/tag/v3.5.0 for details.\n",
      "  'n_estimators': trial.suggest_int('n_estimators', 100, 500, 100),\n",
      "[I 2025-10-13 22:10:23,638] Trial 23 finished with value: 0.875404226596987 and parameters: {'n_estimators': 500, 'max_depth': 10, 'learning_rate': 0.1341848715842727, 'colsample_bytree': 0.7735269858036522}. Best is trial 23 with value: 0.875404226596987.\n",
      "C:\\Users\\tndl3\\AppData\\Local\\Temp\\ipykernel_27420\\1179490313.py:8: FutureWarning: suggest_int() got {'step'} as positional arguments but they were expected to be given as keyword arguments.\n",
      "Positional arguments ['self', 'name', 'low', 'high', 'step', 'log'] in suggest_int() have been deprecated since v3.5.0. They will be replaced with the corresponding keyword arguments in v5.0.0, so please use the keyword specification instead. See https://github.com/optuna/optuna/releases/tag/v3.5.0 for details.\n",
      "  'n_estimators': trial.suggest_int('n_estimators', 100, 500, 100),\n",
      "[I 2025-10-13 22:11:19,846] Trial 24 finished with value: 0.8761089508097792 and parameters: {'n_estimators': 500, 'max_depth': 10, 'learning_rate': 0.130161824676016, 'colsample_bytree': 0.7615338373458207}. Best is trial 24 with value: 0.8761089508097792.\n",
      "C:\\Users\\tndl3\\AppData\\Local\\Temp\\ipykernel_27420\\1179490313.py:8: FutureWarning: suggest_int() got {'step'} as positional arguments but they were expected to be given as keyword arguments.\n",
      "Positional arguments ['self', 'name', 'low', 'high', 'step', 'log'] in suggest_int() have been deprecated since v3.5.0. They will be replaced with the corresponding keyword arguments in v5.0.0, so please use the keyword specification instead. See https://github.com/optuna/optuna/releases/tag/v3.5.0 for details.\n",
      "  'n_estimators': trial.suggest_int('n_estimators', 100, 500, 100),\n",
      "[I 2025-10-13 22:12:18,139] Trial 25 finished with value: 0.8741605305807343 and parameters: {'n_estimators': 500, 'max_depth': 10, 'learning_rate': 0.12944769376945608, 'colsample_bytree': 0.8371338992767403}. Best is trial 24 with value: 0.8761089508097792.\n",
      "C:\\Users\\tndl3\\AppData\\Local\\Temp\\ipykernel_27420\\1179490313.py:8: FutureWarning: suggest_int() got {'step'} as positional arguments but they were expected to be given as keyword arguments.\n",
      "Positional arguments ['self', 'name', 'low', 'high', 'step', 'log'] in suggest_int() have been deprecated since v3.5.0. They will be replaced with the corresponding keyword arguments in v5.0.0, so please use the keyword specification instead. See https://github.com/optuna/optuna/releases/tag/v3.5.0 for details.\n",
      "  'n_estimators': trial.suggest_int('n_estimators', 100, 500, 100),\n",
      "[I 2025-10-13 22:13:14,239] Trial 26 finished with value: 0.8758394739304821 and parameters: {'n_estimators': 500, 'max_depth': 10, 'learning_rate': 0.1542878763009942, 'colsample_bytree': 0.7736156043395727}. Best is trial 24 with value: 0.8761089508097792.\n",
      "C:\\Users\\tndl3\\AppData\\Local\\Temp\\ipykernel_27420\\1179490313.py:8: FutureWarning: suggest_int() got {'step'} as positional arguments but they were expected to be given as keyword arguments.\n",
      "Positional arguments ['self', 'name', 'low', 'high', 'step', 'log'] in suggest_int() have been deprecated since v3.5.0. They will be replaced with the corresponding keyword arguments in v5.0.0, so please use the keyword specification instead. See https://github.com/optuna/optuna/releases/tag/v3.5.0 for details.\n",
      "  'n_estimators': trial.suggest_int('n_estimators', 100, 500, 100),\n",
      "[I 2025-10-13 22:14:20,348] Trial 27 finished with value: 0.8751969297495023 and parameters: {'n_estimators': 500, 'max_depth': 10, 'learning_rate': 0.15321196775939305, 'colsample_bytree': 0.907384305647219}. Best is trial 24 with value: 0.8761089508097792.\n",
      "C:\\Users\\tndl3\\AppData\\Local\\Temp\\ipykernel_27420\\1179490313.py:8: FutureWarning: suggest_int() got {'step'} as positional arguments but they were expected to be given as keyword arguments.\n",
      "Positional arguments ['self', 'name', 'low', 'high', 'step', 'log'] in suggest_int() have been deprecated since v3.5.0. They will be replaced with the corresponding keyword arguments in v5.0.0, so please use the keyword specification instead. See https://github.com/optuna/optuna/releases/tag/v3.5.0 for details.\n",
      "  'n_estimators': trial.suggest_int('n_estimators', 100, 500, 100),\n",
      "[I 2025-10-13 22:15:36,899] Trial 28 finished with value: 0.8747409256639589 and parameters: {'n_estimators': 500, 'max_depth': 10, 'learning_rate': 0.10120748223626913, 'colsample_bytree': 0.7770691209224223}. Best is trial 24 with value: 0.8761089508097792.\n",
      "C:\\Users\\tndl3\\AppData\\Local\\Temp\\ipykernel_27420\\1179490313.py:8: FutureWarning: suggest_int() got {'step'} as positional arguments but they were expected to be given as keyword arguments.\n",
      "Positional arguments ['self', 'name', 'low', 'high', 'step', 'log'] in suggest_int() have been deprecated since v3.5.0. They will be replaced with the corresponding keyword arguments in v5.0.0, so please use the keyword specification instead. See https://github.com/optuna/optuna/releases/tag/v3.5.0 for details.\n",
      "  'n_estimators': trial.suggest_int('n_estimators', 100, 500, 100),\n",
      "[I 2025-10-13 22:16:32,647] Trial 29 finished with value: 0.8745336584616118 and parameters: {'n_estimators': 400, 'max_depth': 10, 'learning_rate': 0.09126499063667551, 'colsample_bytree': 0.866299491429974}. Best is trial 24 with value: 0.8761089508097792.\n",
      "C:\\Users\\tndl3\\AppData\\Local\\Temp\\ipykernel_27420\\1179490313.py:8: FutureWarning: suggest_int() got {'step'} as positional arguments but they were expected to be given as keyword arguments.\n",
      "Positional arguments ['self', 'name', 'low', 'high', 'step', 'log'] in suggest_int() have been deprecated since v3.5.0. They will be replaced with the corresponding keyword arguments in v5.0.0, so please use the keyword specification instead. See https://github.com/optuna/optuna/releases/tag/v3.5.0 for details.\n",
      "  'n_estimators': trial.suggest_int('n_estimators', 100, 500, 100),\n",
      "[I 2025-10-13 22:16:46,560] Trial 30 finished with value: 0.8690200069955822 and parameters: {'n_estimators': 100, 'max_depth': 9, 'learning_rate': 0.14370234894822756, 'colsample_bytree': 0.8524498355762109}. Best is trial 24 with value: 0.8761089508097792.\n",
      "C:\\Users\\tndl3\\AppData\\Local\\Temp\\ipykernel_27420\\1179490313.py:8: FutureWarning: suggest_int() got {'step'} as positional arguments but they were expected to be given as keyword arguments.\n",
      "Positional arguments ['self', 'name', 'low', 'high', 'step', 'log'] in suggest_int() have been deprecated since v3.5.0. They will be replaced with the corresponding keyword arguments in v5.0.0, so please use the keyword specification instead. See https://github.com/optuna/optuna/releases/tag/v3.5.0 for details.\n",
      "  'n_estimators': trial.suggest_int('n_estimators', 100, 500, 100),\n",
      "[I 2025-10-13 22:17:45,270] Trial 31 finished with value: 0.874761639881679 and parameters: {'n_estimators': 500, 'max_depth': 10, 'learning_rate': 0.1593084339923128, 'colsample_bytree': 0.9119884125488846}. Best is trial 24 with value: 0.8761089508097792.\n",
      "C:\\Users\\tndl3\\AppData\\Local\\Temp\\ipykernel_27420\\1179490313.py:8: FutureWarning: suggest_int() got {'step'} as positional arguments but they were expected to be given as keyword arguments.\n",
      "Positional arguments ['self', 'name', 'low', 'high', 'step', 'log'] in suggest_int() have been deprecated since v3.5.0. They will be replaced with the corresponding keyword arguments in v5.0.0, so please use the keyword specification instead. See https://github.com/optuna/optuna/releases/tag/v3.5.0 for details.\n",
      "  'n_estimators': trial.suggest_int('n_estimators', 100, 500, 100),\n",
      "[I 2025-10-13 22:19:02,922] Trial 32 finished with value: 0.8734765141410671 and parameters: {'n_estimators': 500, 'max_depth': 10, 'learning_rate': 0.1197195548148376, 'colsample_bytree': 0.9243085445665263}. Best is trial 24 with value: 0.8761089508097792.\n",
      "C:\\Users\\tndl3\\AppData\\Local\\Temp\\ipykernel_27420\\1179490313.py:8: FutureWarning: suggest_int() got {'step'} as positional arguments but they were expected to be given as keyword arguments.\n",
      "Positional arguments ['self', 'name', 'low', 'high', 'step', 'log'] in suggest_int() have been deprecated since v3.5.0. They will be replaced with the corresponding keyword arguments in v5.0.0, so please use the keyword specification instead. See https://github.com/optuna/optuna/releases/tag/v3.5.0 for details.\n",
      "  'n_estimators': trial.suggest_int('n_estimators', 100, 500, 100),\n",
      "[I 2025-10-13 22:19:58,462] Trial 33 finished with value: 0.8744299803927317 and parameters: {'n_estimators': 500, 'max_depth': 9, 'learning_rate': 0.16339315148932876, 'colsample_bytree': 0.8085020670783231}. Best is trial 24 with value: 0.8761089508097792.\n",
      "C:\\Users\\tndl3\\AppData\\Local\\Temp\\ipykernel_27420\\1179490313.py:8: FutureWarning: suggest_int() got {'step'} as positional arguments but they were expected to be given as keyword arguments.\n",
      "Positional arguments ['self', 'name', 'low', 'high', 'step', 'log'] in suggest_int() have been deprecated since v3.5.0. They will be replaced with the corresponding keyword arguments in v5.0.0, so please use the keyword specification instead. See https://github.com/optuna/optuna/releases/tag/v3.5.0 for details.\n",
      "  'n_estimators': trial.suggest_int('n_estimators', 100, 500, 100),\n",
      "[I 2025-10-13 22:21:02,142] Trial 34 finished with value: 0.8735801393642669 and parameters: {'n_estimators': 500, 'max_depth': 10, 'learning_rate': 0.14220793496472348, 'colsample_bytree': 0.9978820412669923}. Best is trial 24 with value: 0.8761089508097792.\n",
      "C:\\Users\\tndl3\\AppData\\Local\\Temp\\ipykernel_27420\\1179490313.py:8: FutureWarning: suggest_int() got {'step'} as positional arguments but they were expected to be given as keyword arguments.\n",
      "Positional arguments ['self', 'name', 'low', 'high', 'step', 'log'] in suggest_int() have been deprecated since v3.5.0. They will be replaced with the corresponding keyword arguments in v5.0.0, so please use the keyword specification instead. See https://github.com/optuna/optuna/releases/tag/v3.5.0 for details.\n",
      "  'n_estimators': trial.suggest_int('n_estimators', 100, 500, 100),\n",
      "[I 2025-10-13 22:21:54,011] Trial 35 finished with value: 0.8750311232055711 and parameters: {'n_estimators': 400, 'max_depth': 10, 'learning_rate': 0.12345645659848872, 'colsample_bytree': 0.8334397815047643}. Best is trial 24 with value: 0.8761089508097792.\n",
      "C:\\Users\\tndl3\\AppData\\Local\\Temp\\ipykernel_27420\\1179490313.py:8: FutureWarning: suggest_int() got {'step'} as positional arguments but they were expected to be given as keyword arguments.\n",
      "Positional arguments ['self', 'name', 'low', 'high', 'step', 'log'] in suggest_int() have been deprecated since v3.5.0. They will be replaced with the corresponding keyword arguments in v5.0.0, so please use the keyword specification instead. See https://github.com/optuna/optuna/releases/tag/v3.5.0 for details.\n",
      "  'n_estimators': trial.suggest_int('n_estimators', 100, 500, 100),\n",
      "[I 2025-10-13 22:22:49,107] Trial 36 finished with value: 0.8738081697632573 and parameters: {'n_estimators': 500, 'max_depth': 9, 'learning_rate': 0.10224622564624739, 'colsample_bytree': 0.8934196344977122}. Best is trial 24 with value: 0.8761089508097792.\n",
      "C:\\Users\\tndl3\\AppData\\Local\\Temp\\ipykernel_27420\\1179490313.py:8: FutureWarning: suggest_int() got {'step'} as positional arguments but they were expected to be given as keyword arguments.\n",
      "Positional arguments ['self', 'name', 'low', 'high', 'step', 'log'] in suggest_int() have been deprecated since v3.5.0. They will be replaced with the corresponding keyword arguments in v5.0.0, so please use the keyword specification instead. See https://github.com/optuna/optuna/releases/tag/v3.5.0 for details.\n",
      "  'n_estimators': trial.suggest_int('n_estimators', 100, 500, 100),\n",
      "[I 2025-10-13 22:23:37,204] Trial 37 finished with value: 0.8738081349624435 and parameters: {'n_estimators': 400, 'max_depth': 10, 'learning_rate': 0.16773646498294165, 'colsample_bytree': 0.7775252472099462}. Best is trial 24 with value: 0.8761089508097792.\n",
      "C:\\Users\\tndl3\\AppData\\Local\\Temp\\ipykernel_27420\\1179490313.py:8: FutureWarning: suggest_int() got {'step'} as positional arguments but they were expected to be given as keyword arguments.\n",
      "Positional arguments ['self', 'name', 'low', 'high', 'step', 'log'] in suggest_int() have been deprecated since v3.5.0. They will be replaced with the corresponding keyword arguments in v5.0.0, so please use the keyword specification instead. See https://github.com/optuna/optuna/releases/tag/v3.5.0 for details.\n",
      "  'n_estimators': trial.suggest_int('n_estimators', 100, 500, 100),\n",
      "[I 2025-10-13 22:23:47,762] Trial 38 finished with value: 0.864066028661543 and parameters: {'n_estimators': 200, 'max_depth': 5, 'learning_rate': 0.15046336232408775, 'colsample_bytree': 0.9291406687794543}. Best is trial 24 with value: 0.8761089508097792.\n",
      "C:\\Users\\tndl3\\AppData\\Local\\Temp\\ipykernel_27420\\1179490313.py:8: FutureWarning: suggest_int() got {'step'} as positional arguments but they were expected to be given as keyword arguments.\n",
      "Positional arguments ['self', 'name', 'low', 'high', 'step', 'log'] in suggest_int() have been deprecated since v3.5.0. They will be replaced with the corresponding keyword arguments in v5.0.0, so please use the keyword specification instead. See https://github.com/optuna/optuna/releases/tag/v3.5.0 for details.\n",
      "  'n_estimators': trial.suggest_int('n_estimators', 100, 500, 100),\n",
      "[I 2025-10-13 22:24:05,671] Trial 39 finished with value: 0.866055963683603 and parameters: {'n_estimators': 500, 'max_depth': 4, 'learning_rate': 0.19919406457672997, 'colsample_bytree': 0.8255581704058217}. Best is trial 24 with value: 0.8761089508097792.\n",
      "C:\\Users\\tndl3\\AppData\\Local\\Temp\\ipykernel_27420\\1179490313.py:8: FutureWarning: suggest_int() got {'step'} as positional arguments but they were expected to be given as keyword arguments.\n",
      "Positional arguments ['self', 'name', 'low', 'high', 'step', 'log'] in suggest_int() have been deprecated since v3.5.0. They will be replaced with the corresponding keyword arguments in v5.0.0, so please use the keyword specification instead. See https://github.com/optuna/optuna/releases/tag/v3.5.0 for details.\n",
      "  'n_estimators': trial.suggest_int('n_estimators', 100, 500, 100),\n",
      "[I 2025-10-13 22:24:55,718] Trial 40 finished with value: 0.8735386941728792 and parameters: {'n_estimators': 500, 'max_depth': 9, 'learning_rate': 0.1384961351980696, 'colsample_bytree': 0.7840302857244096}. Best is trial 24 with value: 0.8761089508097792.\n",
      "C:\\Users\\tndl3\\AppData\\Local\\Temp\\ipykernel_27420\\1179490313.py:8: FutureWarning: suggest_int() got {'step'} as positional arguments but they were expected to be given as keyword arguments.\n",
      "Positional arguments ['self', 'name', 'low', 'high', 'step', 'log'] in suggest_int() have been deprecated since v3.5.0. They will be replaced with the corresponding keyword arguments in v5.0.0, so please use the keyword specification instead. See https://github.com/optuna/optuna/releases/tag/v3.5.0 for details.\n",
      "  'n_estimators': trial.suggest_int('n_estimators', 100, 500, 100),\n",
      "[I 2025-10-13 22:25:48,538] Trial 41 finished with value: 0.8752384071638657 and parameters: {'n_estimators': 400, 'max_depth': 10, 'learning_rate': 0.12320374785013802, 'colsample_bytree': 0.8340533299616344}. Best is trial 24 with value: 0.8761089508097792.\n",
      "C:\\Users\\tndl3\\AppData\\Local\\Temp\\ipykernel_27420\\1179490313.py:8: FutureWarning: suggest_int() got {'step'} as positional arguments but they were expected to be given as keyword arguments.\n",
      "Positional arguments ['self', 'name', 'low', 'high', 'step', 'log'] in suggest_int() have been deprecated since v3.5.0. They will be replaced with the corresponding keyword arguments in v5.0.0, so please use the keyword specification instead. See https://github.com/optuna/optuna/releases/tag/v3.5.0 for details.\n",
      "  'n_estimators': trial.suggest_int('n_estimators', 100, 500, 100),\n",
      "[I 2025-10-13 22:26:41,639] Trial 42 finished with value: 0.8744714681184473 and parameters: {'n_estimators': 400, 'max_depth': 10, 'learning_rate': 0.10824041654784852, 'colsample_bytree': 0.8534304325458738}. Best is trial 24 with value: 0.8761089508097792.\n",
      "C:\\Users\\tndl3\\AppData\\Local\\Temp\\ipykernel_27420\\1179490313.py:8: FutureWarning: suggest_int() got {'step'} as positional arguments but they were expected to be given as keyword arguments.\n",
      "Positional arguments ['self', 'name', 'low', 'high', 'step', 'log'] in suggest_int() have been deprecated since v3.5.0. They will be replaced with the corresponding keyword arguments in v5.0.0, so please use the keyword specification instead. See https://github.com/optuna/optuna/releases/tag/v3.5.0 for details.\n",
      "  'n_estimators': trial.suggest_int('n_estimators', 100, 500, 100),\n",
      "[I 2025-10-13 22:27:43,357] Trial 43 finished with value: 0.8741190647666421 and parameters: {'n_estimators': 500, 'max_depth': 10, 'learning_rate': 0.14938412775623175, 'colsample_bytree': 0.8968857373192587}. Best is trial 24 with value: 0.8761089508097792.\n",
      "C:\\Users\\tndl3\\AppData\\Local\\Temp\\ipykernel_27420\\1179490313.py:8: FutureWarning: suggest_int() got {'step'} as positional arguments but they were expected to be given as keyword arguments.\n",
      "Positional arguments ['self', 'name', 'low', 'high', 'step', 'log'] in suggest_int() have been deprecated since v3.5.0. They will be replaced with the corresponding keyword arguments in v5.0.0, so please use the keyword specification instead. See https://github.com/optuna/optuna/releases/tag/v3.5.0 for details.\n",
      "  'n_estimators': trial.suggest_int('n_estimators', 100, 500, 100),\n",
      "[I 2025-10-13 22:28:27,106] Trial 44 finished with value: 0.8747616682378977 and parameters: {'n_estimators': 400, 'max_depth': 9, 'learning_rate': 0.12398083216223219, 'colsample_bytree': 0.8054730059020586}. Best is trial 24 with value: 0.8761089508097792.\n",
      "C:\\Users\\tndl3\\AppData\\Local\\Temp\\ipykernel_27420\\1179490313.py:8: FutureWarning: suggest_int() got {'step'} as positional arguments but they were expected to be given as keyword arguments.\n",
      "Positional arguments ['self', 'name', 'low', 'high', 'step', 'log'] in suggest_int() have been deprecated since v3.5.0. They will be replaced with the corresponding keyword arguments in v5.0.0, so please use the keyword specification instead. See https://github.com/optuna/optuna/releases/tag/v3.5.0 for details.\n",
      "  'n_estimators': trial.suggest_int('n_estimators', 100, 500, 100),\n",
      "[I 2025-10-13 22:29:13,029] Trial 45 finished with value: 0.8740983170370273 and parameters: {'n_estimators': 300, 'max_depth': 10, 'learning_rate': 0.11342982443582297, 'colsample_bytree': 0.9474236719196615}. Best is trial 24 with value: 0.8761089508097792.\n",
      "C:\\Users\\tndl3\\AppData\\Local\\Temp\\ipykernel_27420\\1179490313.py:8: FutureWarning: suggest_int() got {'step'} as positional arguments but they were expected to be given as keyword arguments.\n",
      "Positional arguments ['self', 'name', 'low', 'high', 'step', 'log'] in suggest_int() have been deprecated since v3.5.0. They will be replaced with the corresponding keyword arguments in v5.0.0, so please use the keyword specification instead. See https://github.com/optuna/optuna/releases/tag/v3.5.0 for details.\n",
      "  'n_estimators': trial.suggest_int('n_estimators', 100, 500, 100),\n",
      "[I 2025-10-13 22:42:13,283] Trial 46 finished with value: 0.8743056125955931 and parameters: {'n_estimators': 500, 'max_depth': 8, 'learning_rate': 0.13621571040289077, 'colsample_bytree': 0.7589305751122477}. Best is trial 24 with value: 0.8761089508097792.\n",
      "C:\\Users\\tndl3\\AppData\\Local\\Temp\\ipykernel_27420\\1179490313.py:8: FutureWarning: suggest_int() got {'step'} as positional arguments but they were expected to be given as keyword arguments.\n",
      "Positional arguments ['self', 'name', 'low', 'high', 'step', 'log'] in suggest_int() have been deprecated since v3.5.0. They will be replaced with the corresponding keyword arguments in v5.0.0, so please use the keyword specification instead. See https://github.com/optuna/optuna/releases/tag/v3.5.0 for details.\n",
      "  'n_estimators': trial.suggest_int('n_estimators', 100, 500, 100),\n",
      "[I 2025-10-13 22:43:16,823] Trial 47 finished with value: 0.8595058305579878 and parameters: {'n_estimators': 400, 'max_depth': 9, 'learning_rate': 0.015643316887688136, 'colsample_bytree': 0.8658931338309761}. Best is trial 24 with value: 0.8761089508097792.\n",
      "C:\\Users\\tndl3\\AppData\\Local\\Temp\\ipykernel_27420\\1179490313.py:8: FutureWarning: suggest_int() got {'step'} as positional arguments but they were expected to be given as keyword arguments.\n",
      "Positional arguments ['self', 'name', 'low', 'high', 'step', 'log'] in suggest_int() have been deprecated since v3.5.0. They will be replaced with the corresponding keyword arguments in v5.0.0, so please use the keyword specification instead. See https://github.com/optuna/optuna/releases/tag/v3.5.0 for details.\n",
      "  'n_estimators': trial.suggest_int('n_estimators', 100, 500, 100),\n",
      "[I 2025-10-13 22:43:32,143] Trial 48 finished with value: 0.8471311934972859 and parameters: {'n_estimators': 500, 'max_depth': 3, 'learning_rate': 0.05660005067209128, 'colsample_bytree': 0.7255538142120604}. Best is trial 24 with value: 0.8761089508097792.\n",
      "C:\\Users\\tndl3\\AppData\\Local\\Temp\\ipykernel_27420\\1179490313.py:8: FutureWarning: suggest_int() got {'step'} as positional arguments but they were expected to be given as keyword arguments.\n",
      "Positional arguments ['self', 'name', 'low', 'high', 'step', 'log'] in suggest_int() have been deprecated since v3.5.0. They will be replaced with the corresponding keyword arguments in v5.0.0, so please use the keyword specification instead. See https://github.com/optuna/optuna/releases/tag/v3.5.0 for details.\n",
      "  'n_estimators': trial.suggest_int('n_estimators', 100, 500, 100),\n",
      "[I 2025-10-13 22:44:17,337] Trial 49 finished with value: 0.8757358976862055 and parameters: {'n_estimators': 400, 'max_depth': 10, 'learning_rate': 0.14724445568926617, 'colsample_bytree': 0.6727009387659508}. Best is trial 24 with value: 0.8761089508097792.\n"
     ]
    },
    {
     "name": "stdout",
     "output_type": "stream",
     "text": [
      "0.8761089508097792\n",
      "{'n_estimators': 500, 'max_depth': 10, 'learning_rate': 0.130161824676016, 'colsample_bytree': 0.7615338373458207}\n"
     ]
    }
   ],
   "source": [
    "study.optimize(xgb_optuna_objective, n_trials=50)\n",
    "\n",
    "print(study.best_value)\n",
    "print(study.best_params)"
   ]
  },
  {
   "cell_type": "code",
   "execution_count": 9,
   "id": "1b6ecdcf",
   "metadata": {},
   "outputs": [
    {
     "name": "stdout",
     "output_type": "stream",
     "text": [
      "(array([0, 1], dtype=int64), array([19297, 19298], dtype=int64))\n",
      "(array([0, 1], dtype=int64), array([4825, 4824], dtype=int64))\n",
      "=========================================\n",
      "(array([0, 1], dtype=int64), array([19297, 19298], dtype=int64))\n",
      "(array([0, 1], dtype=int64), array([4825, 4824], dtype=int64))\n",
      "=========================================\n",
      "(array([0, 1], dtype=int64), array([19298, 19297], dtype=int64))\n",
      "(array([0, 1], dtype=int64), array([4824, 4825], dtype=int64))\n",
      "=========================================\n",
      "(array([0, 1], dtype=int64), array([19298, 19297], dtype=int64))\n",
      "(array([0, 1], dtype=int64), array([4824, 4825], dtype=int64))\n",
      "=========================================\n",
      "(array([0, 1], dtype=int64), array([19298, 19298], dtype=int64))\n",
      "(array([0, 1], dtype=int64), array([4824, 4824], dtype=int64))\n",
      "=========================================\n",
      "훈련별 정확도:  [0.881334853352679, 0.8759456938542854, 0.8793657373821121, 0.8751165923929941, 0.878731343283582]\n",
      "분류 모델 정확도:  0.8780988440531304\n"
     ]
    }
   ],
   "source": [
    "from xgboost import XGBClassifier\n",
    "from sklearn.model_selection import StratifiedKFold\n",
    "from sklearn.metrics import accuracy_score\n",
    "\n",
    "# XGBoost 이진 분류 학습\n",
    "xgb_clf = XGBClassifier(\n",
    "    n_estimators = 500, \n",
    "    max_depth = 10, \n",
    "    learning_rate = 0.130161824676016,\n",
    "    colsample_bytree = 0.7615338373458207\n",
    ")\n",
    "\n",
    "s_kfold = StratifiedKFold(n_splits=5, shuffle=True, random_state=42)\n",
    "\n",
    "cv_accuracy = []\n",
    "\n",
    "for train_index, val_index in s_kfold.split(X_train, y_train):\n",
    "    X_tra, y_tra = X_train.to_numpy()[train_index], y_train.to_numpy()[train_index]\n",
    "    X_val, y_val = X_train.to_numpy()[val_index], y_train.to_numpy()[val_index]\n",
    "\n",
    "\n",
    "    print(np.unique(y_tra, return_counts=True))\n",
    "    print(np.unique(y_val, return_counts=True))\n",
    "    print('=========================================')\n",
    "\n",
    "    # 모델 학습 > 예측 > 평가\n",
    "    xgb_clf.fit(X_tra, y_tra)\n",
    "    y_pred = xgb_clf.predict(X_val)\n",
    "    acc = accuracy_score(y_val, y_pred)\n",
    "    cv_accuracy.append(acc)\n",
    "\n",
    "print('훈련별 정확도: ', cv_accuracy)\n",
    "print('분류 모델 정확도: ', np.mean(cv_accuracy))"
   ]
  },
  {
   "cell_type": "markdown",
   "id": "52510725",
   "metadata": {},
   "source": [
    "---\n",
    "### test 데이터 예측 -> 평가"
   ]
  },
  {
   "cell_type": "code",
   "execution_count": 10,
   "id": "00b67cb5",
   "metadata": {},
   "outputs": [
    {
     "name": "stdout",
     "output_type": "stream",
     "text": [
      "정확도: 0.8787929033327806, 정밀도: 0.8863521055301877, 재현율: 0.8690101144088874, f1: 0.8775954454119224\n",
      "              precision    recall  f1-score   support\n",
      "\n",
      "          안정       0.87      0.89      0.88      6031\n",
      "          위험       0.89      0.87      0.88      6031\n",
      "\n",
      "    accuracy                           0.88     12062\n",
      "   macro avg       0.88      0.88      0.88     12062\n",
      "weighted avg       0.88      0.88      0.88     12062\n",
      "\n"
     ]
    }
   ],
   "source": [
    "from sklearn.metrics import accuracy_score, recall_score, precision_score, f1_score\n",
    "from sklearn.metrics import classification_report\n",
    "\n",
    "y_pred = xgb_clf.predict(X_test)\n",
    "\n",
    "print(f'정확도: {accuracy_score(y_test, y_pred)}, 정밀도: {precision_score(y_test, y_pred)}, 재현율: {recall_score(y_test, y_pred)}, f1: {f1_score(y_test, y_pred)}')\n",
    "print(classification_report(y_test, y_pred, target_names=['안정', '위험']))"
   ]
  },
  {
   "cell_type": "code",
   "execution_count": 11,
   "id": "fe8bc285",
   "metadata": {},
   "outputs": [
    {
     "data": {
      "image/png": "[encoded data removed]",
      "text/plain": [
       "<Figure size 600x500 with 2 Axes>"
      ]
     },
     "metadata": {},
     "output_type": "display_data"
    }
   ],
   "source": [
    "from sklearn.metrics import confusion_matrix\n",
    "\n",
    "cm = confusion_matrix(y_test, y_pred)\n",
    "\n",
    "plt.figure(figsize=(6,5))\n",
    "sns.heatmap(cm, annot=True, fmt='d',\n",
    "            xticklabels=['안정(0)', '위험(1)'],\n",
    "            yticklabels=['안정(0)', '위험(1)'])\n",
    "\n",
    "plt.xlabel('예측값')\n",
    "plt.ylabel('실제값')\n",
    "plt.title('XGBoost 분류')\n",
    "plt.show()"
   ]
  },
  {
   "cell_type": "code",
   "execution_count": 12,
   "id": "ba5884db",
   "metadata": {},
   "outputs": [
    {
     "data": {
      "image/png": "[encoded data removed]",
      "text/plain": [
       "<Figure size 640x480 with 1 Axes>"
      ]
     },
     "metadata": {},
     "output_type": "display_data"
    }
   ],
   "source": [
    "from sklearn.metrics import roc_curve, auc\n",
    "\n",
    "y_pred_proba = xgb_clf.predict_proba(X_test)[:, 1]\n",
    "\n",
    "fpr, tpr, thresholds = roc_curve(y_test, y_pred_proba)\n",
    "roc_auc = auc(fpr, tpr)\n",
    "\n",
    "plt.plot(fpr, tpr, color='blue', label=f'ROC curve(AUC={roc_auc:.2f})')\n",
    "plt.plot([0, 1], color='gray', linestyle='--')\n",
    "plt.xlabel('FPR (False Positive Rate)')\n",
    "plt.ylabel('TPR (True Positive Rate)')\n",
    "plt.legend()\n",
    "plt.show()"
   ]
  }
 ],
 "metadata": {
  "kernelspec": {
   "display_name": "pystudy_env",
   "language": "python",
   "name": "python3"
  },
  "language_info": {
   "codemirror_mode": {
    "name": "ipython",
    "version": 3
   },
   "file_extension": ".py",
   "mimetype": "text/x-python",
   "name": "python",
   "nbconvert_exporter": "python",
   "pygments_lexer": "ipython3",
   "version": "3.12.11"
  }
 },
 "nbformat": 4,
 "nbformat_minor": 5
}
