{
 "cells": [
  {
   "cell_type": "code",
   "execution_count": 1,
   "id": "501620fc",
   "metadata": {},
   "outputs": [],
   "source": [
    "import numpy as np\n",
    "import pandas as pd\n",
    "import matplotlib.pyplot as plt\n",
    "import seaborn as sns"
   ]
  },
  {
   "cell_type": "code",
   "execution_count": 2,
   "id": "9e13cbc3",
   "metadata": {},
   "outputs": [],
   "source": [
    "import matplotlib.font_manager as fm\n",
    "import matplotlib\n",
    "\n",
    "font_path = 'C:\\\\Windows\\\\Fonts\\\\gulim.ttc'\n",
    "font = fm.FontProperties(fname=font_path).get_name()\n",
    "matplotlib.rc('font', family=font)"
   ]
  },
  {
   "cell_type": "markdown",
   "id": "31c4e4e1",
   "metadata": {},
   "source": [
    "### EDA"
   ]
  },
  {
   "cell_type": "code",
   "execution_count": 3,
   "id": "03b32de3",
   "metadata": {},
   "outputs": [],
   "source": [
    "df = pd.read_csv('../../eda/data/merged_data.csv')"
   ]
  },
  {
   "cell_type": "code",
   "execution_count": 4,
   "id": "29158ec4",
   "metadata": {},
   "outputs": [],
   "source": [
    "df = df.drop(['폐업_점포_수', '폐업_영업_개월_평균', '서울시_폐업_영업_개월_평균', '기준_년분기_코드'], axis=1)"
   ]
  },
  {
   "cell_type": "code",
   "execution_count": 5,
   "id": "ab9b8ce0",
   "metadata": {},
   "outputs": [
    {
     "name": "stdout",
     "output_type": "stream",
     "text": [
      "['강남구' '강동구' '강북구' '강서구' '관악구' '광진구' '구로구' '금천구' '노원구' '도봉구' '동대문구' '동작구'\n",
      " '마포구' '서대문구' '서초구' '성동구' '성북구' '송파구' '양천구' '영등포구' '용산구' '은평구' '종로구' '중구'\n",
      " '중랑구']\n",
      "['PC방' '가구' '가방' '가전제품' '가전제품수리' '고시원' '골프연습장' '네일숍' '노래방' '당구장' '문구'\n",
      " '미곡판매' '미용실' '반찬가게' '부동산중개업' '분식전문점' '서적' '섬유제품' '세탁소' '수산물판매' '슈퍼마켓'\n",
      " '스포츠 강습' '스포츠클럽' '시계및귀금속' '신발' '안경' '애완동물' '양식음식점' '여관' '예술학원' '완구'\n",
      " '외국어학원' '운동/경기용품' '육류판매' '의료기기' '의약품' '인테리어' '일반교습학원' '일반의류' '일반의원'\n",
      " '일식음식점' '자동차미용' '자동차수리' '자전거 및 기타운송장비' '전자상거래업' '제과점' '조명용품' '중식음식점'\n",
      " '철물점' '청과상' '치과의원' '치킨전문점' '커피-음료' '컴퓨터및주변장치판매' '패스트푸드점' '편의점' '피부관리실'\n",
      " '한식음식점' '한의원' '핸드폰' '호프-간이주점' '화장품' '화초']\n",
      "['HH' 'HL' 'LH' 'LL']\n"
     ]
    }
   ],
   "source": [
    "# 레이블 인코딩\n",
    "from sklearn.preprocessing import LabelEncoder\n",
    "\n",
    "cols = ['자치구_코드_명', '서비스_업종_코드_명', '상권_변화_지표']\n",
    "\n",
    "for col in cols:\n",
    "    encoder = LabelEncoder()\n",
    "    df[col] = encoder.fit_transform(df[col])\n",
    "    print(encoder.classes_)"
   ]
  },
  {
   "cell_type": "code",
   "execution_count": null,
   "id": "adbfdf37",
   "metadata": {},
   "outputs": [
    {
     "data": {
      "text/plain": [
       "((48244, 132), (12062, 132), (48244,), (12062,))"
      ]
     },
     "execution_count": 6,
     "metadata": {},
     "output_type": "execute_result"
    }
   ],
   "source": [
    "from sklearn.model_selection import train_test_split\n",
    "from imblearn.over_sampling import SMOTE\n",
    "\n",
    "# 전체 데이터의 75%을 기준으로 등급 나누기\n",
    "df['폐업률_등급'] = pd.qcut(df['폐업_률'], q=[0, 0.75, 1.0], labels=[0, 1])\n",
    "\n",
    "X = df.drop(['폐업_률', '폐업률_등급'], axis=1) \n",
    "y_class = df['폐업률_등급']\n",
    "\n",
    "smote = SMOTE(random_state=42)\n",
    "X_resample, y_resample = smote.fit_resample(X, y_class)\n",
    "\n",
    "X_train, X_test, y_train, y_test = train_test_split(\n",
    "    X_resample, y_resample, test_size=0.2, random_state=42, stratify=y_resample\n",
    ")\n",
    "\n",
    "X_train.shape, X_test.shape, y_train.shape, y_test.shape"
   ]
  },
  {
   "cell_type": "code",
   "execution_count": null,
   "id": "508dcd3a",
   "metadata": {},
   "outputs": [
    {
     "name": "stderr",
     "output_type": "stream",
     "text": [
      "c:\\Users\\이상민\\AppData\\Local\\Programs\\Python\\Python313\\Lib\\site-packages\\tqdm\\auto.py:21: TqdmWarning: IProgress not found. Please update jupyter and ipywidgets. See https://ipywidgets.readthedocs.io/en/stable/user_install.html\n",
      "  from .autonotebook import tqdm as notebook_tqdm\n",
      "[I 2025-10-14 00:04:37,239] A new study created in memory with name: no-name-1798c0fc-56a6-436b-b3cf-6e86dda9120f\n"
     ]
    }
   ],
   "source": [
    "from sklearn.ensemble import RandomForestClassifier\n",
    "from sklearn.model_selection import cross_val_score\n",
    "import optuna\n",
    "\n",
    "def rf_optuna_objective(trial):\n",
    "    params = {\n",
    "        'n_estimators': trial.suggest_int('n_estimators', 100, 500, 100),\n",
    "        'max_depth': trial.suggest_int('max_depth', 3, 10),\n",
    "        'learning_rate': trial.suggest_float('learning_rate', 0.01, 0.2),\n",
    "        'colsample_bytree': trial.suggest_float('colsample_bytree', 0.5, 1.0),\n",
    "        'random_state': 42,\n",
    "    }\n",
    "    rf_clf = RandomForestClassifier()\n",
    "    \n",
    "    return cross_val_score(rf_clf, X_train, y_train, scoring='accuracy', cv=3).mean()\n",
    "\n",
    "study = optuna.create_study(direction='maximize')"
   ]
  },
  {
   "cell_type": "code",
   "execution_count": null,
   "id": "cf864b07",
   "metadata": {},
   "outputs": [
    {
     "name": "stderr",
     "output_type": "stream",
     "text": [
      "C:\\Users\\이상민\\AppData\\Local\\Temp\\ipykernel_8552\\2709947151.py:8: FutureWarning: suggest_int() got {'step'} as positional arguments but they were expected to be given as keyword arguments.\n",
      "Positional arguments ['self', 'name', 'low', 'high', 'step', 'log'] in suggest_int() have been deprecated since v3.5.0. They will be replaced with the corresponding keyword arguments in v5.0.0, so please use the keyword specification instead. See https://github.com/optuna/optuna/releases/tag/v3.5.0 for details.\n",
      "  'n_estimators': trial.suggest_int('n_estimators', 100, 500, 100),\n",
      "[I 2025-10-14 00:05:33,265] Trial 0 finished with value: 0.8503233509879924 and parameters: {'n_estimators': 300, 'max_depth': 9, 'learning_rate': 0.08586195482792605, 'colsample_bytree': 0.8948518385652394}. Best is trial 0 with value: 0.8503233509879924.\n",
      "C:\\Users\\이상민\\AppData\\Local\\Temp\\ipykernel_8552\\2709947151.py:8: FutureWarning: suggest_int() got {'step'} as positional arguments but they were expected to be given as keyword arguments.\n",
      "Positional arguments ['self', 'name', 'low', 'high', 'step', 'log'] in suggest_int() have been deprecated since v3.5.0. They will be replaced with the corresponding keyword arguments in v5.0.0, so please use the keyword specification instead. See https://github.com/optuna/optuna/releases/tag/v3.5.0 for details.\n",
      "  'n_estimators': trial.suggest_int('n_estimators', 100, 500, 100),\n",
      "[I 2025-10-14 00:06:29,896] Trial 1 finished with value: 0.8504062568377959 and parameters: {'n_estimators': 200, 'max_depth': 10, 'learning_rate': 0.091316045179915, 'colsample_bytree': 0.8334832106218688}. Best is trial 1 with value: 0.8504062568377959.\n",
      "C:\\Users\\이상민\\AppData\\Local\\Temp\\ipykernel_8552\\2709947151.py:8: FutureWarning: suggest_int() got {'step'} as positional arguments but they were expected to be given as keyword arguments.\n",
      "Positional arguments ['self', 'name', 'low', 'high', 'step', 'log'] in suggest_int() have been deprecated since v3.5.0. They will be replaced with the corresponding keyword arguments in v5.0.0, so please use the keyword specification instead. See https://github.com/optuna/optuna/releases/tag/v3.5.0 for details.\n",
      "  'n_estimators': trial.suggest_int('n_estimators', 100, 500, 100),\n",
      "[I 2025-10-14 00:07:26,101] Trial 2 finished with value: 0.8488309322666527 and parameters: {'n_estimators': 400, 'max_depth': 9, 'learning_rate': 0.1922956735023343, 'colsample_bytree': 0.5589196437290745}. Best is trial 1 with value: 0.8504062568377959.\n",
      "C:\\Users\\이상민\\AppData\\Local\\Temp\\ipykernel_8552\\2709947151.py:8: FutureWarning: suggest_int() got {'step'} as positional arguments but they were expected to be given as keyword arguments.\n",
      "Positional arguments ['self', 'name', 'low', 'high', 'step', 'log'] in suggest_int() have been deprecated since v3.5.0. They will be replaced with the corresponding keyword arguments in v5.0.0, so please use the keyword specification instead. See https://github.com/optuna/optuna/releases/tag/v3.5.0 for details.\n",
      "  'n_estimators': trial.suggest_int('n_estimators', 100, 500, 100),\n",
      "[I 2025-10-14 00:08:22,582] Trial 3 finished with value: 0.8497636881673544 and parameters: {'n_estimators': 400, 'max_depth': 8, 'learning_rate': 0.12296279729768797, 'colsample_bytree': 0.7448550971227759}. Best is trial 1 with value: 0.8504062568377959.\n",
      "C:\\Users\\이상민\\AppData\\Local\\Temp\\ipykernel_8552\\2709947151.py:8: FutureWarning: suggest_int() got {'step'} as positional arguments but they were expected to be given as keyword arguments.\n",
      "Positional arguments ['self', 'name', 'low', 'high', 'step', 'log'] in suggest_int() have been deprecated since v3.5.0. They will be replaced with the corresponding keyword arguments in v5.0.0, so please use the keyword specification instead. See https://github.com/optuna/optuna/releases/tag/v3.5.0 for details.\n",
      "  'n_estimators': trial.suggest_int('n_estimators', 100, 500, 100),\n",
      "[I 2025-10-14 00:09:19,258] Trial 4 finished with value: 0.849660035876855 and parameters: {'n_estimators': 500, 'max_depth': 9, 'learning_rate': 0.10927619758117536, 'colsample_bytree': 0.6426761944018762}. Best is trial 1 with value: 0.8504062568377959.\n",
      "C:\\Users\\이상민\\AppData\\Local\\Temp\\ipykernel_8552\\2709947151.py:8: FutureWarning: suggest_int() got {'step'} as positional arguments but they were expected to be given as keyword arguments.\n",
      "Positional arguments ['self', 'name', 'low', 'high', 'step', 'log'] in suggest_int() have been deprecated since v3.5.0. They will be replaced with the corresponding keyword arguments in v5.0.0, so please use the keyword specification instead. See https://github.com/optuna/optuna/releases/tag/v3.5.0 for details.\n",
      "  'n_estimators': trial.suggest_int('n_estimators', 100, 500, 100),\n",
      "[I 2025-10-14 00:10:16,238] Trial 5 finished with value: 0.849660035876855 and parameters: {'n_estimators': 200, 'max_depth': 8, 'learning_rate': 0.07891146158924528, 'colsample_bytree': 0.530844543282656}. Best is trial 1 with value: 0.8504062568377959.\n",
      "C:\\Users\\이상민\\AppData\\Local\\Temp\\ipykernel_8552\\2709947151.py:8: FutureWarning: suggest_int() got {'step'} as positional arguments but they were expected to be given as keyword arguments.\n",
      "Positional arguments ['self', 'name', 'low', 'high', 'step', 'log'] in suggest_int() have been deprecated since v3.5.0. They will be replaced with the corresponding keyword arguments in v5.0.0, so please use the keyword specification instead. See https://github.com/optuna/optuna/releases/tag/v3.5.0 for details.\n",
      "  'n_estimators': trial.suggest_int('n_estimators', 100, 500, 100),\n",
      "[I 2025-10-14 00:11:12,721] Trial 6 finished with value: 0.8494320286784071 and parameters: {'n_estimators': 500, 'max_depth': 7, 'learning_rate': 0.18526366515436762, 'colsample_bytree': 0.6498607411037782}. Best is trial 1 with value: 0.8504062568377959.\n",
      "C:\\Users\\이상민\\AppData\\Local\\Temp\\ipykernel_8552\\2709947151.py:8: FutureWarning: suggest_int() got {'step'} as positional arguments but they were expected to be given as keyword arguments.\n",
      "Positional arguments ['self', 'name', 'low', 'high', 'step', 'log'] in suggest_int() have been deprecated since v3.5.0. They will be replaced with the corresponding keyword arguments in v5.0.0, so please use the keyword specification instead. See https://github.com/optuna/optuna/releases/tag/v3.5.0 for details.\n",
      "  'n_estimators': trial.suggest_int('n_estimators', 100, 500, 100),\n",
      "[I 2025-10-14 00:12:09,213] Trial 7 finished with value: 0.8484785624267426 and parameters: {'n_estimators': 400, 'max_depth': 6, 'learning_rate': 0.14469371468571263, 'colsample_bytree': 0.5437616925894571}. Best is trial 1 with value: 0.8504062568377959.\n",
      "C:\\Users\\이상민\\AppData\\Local\\Temp\\ipykernel_8552\\2709947151.py:8: FutureWarning: suggest_int() got {'step'} as positional arguments but they were expected to be given as keyword arguments.\n",
      "Positional arguments ['self', 'name', 'low', 'high', 'step', 'log'] in suggest_int() have been deprecated since v3.5.0. They will be replaced with the corresponding keyword arguments in v5.0.0, so please use the keyword specification instead. See https://github.com/optuna/optuna/releases/tag/v3.5.0 for details.\n",
      "  'n_estimators': trial.suggest_int('n_estimators', 100, 500, 100),\n",
      "[I 2025-10-14 00:13:05,525] Trial 8 finished with value: 0.8485407669480164 and parameters: {'n_estimators': 400, 'max_depth': 3, 'learning_rate': 0.08322797791978633, 'colsample_bytree': 0.6437257432006342}. Best is trial 1 with value: 0.8504062568377959.\n",
      "C:\\Users\\이상민\\AppData\\Local\\Temp\\ipykernel_8552\\2709947151.py:8: FutureWarning: suggest_int() got {'step'} as positional arguments but they were expected to be given as keyword arguments.\n",
      "Positional arguments ['self', 'name', 'low', 'high', 'step', 'log'] in suggest_int() have been deprecated since v3.5.0. They will be replaced with the corresponding keyword arguments in v5.0.0, so please use the keyword specification instead. See https://github.com/optuna/optuna/releases/tag/v3.5.0 for details.\n",
      "  'n_estimators': trial.suggest_int('n_estimators', 100, 500, 100),\n",
      "[I 2025-10-14 00:14:02,836] Trial 9 finished with value: 0.8492662131120429 and parameters: {'n_estimators': 300, 'max_depth': 3, 'learning_rate': 0.09901508537021551, 'colsample_bytree': 0.5874464184380901}. Best is trial 1 with value: 0.8504062568377959.\n",
      "C:\\Users\\이상민\\AppData\\Local\\Temp\\ipykernel_8552\\2709947151.py:8: FutureWarning: suggest_int() got {'step'} as positional arguments but they were expected to be given as keyword arguments.\n",
      "Positional arguments ['self', 'name', 'low', 'high', 'step', 'log'] in suggest_int() have been deprecated since v3.5.0. They will be replaced with the corresponding keyword arguments in v5.0.0, so please use the keyword specification instead. See https://github.com/optuna/optuna/releases/tag/v3.5.0 for details.\n",
      "  'n_estimators': trial.suggest_int('n_estimators', 100, 500, 100),\n",
      "[I 2025-10-14 00:15:00,829] Trial 10 finished with value: 0.8500124263394698 and parameters: {'n_estimators': 100, 'max_depth': 5, 'learning_rate': 0.022459960786697958, 'colsample_bytree': 0.9962188628834969}. Best is trial 1 with value: 0.8504062568377959.\n",
      "C:\\Users\\이상민\\AppData\\Local\\Temp\\ipykernel_8552\\2709947151.py:8: FutureWarning: suggest_int() got {'step'} as positional arguments but they were expected to be given as keyword arguments.\n",
      "Positional arguments ['self', 'name', 'low', 'high', 'step', 'log'] in suggest_int() have been deprecated since v3.5.0. They will be replaced with the corresponding keyword arguments in v5.0.0, so please use the keyword specification instead. See https://github.com/optuna/optuna/releases/tag/v3.5.0 for details.\n",
      "  'n_estimators': trial.suggest_int('n_estimators', 100, 500, 100),\n",
      "[I 2025-10-14 00:15:57,504] Trial 11 finished with value: 0.8488723607020932 and parameters: {'n_estimators': 200, 'max_depth': 10, 'learning_rate': 0.04287892237387539, 'colsample_bytree': 0.938634794488449}. Best is trial 1 with value: 0.8504062568377959.\n",
      "C:\\Users\\이상민\\AppData\\Local\\Temp\\ipykernel_8552\\2709947151.py:8: FutureWarning: suggest_int() got {'step'} as positional arguments but they were expected to be given as keyword arguments.\n",
      "Positional arguments ['self', 'name', 'low', 'high', 'step', 'log'] in suggest_int() have been deprecated since v3.5.0. They will be replaced with the corresponding keyword arguments in v5.0.0, so please use the keyword specification instead. See https://github.com/optuna/optuna/releases/tag/v3.5.0 for details.\n",
      "  'n_estimators': trial.suggest_int('n_estimators', 100, 500, 100),\n",
      "[I 2025-10-14 00:16:53,498] Trial 12 finished with value: 0.8500746192604723 and parameters: {'n_estimators': 200, 'max_depth': 10, 'learning_rate': 0.05568173341522188, 'colsample_bytree': 0.8511940212931981}. Best is trial 1 with value: 0.8504062568377959.\n",
      "C:\\Users\\이상민\\AppData\\Local\\Temp\\ipykernel_8552\\2709947151.py:8: FutureWarning: suggest_int() got {'step'} as positional arguments but they were expected to be given as keyword arguments.\n",
      "Positional arguments ['self', 'name', 'low', 'high', 'step', 'log'] in suggest_int() have been deprecated since v3.5.0. They will be replaced with the corresponding keyword arguments in v5.0.0, so please use the keyword specification instead. See https://github.com/optuna/optuna/releases/tag/v3.5.0 for details.\n",
      "  'n_estimators': trial.suggest_int('n_estimators', 100, 500, 100),\n",
      "[I 2025-10-14 00:17:49,782] Trial 13 finished with value: 0.8498466365514861 and parameters: {'n_estimators': 100, 'max_depth': 10, 'learning_rate': 0.14443029148443626, 'colsample_bytree': 0.8432359964309998}. Best is trial 1 with value: 0.8504062568377959.\n",
      "C:\\Users\\이상민\\AppData\\Local\\Temp\\ipykernel_8552\\2709947151.py:8: FutureWarning: suggest_int() got {'step'} as positional arguments but they were expected to be given as keyword arguments.\n",
      "Positional arguments ['self', 'name', 'low', 'high', 'step', 'log'] in suggest_int() have been deprecated since v3.5.0. They will be replaced with the corresponding keyword arguments in v5.0.0, so please use the keyword specification instead. See https://github.com/optuna/optuna/releases/tag/v3.5.0 for details.\n",
      "  'n_estimators': trial.suggest_int('n_estimators', 100, 500, 100),\n",
      "[I 2025-10-14 00:18:45,914] Trial 14 finished with value: 0.8504062310594153 and parameters: {'n_estimators': 300, 'max_depth': 8, 'learning_rate': 0.07431707730430731, 'colsample_bytree': 0.8444548854069854}. Best is trial 1 with value: 0.8504062568377959.\n",
      "C:\\Users\\이상민\\AppData\\Local\\Temp\\ipykernel_8552\\2709947151.py:8: FutureWarning: suggest_int() got {'step'} as positional arguments but they were expected to be given as keyword arguments.\n",
      "Positional arguments ['self', 'name', 'low', 'high', 'step', 'log'] in suggest_int() have been deprecated since v3.5.0. They will be replaced with the corresponding keyword arguments in v5.0.0, so please use the keyword specification instead. See https://github.com/optuna/optuna/releases/tag/v3.5.0 for details.\n",
      "  'n_estimators': trial.suggest_int('n_estimators', 100, 500, 100),\n",
      "[I 2025-10-14 00:19:43,077] Trial 15 finished with value: 0.8503026135697298 and parameters: {'n_estimators': 300, 'max_depth': 7, 'learning_rate': 0.057818355196168895, 'colsample_bytree': 0.7673394236463988}. Best is trial 1 with value: 0.8504062568377959.\n",
      "C:\\Users\\이상민\\AppData\\Local\\Temp\\ipykernel_8552\\2709947151.py:8: FutureWarning: suggest_int() got {'step'} as positional arguments but they were expected to be given as keyword arguments.\n",
      "Positional arguments ['self', 'name', 'low', 'high', 'step', 'log'] in suggest_int() have been deprecated since v3.5.0. They will be replaced with the corresponding keyword arguments in v5.0.0, so please use the keyword specification instead. See https://github.com/optuna/optuna/releases/tag/v3.5.0 for details.\n",
      "  'n_estimators': trial.suggest_int('n_estimators', 100, 500, 100),\n",
      "[I 2025-10-14 00:20:39,527] Trial 16 finished with value: 0.8488931200319793 and parameters: {'n_estimators': 200, 'max_depth': 5, 'learning_rate': 0.020374326097606102, 'colsample_bytree': 0.7692272237477283}. Best is trial 1 with value: 0.8504062568377959.\n",
      "C:\\Users\\이상민\\AppData\\Local\\Temp\\ipykernel_8552\\2709947151.py:8: FutureWarning: suggest_int() got {'step'} as positional arguments but they were expected to be given as keyword arguments.\n",
      "Positional arguments ['self', 'name', 'low', 'high', 'step', 'log'] in suggest_int() have been deprecated since v3.5.0. They will be replaced with the corresponding keyword arguments in v5.0.0, so please use the keyword specification instead. See https://github.com/optuna/optuna/releases/tag/v3.5.0 for details.\n",
      "  'n_estimators': trial.suggest_int('n_estimators', 100, 500, 100),\n",
      "[I 2025-10-14 00:21:36,125] Trial 17 finished with value: 0.8499087740489703 and parameters: {'n_estimators': 100, 'max_depth': 8, 'learning_rate': 0.12892458595361672, 'colsample_bytree': 0.8224796833707133}. Best is trial 1 with value: 0.8504062568377959.\n",
      "C:\\Users\\이상민\\AppData\\Local\\Temp\\ipykernel_8552\\2709947151.py:8: FutureWarning: suggest_int() got {'step'} as positional arguments but they were expected to be given as keyword arguments.\n",
      "Positional arguments ['self', 'name', 'low', 'high', 'step', 'log'] in suggest_int() have been deprecated since v3.5.0. They will be replaced with the corresponding keyword arguments in v5.0.0, so please use the keyword specification instead. See https://github.com/optuna/optuna/releases/tag/v3.5.0 for details.\n",
      "  'n_estimators': trial.suggest_int('n_estimators', 100, 500, 100),\n",
      "[I 2025-10-14 00:22:32,370] Trial 18 finished with value: 0.850613569152309 and parameters: {'n_estimators': 200, 'max_depth': 9, 'learning_rate': 0.06176683170461833, 'colsample_bytree': 0.9250561370605894}. Best is trial 18 with value: 0.850613569152309.\n",
      "C:\\Users\\이상민\\AppData\\Local\\Temp\\ipykernel_8552\\2709947151.py:8: FutureWarning: suggest_int() got {'step'} as positional arguments but they were expected to be given as keyword arguments.\n",
      "Positional arguments ['self', 'name', 'low', 'high', 'step', 'log'] in suggest_int() have been deprecated since v3.5.0. They will be replaced with the corresponding keyword arguments in v5.0.0, so please use the keyword specification instead. See https://github.com/optuna/optuna/releases/tag/v3.5.0 for details.\n",
      "  'n_estimators': trial.suggest_int('n_estimators', 100, 500, 100),\n",
      "[I 2025-10-14 00:23:28,973] Trial 19 finished with value: 0.8491832698835874 and parameters: {'n_estimators': 200, 'max_depth': 10, 'learning_rate': 0.03846894450317136, 'colsample_bytree': 0.9561283448947135}. Best is trial 18 with value: 0.850613569152309.\n",
      "C:\\Users\\이상민\\AppData\\Local\\Temp\\ipykernel_8552\\2709947151.py:8: FutureWarning: suggest_int() got {'step'} as positional arguments but they were expected to be given as keyword arguments.\n",
      "Positional arguments ['self', 'name', 'low', 'high', 'step', 'log'] in suggest_int() have been deprecated since v3.5.0. They will be replaced with the corresponding keyword arguments in v5.0.0, so please use the keyword specification instead. See https://github.com/optuna/optuna/releases/tag/v3.5.0 for details.\n",
      "  'n_estimators': trial.suggest_int('n_estimators', 100, 500, 100),\n",
      "[I 2025-10-14 00:24:26,417] Trial 20 finished with value: 0.8496807900510651 and parameters: {'n_estimators': 100, 'max_depth': 9, 'learning_rate': 0.06260812856783392, 'colsample_bytree': 0.9025354510930796}. Best is trial 18 with value: 0.850613569152309.\n",
      "C:\\Users\\이상민\\AppData\\Local\\Temp\\ipykernel_8552\\2709947151.py:8: FutureWarning: suggest_int() got {'step'} as positional arguments but they were expected to be given as keyword arguments.\n",
      "Positional arguments ['self', 'name', 'low', 'high', 'step', 'log'] in suggest_int() have been deprecated since v3.5.0. They will be replaced with the corresponding keyword arguments in v5.0.0, so please use the keyword specification instead. See https://github.com/optuna/optuna/releases/tag/v3.5.0 for details.\n",
      "  'n_estimators': trial.suggest_int('n_estimators', 100, 500, 100),\n",
      "[I 2025-10-14 00:25:23,052] Trial 21 finished with value: 0.849224758898222 and parameters: {'n_estimators': 300, 'max_depth': 8, 'learning_rate': 0.0705521026367193, 'colsample_bytree': 0.8036546759905164}. Best is trial 18 with value: 0.850613569152309.\n",
      "C:\\Users\\이상민\\AppData\\Local\\Temp\\ipykernel_8552\\2709947151.py:8: FutureWarning: suggest_int() got {'step'} as positional arguments but they were expected to be given as keyword arguments.\n",
      "Positional arguments ['self', 'name', 'low', 'high', 'step', 'log'] in suggest_int() have been deprecated since v3.5.0. They will be replaced with the corresponding keyword arguments in v5.0.0, so please use the keyword specification instead. See https://github.com/optuna/optuna/releases/tag/v3.5.0 for details.\n",
      "  'n_estimators': trial.suggest_int('n_estimators', 100, 500, 100),\n",
      "[I 2025-10-14 00:26:19,521] Trial 22 finished with value: 0.8495771390494845 and parameters: {'n_estimators': 300, 'max_depth': 9, 'learning_rate': 0.09815123011335858, 'colsample_bytree': 0.8903442640408675}. Best is trial 18 with value: 0.850613569152309.\n",
      "C:\\Users\\이상민\\AppData\\Local\\Temp\\ipykernel_8552\\2709947151.py:8: FutureWarning: suggest_int() got {'step'} as positional arguments but they were expected to be given as keyword arguments.\n",
      "Positional arguments ['self', 'name', 'low', 'high', 'step', 'log'] in suggest_int() have been deprecated since v3.5.0. They will be replaced with the corresponding keyword arguments in v5.0.0, so please use the keyword specification instead. See https://github.com/optuna/optuna/releases/tag/v3.5.0 for details.\n",
      "  'n_estimators': trial.suggest_int('n_estimators', 100, 500, 100),\n",
      "[I 2025-10-14 00:27:16,467] Trial 23 finished with value: 0.8487272683758821 and parameters: {'n_estimators': 200, 'max_depth': 7, 'learning_rate': 0.04288664636284142, 'colsample_bytree': 0.7201618800710125}. Best is trial 18 with value: 0.850613569152309.\n",
      "C:\\Users\\이상민\\AppData\\Local\\Temp\\ipykernel_8552\\2709947151.py:8: FutureWarning: suggest_int() got {'step'} as positional arguments but they were expected to be given as keyword arguments.\n",
      "Positional arguments ['self', 'name', 'low', 'high', 'step', 'log'] in suggest_int() have been deprecated since v3.5.0. They will be replaced with the corresponding keyword arguments in v5.0.0, so please use the keyword specification instead. See https://github.com/optuna/optuna/releases/tag/v3.5.0 for details.\n",
      "  'n_estimators': trial.suggest_int('n_estimators', 100, 500, 100),\n",
      "[I 2025-10-14 00:28:13,798] Trial 24 finished with value: 0.8494527660966699 and parameters: {'n_estimators': 300, 'max_depth': 10, 'learning_rate': 0.0917157109894179, 'colsample_bytree': 0.943275617235303}. Best is trial 18 with value: 0.850613569152309.\n",
      "C:\\Users\\이상민\\AppData\\Local\\Temp\\ipykernel_8552\\2709947151.py:8: FutureWarning: suggest_int() got {'step'} as positional arguments but they were expected to be given as keyword arguments.\n",
      "Positional arguments ['self', 'name', 'low', 'high', 'step', 'log'] in suggest_int() have been deprecated since v3.5.0. They will be replaced with the corresponding keyword arguments in v5.0.0, so please use the keyword specification instead. See https://github.com/optuna/optuna/releases/tag/v3.5.0 for details.\n",
      "  'n_estimators': trial.suggest_int('n_estimators', 100, 500, 100),\n",
      "[I 2025-10-14 00:29:10,443] Trial 25 finished with value: 0.8500124302062267 and parameters: {'n_estimators': 200, 'max_depth': 8, 'learning_rate': 0.11286863636235636, 'colsample_bytree': 0.8676024288377835}. Best is trial 18 with value: 0.850613569152309.\n",
      "C:\\Users\\이상민\\AppData\\Local\\Temp\\ipykernel_8552\\2709947151.py:8: FutureWarning: suggest_int() got {'step'} as positional arguments but they were expected to be given as keyword arguments.\n",
      "Positional arguments ['self', 'name', 'low', 'high', 'step', 'log'] in suggest_int() have been deprecated since v3.5.0. They will be replaced with the corresponding keyword arguments in v5.0.0, so please use the keyword specification instead. See https://github.com/optuna/optuna/releases/tag/v3.5.0 for details.\n",
      "  'n_estimators': trial.suggest_int('n_estimators', 100, 500, 100),\n",
      "[I 2025-10-14 00:30:06,632] Trial 26 finished with value: 0.8498880572534121 and parameters: {'n_estimators': 200, 'max_depth': 6, 'learning_rate': 0.07314360463384738, 'colsample_bytree': 0.9929351966734646}. Best is trial 18 with value: 0.850613569152309.\n",
      "C:\\Users\\이상민\\AppData\\Local\\Temp\\ipykernel_8552\\2709947151.py:8: FutureWarning: suggest_int() got {'step'} as positional arguments but they were expected to be given as keyword arguments.\n",
      "Positional arguments ['self', 'name', 'low', 'high', 'step', 'log'] in suggest_int() have been deprecated since v3.5.0. They will be replaced with the corresponding keyword arguments in v5.0.0, so please use the keyword specification instead. See https://github.com/optuna/optuna/releases/tag/v3.5.0 for details.\n",
      "  'n_estimators': trial.suggest_int('n_estimators', 100, 500, 100),\n",
      "[I 2025-10-14 00:31:02,569] Trial 27 finished with value: 0.8487272967321008 and parameters: {'n_estimators': 300, 'max_depth': 9, 'learning_rate': 0.031908587004058506, 'colsample_bytree': 0.8009624760150302}. Best is trial 18 with value: 0.850613569152309.\n",
      "C:\\Users\\이상민\\AppData\\Local\\Temp\\ipykernel_8552\\2709947151.py:8: FutureWarning: suggest_int() got {'step'} as positional arguments but they were expected to be given as keyword arguments.\n",
      "Positional arguments ['self', 'name', 'low', 'high', 'step', 'log'] in suggest_int() have been deprecated since v3.5.0. They will be replaced with the corresponding keyword arguments in v5.0.0, so please use the keyword specification instead. See https://github.com/optuna/optuna/releases/tag/v3.5.0 for details.\n",
      "  'n_estimators': trial.suggest_int('n_estimators', 100, 500, 100),\n",
      "[I 2025-10-14 00:31:58,704] Trial 28 finished with value: 0.8487687109894316 and parameters: {'n_estimators': 100, 'max_depth': 10, 'learning_rate': 0.01174781143400045, 'colsample_bytree': 0.7228512411489089}. Best is trial 18 with value: 0.850613569152309.\n",
      "C:\\Users\\이상민\\AppData\\Local\\Temp\\ipykernel_8552\\2709947151.py:8: FutureWarning: suggest_int() got {'step'} as positional arguments but they were expected to be given as keyword arguments.\n",
      "Positional arguments ['self', 'name', 'low', 'high', 'step', 'log'] in suggest_int() have been deprecated since v3.5.0. They will be replaced with the corresponding keyword arguments in v5.0.0, so please use the keyword specification instead. See https://github.com/optuna/optuna/releases/tag/v3.5.0 for details.\n",
      "  'n_estimators': trial.suggest_int('n_estimators', 100, 500, 100),\n",
      "[I 2025-10-14 00:32:54,544] Trial 29 finished with value: 0.8508829906080879 and parameters: {'n_estimators': 300, 'max_depth': 9, 'learning_rate': 0.05130020228572684, 'colsample_bytree': 0.9061504564748334}. Best is trial 29 with value: 0.8508829906080879.\n",
      "C:\\Users\\이상민\\AppData\\Local\\Temp\\ipykernel_8552\\2709947151.py:8: FutureWarning: suggest_int() got {'step'} as positional arguments but they were expected to be given as keyword arguments.\n",
      "Positional arguments ['self', 'name', 'low', 'high', 'step', 'log'] in suggest_int() have been deprecated since v3.5.0. They will be replaced with the corresponding keyword arguments in v5.0.0, so please use the keyword specification instead. See https://github.com/optuna/optuna/releases/tag/v3.5.0 for details.\n",
      "  'n_estimators': trial.suggest_int('n_estimators', 100, 500, 100),\n",
      "[I 2025-10-14 00:33:50,953] Trial 30 finished with value: 0.8503855310198046 and parameters: {'n_estimators': 200, 'max_depth': 9, 'learning_rate': 0.053856384647057, 'colsample_bytree': 0.9115545238976704}. Best is trial 29 with value: 0.8508829906080879.\n",
      "C:\\Users\\이상민\\AppData\\Local\\Temp\\ipykernel_8552\\2709947151.py:8: FutureWarning: suggest_int() got {'step'} as positional arguments but they were expected to be given as keyword arguments.\n",
      "Positional arguments ['self', 'name', 'low', 'high', 'step', 'log'] in suggest_int() have been deprecated since v3.5.0. They will be replaced with the corresponding keyword arguments in v5.0.0, so please use the keyword specification instead. See https://github.com/optuna/optuna/releases/tag/v3.5.0 for details.\n",
      "  'n_estimators': trial.suggest_int('n_estimators', 100, 500, 100),\n",
      "[I 2025-10-14 00:34:47,108] Trial 31 finished with value: 0.8489138535834847 and parameters: {'n_estimators': 300, 'max_depth': 9, 'learning_rate': 0.0849335655525638, 'colsample_bytree': 0.8805797321650358}. Best is trial 29 with value: 0.8508829906080879.\n",
      "C:\\Users\\이상민\\AppData\\Local\\Temp\\ipykernel_8552\\2709947151.py:8: FutureWarning: suggest_int() got {'step'} as positional arguments but they were expected to be given as keyword arguments.\n",
      "Positional arguments ['self', 'name', 'low', 'high', 'step', 'log'] in suggest_int() have been deprecated since v3.5.0. They will be replaced with the corresponding keyword arguments in v5.0.0, so please use the keyword specification instead. See https://github.com/optuna/optuna/releases/tag/v3.5.0 for details.\n",
      "  'n_estimators': trial.suggest_int('n_estimators', 100, 500, 100),\n",
      "[I 2025-10-14 00:35:43,066] Trial 32 finished with value: 0.8488102090264995 and parameters: {'n_estimators': 300, 'max_depth': 9, 'learning_rate': 0.0710500730023632, 'colsample_bytree': 0.9186959696800869}. Best is trial 29 with value: 0.8508829906080879.\n",
      "C:\\Users\\이상민\\AppData\\Local\\Temp\\ipykernel_8552\\2709947151.py:8: FutureWarning: suggest_int() got {'step'} as positional arguments but they were expected to be given as keyword arguments.\n",
      "Positional arguments ['self', 'name', 'low', 'high', 'step', 'log'] in suggest_int() have been deprecated since v3.5.0. They will be replaced with the corresponding keyword arguments in v5.0.0, so please use the keyword specification instead. See https://github.com/optuna/optuna/releases/tag/v3.5.0 for details.\n",
      "  'n_estimators': trial.suggest_int('n_estimators', 100, 500, 100),\n",
      "[I 2025-10-14 00:36:39,488] Trial 33 finished with value: 0.8494320261005691 and parameters: {'n_estimators': 400, 'max_depth': 8, 'learning_rate': 0.06324948202045627, 'colsample_bytree': 0.8272274223452674}. Best is trial 29 with value: 0.8508829906080879.\n",
      "C:\\Users\\이상민\\AppData\\Local\\Temp\\ipykernel_8552\\2709947151.py:8: FutureWarning: suggest_int() got {'step'} as positional arguments but they were expected to be given as keyword arguments.\n",
      "Positional arguments ['self', 'name', 'low', 'high', 'step', 'log'] in suggest_int() have been deprecated since v3.5.0. They will be replaced with the corresponding keyword arguments in v5.0.0, so please use the keyword specification instead. See https://github.com/optuna/optuna/releases/tag/v3.5.0 for details.\n",
      "  'n_estimators': trial.suggest_int('n_estimators', 100, 500, 100),\n",
      "[I 2025-10-14 00:37:35,716] Trial 34 finished with value: 0.8508000899139603 and parameters: {'n_estimators': 400, 'max_depth': 9, 'learning_rate': 0.04521288926602353, 'colsample_bytree': 0.9679927054174134}. Best is trial 29 with value: 0.8508829906080879.\n",
      "C:\\Users\\이상민\\AppData\\Local\\Temp\\ipykernel_8552\\2709947151.py:8: FutureWarning: suggest_int() got {'step'} as positional arguments but they were expected to be given as keyword arguments.\n",
      "Positional arguments ['self', 'name', 'low', 'high', 'step', 'log'] in suggest_int() have been deprecated since v3.5.0. They will be replaced with the corresponding keyword arguments in v5.0.0, so please use the keyword specification instead. See https://github.com/optuna/optuna/releases/tag/v3.5.0 for details.\n",
      "  'n_estimators': trial.suggest_int('n_estimators', 100, 500, 100),\n",
      "[I 2025-10-14 00:38:32,174] Trial 35 finished with value: 0.850053897309238 and parameters: {'n_estimators': 500, 'max_depth': 10, 'learning_rate': 0.052553138914444575, 'colsample_bytree': 0.9662371174918323}. Best is trial 29 with value: 0.8508829906080879.\n",
      "C:\\Users\\이상민\\AppData\\Local\\Temp\\ipykernel_8552\\2709947151.py:8: FutureWarning: suggest_int() got {'step'} as positional arguments but they were expected to be given as keyword arguments.\n",
      "Positional arguments ['self', 'name', 'low', 'high', 'step', 'log'] in suggest_int() have been deprecated since v3.5.0. They will be replaced with the corresponding keyword arguments in v5.0.0, so please use the keyword specification instead. See https://github.com/optuna/optuna/releases/tag/v3.5.0 for details.\n",
      "  'n_estimators': trial.suggest_int('n_estimators', 100, 500, 100),\n",
      "[I 2025-10-14 00:39:28,552] Trial 36 finished with value: 0.8507379163267433 and parameters: {'n_estimators': 400, 'max_depth': 9, 'learning_rate': 0.030994639649289987, 'colsample_bytree': 0.9741950277500546}. Best is trial 29 with value: 0.8508829906080879.\n",
      "C:\\Users\\이상민\\AppData\\Local\\Temp\\ipykernel_8552\\2709947151.py:8: FutureWarning: suggest_int() got {'step'} as positional arguments but they were expected to be given as keyword arguments.\n",
      "Positional arguments ['self', 'name', 'low', 'high', 'step', 'log'] in suggest_int() have been deprecated since v3.5.0. They will be replaced with the corresponding keyword arguments in v5.0.0, so please use the keyword specification instead. See https://github.com/optuna/optuna/releases/tag/v3.5.0 for details.\n",
      "  'n_estimators': trial.suggest_int('n_estimators', 100, 500, 100),\n",
      "[I 2025-10-14 00:40:24,706] Trial 37 finished with value: 0.8483541714290613 and parameters: {'n_estimators': 400, 'max_depth': 9, 'learning_rate': 0.02815450628423347, 'colsample_bytree': 0.9746579424376403}. Best is trial 29 with value: 0.8508829906080879.\n",
      "C:\\Users\\이상민\\AppData\\Local\\Temp\\ipykernel_8552\\2709947151.py:8: FutureWarning: suggest_int() got {'step'} as positional arguments but they were expected to be given as keyword arguments.\n",
      "Positional arguments ['self', 'name', 'low', 'high', 'step', 'log'] in suggest_int() have been deprecated since v3.5.0. They will be replaced with the corresponding keyword arguments in v5.0.0, so please use the keyword specification instead. See https://github.com/optuna/optuna/releases/tag/v3.5.0 for details.\n",
      "  'n_estimators': trial.suggest_int('n_estimators', 100, 500, 100),\n",
      "[I 2025-10-14 00:41:20,496] Trial 38 finished with value: 0.8495149564398342 and parameters: {'n_estimators': 400, 'max_depth': 7, 'learning_rate': 0.015539376295665857, 'colsample_bytree': 0.9380069823721178}. Best is trial 29 with value: 0.8508829906080879.\n",
      "C:\\Users\\이상민\\AppData\\Local\\Temp\\ipykernel_8552\\2709947151.py:8: FutureWarning: suggest_int() got {'step'} as positional arguments but they were expected to be given as keyword arguments.\n",
      "Positional arguments ['self', 'name', 'low', 'high', 'step', 'log'] in suggest_int() have been deprecated since v3.5.0. They will be replaced with the corresponding keyword arguments in v5.0.0, so please use the keyword specification instead. See https://github.com/optuna/optuna/releases/tag/v3.5.0 for details.\n",
      "  'n_estimators': trial.suggest_int('n_estimators', 100, 500, 100),\n",
      "[I 2025-10-14 00:42:20,103] Trial 39 finished with value: 0.8497636714114071 and parameters: {'n_estimators': 500, 'max_depth': 9, 'learning_rate': 0.03640402418721239, 'colsample_bytree': 0.9236776245085518}. Best is trial 29 with value: 0.8508829906080879.\n",
      "C:\\Users\\이상민\\AppData\\Local\\Temp\\ipykernel_8552\\2709947151.py:8: FutureWarning: suggest_int() got {'step'} as positional arguments but they were expected to be given as keyword arguments.\n",
      "Positional arguments ['self', 'name', 'low', 'high', 'step', 'log'] in suggest_int() have been deprecated since v3.5.0. They will be replaced with the corresponding keyword arguments in v5.0.0, so please use the keyword specification instead. See https://github.com/optuna/optuna/releases/tag/v3.5.0 for details.\n",
      "  'n_estimators': trial.suggest_int('n_estimators', 100, 500, 100),\n",
      "[I 2025-10-14 00:43:19,491] Trial 40 finished with value: 0.8501160489848316 and parameters: {'n_estimators': 400, 'max_depth': 8, 'learning_rate': 0.04718415563820191, 'colsample_bytree': 0.9731331653183908}. Best is trial 29 with value: 0.8508829906080879.\n",
      "C:\\Users\\이상민\\AppData\\Local\\Temp\\ipykernel_8552\\2709947151.py:8: FutureWarning: suggest_int() got {'step'} as positional arguments but they were expected to be given as keyword arguments.\n",
      "Positional arguments ['self', 'name', 'low', 'high', 'step', 'log'] in suggest_int() have been deprecated since v3.5.0. They will be replaced with the corresponding keyword arguments in v5.0.0, so please use the keyword specification instead. See https://github.com/optuna/optuna/releases/tag/v3.5.0 for details.\n",
      "  'n_estimators': trial.suggest_int('n_estimators', 100, 500, 100),\n",
      "[I 2025-10-14 00:44:17,531] Trial 41 finished with value: 0.8492040640142874 and parameters: {'n_estimators': 500, 'max_depth': 9, 'learning_rate': 0.027850360912322243, 'colsample_bytree': 0.8789395724798247}. Best is trial 29 with value: 0.8508829906080879.\n",
      "C:\\Users\\이상민\\AppData\\Local\\Temp\\ipykernel_8552\\2709947151.py:8: FutureWarning: suggest_int() got {'step'} as positional arguments but they were expected to be given as keyword arguments.\n",
      "Positional arguments ['self', 'name', 'low', 'high', 'step', 'log'] in suggest_int() have been deprecated since v3.5.0. They will be replaced with the corresponding keyword arguments in v5.0.0, so please use the keyword specification instead. See https://github.com/optuna/optuna/releases/tag/v3.5.0 for details.\n",
      "  'n_estimators': trial.suggest_int('n_estimators', 100, 500, 100),\n",
      "[I 2025-10-14 00:45:15,046] Trial 42 finished with value: 0.8495149925295671 and parameters: {'n_estimators': 400, 'max_depth': 9, 'learning_rate': 0.18267540238311447, 'colsample_bytree': 0.9054810667558344}. Best is trial 29 with value: 0.8508829906080879.\n",
      "C:\\Users\\이상민\\AppData\\Local\\Temp\\ipykernel_8552\\2709947151.py:8: FutureWarning: suggest_int() got {'step'} as positional arguments but they were expected to be given as keyword arguments.\n",
      "Positional arguments ['self', 'name', 'low', 'high', 'step', 'log'] in suggest_int() have been deprecated since v3.5.0. They will be replaced with the corresponding keyword arguments in v5.0.0, so please use the keyword specification instead. See https://github.com/optuna/optuna/releases/tag/v3.5.0 for details.\n",
      "  'n_estimators': trial.suggest_int('n_estimators', 100, 500, 100),\n",
      "[I 2025-10-14 00:46:12,577] Trial 43 finished with value: 0.8497844010961555 and parameters: {'n_estimators': 400, 'max_depth': 10, 'learning_rate': 0.1158889825807881, 'colsample_bytree': 0.9885377946190765}. Best is trial 29 with value: 0.8508829906080879.\n",
      "C:\\Users\\이상민\\AppData\\Local\\Temp\\ipykernel_8552\\2709947151.py:8: FutureWarning: suggest_int() got {'step'} as positional arguments but they were expected to be given as keyword arguments.\n",
      "Positional arguments ['self', 'name', 'low', 'high', 'step', 'log'] in suggest_int() have been deprecated since v3.5.0. They will be replaced with the corresponding keyword arguments in v5.0.0, so please use the keyword specification instead. See https://github.com/optuna/optuna/releases/tag/v3.5.0 for details.\n",
      "  'n_estimators': trial.suggest_int('n_estimators', 100, 500, 100),\n",
      "[I 2025-10-14 00:47:09,453] Trial 44 finished with value: 0.8504684304250131 and parameters: {'n_estimators': 400, 'max_depth': 10, 'learning_rate': 0.04751388937540578, 'colsample_bytree': 0.9515952333531634}. Best is trial 29 with value: 0.8508829906080879.\n",
      "C:\\Users\\이상민\\AppData\\Local\\Temp\\ipykernel_8552\\2709947151.py:8: FutureWarning: suggest_int() got {'step'} as positional arguments but they were expected to be given as keyword arguments.\n",
      "Positional arguments ['self', 'name', 'low', 'high', 'step', 'log'] in suggest_int() have been deprecated since v3.5.0. They will be replaced with the corresponding keyword arguments in v5.0.0, so please use the keyword specification instead. See https://github.com/optuna/optuna/releases/tag/v3.5.0 for details.\n",
      "  'n_estimators': trial.suggest_int('n_estimators', 100, 500, 100),\n",
      "[I 2025-10-14 00:48:06,681] Trial 45 finished with value: 0.849328394432774 and parameters: {'n_estimators': 400, 'max_depth': 4, 'learning_rate': 0.04939252064818908, 'colsample_bytree': 0.9581109818084679}. Best is trial 29 with value: 0.8508829906080879.\n",
      "C:\\Users\\이상민\\AppData\\Local\\Temp\\ipykernel_8552\\2709947151.py:8: FutureWarning: suggest_int() got {'step'} as positional arguments but they were expected to be given as keyword arguments.\n",
      "Positional arguments ['self', 'name', 'low', 'high', 'step', 'log'] in suggest_int() have been deprecated since v3.5.0. They will be replaced with the corresponding keyword arguments in v5.0.0, so please use the keyword specification instead. See https://github.com/optuna/optuna/releases/tag/v3.5.0 for details.\n",
      "  'n_estimators': trial.suggest_int('n_estimators', 100, 500, 100),\n",
      "[I 2025-10-14 00:49:03,380] Trial 46 finished with value: 0.8492247666317362 and parameters: {'n_estimators': 400, 'max_depth': 10, 'learning_rate': 0.03853679247948183, 'colsample_bytree': 0.99960616040718}. Best is trial 29 with value: 0.8508829906080879.\n",
      "C:\\Users\\이상민\\AppData\\Local\\Temp\\ipykernel_8552\\2709947151.py:8: FutureWarning: suggest_int() got {'step'} as positional arguments but they were expected to be given as keyword arguments.\n",
      "Positional arguments ['self', 'name', 'low', 'high', 'step', 'log'] in suggest_int() have been deprecated since v3.5.0. They will be replaced with the corresponding keyword arguments in v5.0.0, so please use the keyword specification instead. See https://github.com/optuna/optuna/releases/tag/v3.5.0 for details.\n",
      "  'n_estimators': trial.suggest_int('n_estimators', 100, 500, 100),\n",
      "[I 2025-10-14 00:50:00,388] Trial 47 finished with value: 0.8495564209650074 and parameters: {'n_estimators': 500, 'max_depth': 10, 'learning_rate': 0.02367137365092402, 'colsample_bytree': 0.9451248834109715}. Best is trial 29 with value: 0.8508829906080879.\n",
      "C:\\Users\\이상민\\AppData\\Local\\Temp\\ipykernel_8552\\2709947151.py:8: FutureWarning: suggest_int() got {'step'} as positional arguments but they were expected to be given as keyword arguments.\n",
      "Positional arguments ['self', 'name', 'low', 'high', 'step', 'log'] in suggest_int() have been deprecated since v3.5.0. They will be replaced with the corresponding keyword arguments in v5.0.0, so please use the keyword specification instead. See https://github.com/optuna/optuna/releases/tag/v3.5.0 for details.\n",
      "  'n_estimators': trial.suggest_int('n_estimators', 100, 500, 100),\n",
      "[I 2025-10-14 00:50:59,635] Trial 48 finished with value: 0.8507379214824193 and parameters: {'n_estimators': 400, 'max_depth': 8, 'learning_rate': 0.06461227395008978, 'colsample_bytree': 0.9280733054945429}. Best is trial 29 with value: 0.8508829906080879.\n",
      "C:\\Users\\이상민\\AppData\\Local\\Temp\\ipykernel_8552\\2709947151.py:8: FutureWarning: suggest_int() got {'step'} as positional arguments but they were expected to be given as keyword arguments.\n",
      "Positional arguments ['self', 'name', 'low', 'high', 'step', 'log'] in suggest_int() have been deprecated since v3.5.0. They will be replaced with the corresponding keyword arguments in v5.0.0, so please use the keyword specification instead. See https://github.com/optuna/optuna/releases/tag/v3.5.0 for details.\n",
      "  'n_estimators': trial.suggest_int('n_estimators', 100, 500, 100),\n",
      "[I 2025-10-14 00:51:58,037] Trial 49 finished with value: 0.8485614463649226 and parameters: {'n_estimators': 400, 'max_depth': 8, 'learning_rate': 0.06585044982407816, 'colsample_bytree': 0.927553930375346}. Best is trial 29 with value: 0.8508829906080879.\n"
     ]
    },
    {
     "name": "stdout",
     "output_type": "stream",
     "text": [
      "0.8508829906080879\n",
      "{'n_estimators': 300, 'max_depth': 9, 'learning_rate': 0.05130020228572684, 'colsample_bytree': 0.9061504564748334}\n"
     ]
    }
   ],
   "source": [
    "study.optimize(rf_optuna_objective, n_trials=50)\n",
    "\n",
    "print(study.best_value)\n",
    "print(study.best_params)"
   ]
  },
  {
   "cell_type": "code",
   "execution_count": null,
   "id": "1b6ecdcf",
   "metadata": {},
   "outputs": [
    {
     "name": "stdout",
     "output_type": "stream",
     "text": [
      "0.8254704966032447\n"
     ]
    }
   ],
   "source": [
    "from sklearn.ensemble import RandomForestClassifier\n",
    "from sklearn.model_selection import StratifiedKFold\n",
    "from sklearn.metrics import accuracy_score\n",
    "\n",
    "rf_clf = RandomForestClassifier(n_estimators=500, max_depth=10, max_features=0.7615338373458207)\n",
    "\n",
    "kfold = StratifiedKFold(n_splits=5, shuffle=True, random_state=42)\n",
    "\n",
    "cv_accuracy = []\n",
    "\n",
    "for train_index, val_index in kfold.split(X_train, y_train):\n",
    "    X_tra, y_tra = X_train.to_numpy()[train_index], y_train.to_numpy()[train_index]\n",
    "    X_val, y_val = X_train.to_numpy()[val_index], y_train.to_numpy()[val_index]\n",
    "\n",
    "    rf_clf.fit(X_tra, y_tra)\n",
    "    y_pred = rf_clf.predict(X_val)\n",
    "    acc = accuracy_score(y_val, y_pred)\n",
    "    cv_accuracy.append(acc)\n",
    "\n",
    "print(np.mean(cv_accuracy))"
   ]
  },
  {
   "cell_type": "markdown",
   "id": "52510725",
   "metadata": {},
   "source": [
    "---\n",
    "### test 데이터 예측 -> 평가"
   ]
  },
  {
   "cell_type": "code",
   "execution_count": 16,
   "id": "00b67cb5",
   "metadata": {},
   "outputs": [
    {
     "name": "stderr",
     "output_type": "stream",
     "text": [
      "c:\\Users\\이상민\\AppData\\Local\\Programs\\Python\\Python313\\Lib\\site-packages\\sklearn\\utils\\validation.py:2742: UserWarning: X has feature names, but RandomForestClassifier was fitted without feature names\n",
      "  warnings.warn(\n"
     ]
    },
    {
     "name": "stdout",
     "output_type": "stream",
     "text": [
      "ACC    : 0.8251533742331288\n",
      "PREC   : 0.813058748403576\n",
      "REC    : 0.844470237108274\n",
      "F1     : 0.8284668564457096\n",
      "ROC-AUC: 0.8251533742331288\n"
     ]
    }
   ],
   "source": [
    "from sklearn.metrics import accuracy_score, recall_score, precision_score, f1_score, roc_auc_score \n",
    "from sklearn.metrics import classification_report\n",
    "\n",
    "y_pred = rf_clf.predict(X_test)\n",
    "\n",
    "print(f'ACC    : {accuracy_score(y_test, y_pred)}')\n",
    "print(f'PREC   : {precision_score(y_test, y_pred)}')\n",
    "print(f'REC    : {recall_score(y_test, y_pred)}')\n",
    "print(f'F1     : {f1_score(y_test, y_pred)}')\n",
    "print(f\"ROC-AUC: {roc_auc_score(y_test, y_pred)}\")"
   ]
  }
 ],
 "metadata": {
  "kernelspec": {
   "display_name": "Python 3",
   "language": "python",
   "name": "python3"
  },
  "language_info": {
   "codemirror_mode": {
    "name": "ipython",
    "version": 3
   },
   "file_extension": ".py",
   "mimetype": "text/x-python",
   "name": "python",
   "nbconvert_exporter": "python",
   "pygments_lexer": "ipython3",
   "version": "3.13.7"
  }
 },
 "nbformat": 4,
 "nbformat_minor": 5
}
