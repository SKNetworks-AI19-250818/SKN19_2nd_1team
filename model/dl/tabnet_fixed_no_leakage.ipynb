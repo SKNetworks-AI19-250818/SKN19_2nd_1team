{
 "cells": [
  {
   "cell_type": "markdown",
   "metadata": {},
   "source": [
    "# TabNet 폐업률 예측 모델 - Data Leakage 완전 제거 버전\n",
    "\n",
    "**주요 수정사항:**\n",
    "1. 타겟 변수: t 시점 데이터 → t+1 시점 폐업 위험 예측\n",
    "2. 폐업_률, 폐업_점포_수 특성 완전 제거\n",
    "3. 현재 분기(t) 데이터 사용 금지 - 오직 과거(t-1, t-2) 데이터만 사용\n",
    "4. 그룹 통계량은 train에서만 계산"
   ]
  },
  {
   "cell_type": "markdown",
   "metadata": {},
   "source": [
    "## 0. 라이브러리 임포트 및 GPU 설정"
   ]
  },
  {
   "cell_type": "code",
   "execution_count": 2,
   "metadata": {},
   "outputs": [
    {
     "name": "stdout",
     "output_type": "stream",
     "text": [
      "✓ Mac GPU 사용\n"
     ]
    }
   ],
   "source": [
    "import pandas as pd\n",
    "import numpy as np\n",
    "import torch\n",
    "from sklearn.preprocessing import StandardScaler, LabelEncoder\n",
    "from sklearn.metrics import (\n",
    "    accuracy_score, precision_score, recall_score, f1_score,\n",
    "    roc_auc_score, confusion_matrix, classification_report,\n",
    "    roc_curve\n",
    ")\n",
    "from pytorch_tabnet.tab_model import TabNetClassifier\n",
    "import warnings\n",
    "warnings.filterwarnings('ignore')\n",
    "\n",
    "# 시드 설정\n",
    "SEED = 42\n",
    "np.random.seed(SEED)\n",
    "torch.manual_seed(SEED)\n",
    "\n",
    "# GPU 설정\n",
    "if torch.backends.mps.is_available():\n",
    "    device = 'mps'\n",
    "    print(\"✓ Mac GPU 사용\")\n",
    "elif torch.cuda.is_available():\n",
    "    device = 'cuda'\n",
    "    print(\"✓ NVIDIA GPU 사용\")\n",
    "else:\n",
    "    device = 'cpu'\n",
    "    print(\"✓ CPU 사용\")"
   ]
  },
  {
   "cell_type": "markdown",
   "metadata": {},
   "source": [
    "## 1. 데이터 로드"
   ]
  },
  {
   "cell_type": "code",
   "execution_count": 3,
   "metadata": {},
   "outputs": [
    {
     "name": "stdout",
     "output_type": "stream",
     "text": [
      "\n",
      "================================================================================\n",
      "1. 데이터 로드\n",
      "================================================================================\n",
      "✓ 데이터 Shape: (39975, 137)\n",
      "✓ 기간: 20191 ~ 20252\n"
     ]
    }
   ],
   "source": [
    "print(\"\\n\" + \"=\"*80)\n",
    "print(\"1. 데이터 로드\")\n",
    "print(\"=\"*80)\n",
    "\n",
    "# merged_data.csv 있는 폴더 경로 -> 수정 필요\n",
    "data_path = '/Users/kimjm/Desktop/SKN_19/SKN19_2nd_1team/eda/data/merged_data.csv'\n",
    "df = pd.read_csv(data_path)\n",
    "print(f\"✓ 데이터 Shape: {df.shape}\")\n",
    "print(f\"✓ 기간: {df['기준_년분기_코드'].min()} ~ {df['기준_년분기_코드'].max()}\")"
   ]
  },
  {
   "cell_type": "markdown",
   "metadata": {},
   "source": [
    "## 2. 타겟 변수 생성 (미래 시점 예측)"
   ]
  },
  {
   "cell_type": "code",
   "execution_count": 4,
   "metadata": {},
   "outputs": [
    {
     "name": "stdout",
     "output_type": "stream",
     "text": [
      "\n",
      "================================================================================\n",
      "2. 타겟 변수 생성\n",
      "================================================================================\n",
      "✓ 폐업률 임계값: 2.30%\n",
      "✓ 클래스 분포:\n",
      "closure_risk\n",
      "1    20320\n",
      "0    19655\n",
      "Name: count, dtype: int64\n",
      "✓ 타겟 생성 후 데이터 Shape: (39975, 144)\n"
     ]
    }
   ],
   "source": [
    "print(\"\\n\" + \"=\"*80)\n",
    "print(\"2. 타겟 변수 생성\")\n",
    "print(\"=\"*80)\n",
    "\n",
    "# 시간 변수 생성\n",
    "df['year'] = df['기준_년분기_코드'].astype(str).str[:4].astype(int)\n",
    "df['quarter'] = df['기준_년분기_코드'].astype(str).str[4:].astype(int)\n",
    "df['year_quarter'] = df['year'] * 10 + df['quarter']\n",
    "\n",
    "# 범주형 인코딩\n",
    "le_district = LabelEncoder()\n",
    "df['자치구_encoded'] = le_district.fit_transform(df['자치구_코드_명'])\n",
    "\n",
    "le_industry = LabelEncoder()\n",
    "df['업종_encoded'] = le_industry.fit_transform(df['서비스_업종_코드_명'])\n",
    "\n",
    "le_change = LabelEncoder()\n",
    "df['상권변화_encoded'] = le_change.fit_transform(df['상권_변화_지표'])\n",
    "\n",
    "# 시계열 정렬\n",
    "df = df.sort_values(['자치구_encoded', '업종_encoded', 'year_quarter']).reset_index(drop=True)\n",
    "\n",
    "\n",
    "\n",
    "# 타겟 변수 생성 (전체 데이터의 중앙값 기준)\n",
    "threshold = df['폐업_률'].quantile(0.5)\n",
    "df['closure_risk'] = (df['폐업_률'] >= threshold).astype(int)\n",
    "\n",
    "print(f\"✓ 폐업률 임계값: {threshold:.2f}%\")\n",
    "print(f\"✓ 클래스 분포:\")\n",
    "print(df['closure_risk'].value_counts())\n",
    "\n",
    "# 타겟이 없는 마지막 분기 데이터 제거\n",
    "df = df.dropna(subset=['폐업_률']).reset_index(drop=True)\n",
    "print(f\"✓ 타겟 생성 후 데이터 Shape: {df.shape}\")"
   ]
  },
  {
   "cell_type": "markdown",
   "metadata": {},
   "source": [
    "## 3. 특성 생성 - 과거 시점 데이터만 사용 (Data Leakage 방지)\n",
    "\n",
    "**중요:**\n",
    "- 🚫 폐업_률, 폐업_점포_수는 절대 사용하지 않음\n",
    "- ✅ 오직 t-1, t-2 시점 데이터만 사용"
   ]
  },
  {
   "cell_type": "code",
   "execution_count": 5,
   "metadata": {},
   "outputs": [
    {
     "name": "stdout",
     "output_type": "stream",
     "text": [
      "\n",
      "================================================================================\n",
      "3. 특성 생성\n",
      "================================================================================\n",
      "✓ Lag 특성 생성 대상: 20개 컬럼\n",
      "✓ Lag 특성 생성 완료: 40개 특성 추가\n"
     ]
    }
   ],
   "source": [
    "print(\"\\n\" + \"=\"*80)\n",
    "print(\"3. 특성 생성\")\n",
    "print(\"=\"*80)\n",
    "\n",
    "# 특성공학에 사용할 컬럼/lag data 만들 컬럼\n",
    "# 폐업_률, 폐업_점포_수는 절대 사용하지 않음!\n",
    "lag_cols = [\n",
    "    '당월_매출_금액', '당월_매출_건수', '점포_수', '유사_업종_점포_수',\n",
    "    '프랜차이즈_점포_수', '개업_률', '개업_점포_수',\n",
    "    '전체임대료', '총_유동인구_수', '총_상주인구_수', '총_직장인구_수',\n",
    "    '토요일_매출_금액', '일요일_매출_금액', '시간대_21_24_매출_금액',\n",
    "    '연령대_10_매출_금액', '연령대_20_매출_금액', '연령대_30_매출_금액',\n",
    "    '연령대_40_매출_금액', '연령대_50_매출_금액', '연령대_60_이상_매출_금액'\n",
    "]\n",
    "\n",
    "print(f\"✓ Lag 특성 생성 대상: {len(lag_cols)}개 컬럼\")\n",
    "\n",
    "# Lag 특성 생성 (t-1, t-2)\n",
    "# 이전분기, 2분기전 데이터\n",
    "for col in lag_cols:\n",
    "    df[f'{col}_lag1'] = df.groupby(['자치구_encoded', '업종_encoded'])[col].shift(1)\n",
    "    df[f'{col}_lag2'] = df.groupby(['자치구_encoded', '업종_encoded'])[col].shift(2)\n",
    "\n",
    "print(f\"✓ Lag 특성 생성 완료: {len(lag_cols) * 2}개 특성 추가\")"
   ]
  },
  {
   "cell_type": "markdown",
   "metadata": {},
   "source": [
    "## 4. 파생 특성 생성 (모두 t-1, t-2 시점 기반)"
   ]
  },
  {
   "cell_type": "code",
   "execution_count": 6,
   "metadata": {},
   "outputs": [
    {
     "name": "stdout",
     "output_type": "stream",
     "text": [
      "\n",
      "================================================================================\n",
      "4. 파생 특성 생성\n",
      "================================================================================\n"
     ]
    },
    {
     "name": "stdout",
     "output_type": "stream",
     "text": [
      "✓ 파생 특성 생성 완료\n"
     ]
    }
   ],
   "source": [
    "print(\"\\n\" + \"=\"*80)\n",
    "print(\"4. 파생 특성 생성\")\n",
    "print(\"=\"*80)\n",
    "\n",
    "# 변화율 (t-1과 t-2 비교)\n",
    "df['매출_변화율'] = (df['당월_매출_금액_lag1'] - df['당월_매출_금액_lag2']) / (df['당월_매출_금액_lag2'] + 1)\n",
    "df['매출건수_변화율'] = (df['당월_매출_건수_lag1'] - df['당월_매출_건수_lag2']) / (df['당월_매출_건수_lag2'] + 1)\n",
    "df['점포수_변화율'] = (df['점포_수_lag1'] - df['점포_수_lag2']) / (df['점포_수_lag2'] + 1)\n",
    "df['개업률_변화'] = df['개업_률_lag1'] - df['개업_률_lag2']\n",
    "\n",
    "# 연속 하락 (t-2, t-1 시점 기준)\n",
    "df['매출_감소'] = (df['매출_변화율'] < 0).astype(int)\n",
    "df['연속_매출_감소'] = df.groupby(['자치구_encoded', '업종_encoded'])['매출_감소'].shift(1).rolling(2, min_periods=1).sum()\n",
    "\n",
    "# 과거 추세\n",
    "df['매출_3분기_평균'] = df.groupby(['자치구_encoded', '업종_encoded'])['당월_매출_금액_lag1'].shift(1).rolling(3, min_periods=1).mean()\n",
    "df['매출_추세_대비'] = df['당월_매출_금액_lag1'] / (df['매출_3분기_평균'] + 1)\n",
    "\n",
    "# 수익성 지표 (t-1 시점)\n",
    "df['점포당_매출'] = df['당월_매출_금액_lag1'] / (df['점포_수_lag1'] + 1)\n",
    "df['건당_매출'] = df['당월_매출_금액_lag1'] / (df['당월_매출_건수_lag1'] + 1)\n",
    "df['임대료_부담률'] = df['전체임대료_lag1'] / (df['당월_매출_금액_lag1'] + 1)\n",
    "df['유동인구_전환율'] = df['당월_매출_건수_lag1'] / (df['총_유동인구_수_lag1'] + 1)\n",
    "\n",
    "# 고객 구조 (t-1 시점)\n",
    "age_cols_lag1 = [f'연령대_{age}_매출_금액_lag1' for age in ['10', '20', '30', '40', '50', '60_이상']]\n",
    "df['최대_연령대_비중'] = df[age_cols_lag1].max(axis=1) / (df['당월_매출_금액_lag1'] + 1)\n",
    "df['주말_매출_비율'] = (df['토요일_매출_금액_lag1'] + df['일요일_매출_금액_lag1']) / (df['당월_매출_금액_lag1'] + 1)\n",
    "df['야간_매출_비율'] = df['시간대_21_24_매출_금액_lag1'] / (df['당월_매출_금액_lag1'] + 1)\n",
    "\n",
    "# 경쟁 환경 (t-1 시점)\n",
    "df['프랜차이즈_비율'] = df['프랜차이즈_점포_수_lag1'] / (df['점포_수_lag1'] + 1)\n",
    "df['경쟁_밀도'] = df['유사_업종_점포_수_lag1'] / (df['점포_수_lag1'] + 1)\n",
    "df['점포_포화도'] = df['점포_수_lag1'] / ((df['총_상주인구_수_lag1'] + df['총_직장인구_수_lag1']) + 1) * 10000\n",
    "\n",
    "print(f\"✓ 파생 특성 생성 완료\")\n",
    "\n",
    "# 결측값 처리\n",
    "df = df.replace([np.inf, -np.inf], np.nan)\n",
    "df = df.fillna(0)"
   ]
  },
  {
   "cell_type": "markdown",
   "metadata": {},
   "source": [
    "## 5. Feature 선택\n",
    "\n",
    "**핵심:**\n",
    "- 현재 시점(t)의 모든 원본 데이터 제외\n",
    "- 오직 lag 특성(_lag1, _lag2)만 사용"
   ]
  },
  {
   "cell_type": "code",
   "execution_count": 7,
   "metadata": {},
   "outputs": [
    {
     "name": "stdout",
     "output_type": "stream",
     "text": [
      "\n",
      "================================================================================\n",
      "5. Feature 선택\n",
      "================================================================================\n",
      "✓ 전체 컬럼 수: 202\n",
      "✓ 제외 컬럼 수: 141\n",
      "✓ 사용 feature 수: 61\n",
      "✓ 범주형 feature: 3개\n",
      "  - cat_idxs: [0, 1, 2]\n",
      "  - cat_dims: [25, 63, 4]\n"
     ]
    }
   ],
   "source": [
    "print(\"\\n\" + \"=\"*80)\n",
    "print(\"5. Feature 선택\")\n",
    "print(\"=\"*80)\n",
    "\n",
    "# 범주형 변수\n",
    "categorical_features = ['자치구_encoded', '업종_encoded', '상권변화_encoded']\n",
    "\n",
    "# 제외할 컬럼들\n",
    "exclude_cols = [\n",
    "    # 원본 범주형 변수\n",
    "    '기준_년분기_코드', '자치구_코드_명', '서비스_업종_코드_명', '상권_변화_지표',\n",
    "\n",
    "    # 🚫 타겟 변수 및 현재 시점(t) 모든 데이터\n",
    "    '폐업_률', '폐업_점포_수', 'closure_risk',\n",
    "\n",
    "    # 🚫 현재 시점(t)의 모든 원본 데이터 (lag가 없는 컬럼들)\n",
    "    '당월_매출_금액', '당월_매출_건수', '점포_수', '유사_업종_점포_수',\n",
    "    '프랜차이즈_점포_수', '개업_률', '개업_점포_수',\n",
    "    '전체임대료', '총_유동인구_수', '총_상주인구_수', '총_직장인구_수',\n",
    "    '토요일_매출_금액', '일요일_매출_금액', '시간대_21_24_매출_금액',\n",
    "    '연령대_10_매출_금액', '연령대_20_매출_금액', '연령대_30_매출_금액',\n",
    "    '연령대_40_매출_금액', '연령대_50_매출_금액', '연령대_60_이상_매출_금액',\n",
    "\n",
    "    # 시간 정보\n",
    "    'year', 'quarter', 'year_quarter',\n",
    "\n",
    "    # 기타 현재 시점 데이터 (모두 제외)\n",
    "    '월요일_매출_금액', '화요일_매출_금액', '수요일_매출_금액', '목요일_매출_금액', '금요일_매출_금액',\n",
    "    '시간대_00_06_매출_금액', '시간대_06_11_매출_금액', '시간대_11_14_매출_금액',\n",
    "    '시간대_14_17_매출_금액', '시간대_17_21_매출_금액',\n",
    "    '남성_매출_금액', '여성_매출_금액',\n",
    "    '월요일_매출_건수', '화요일_매출_건수', '수요일_매출_건수', '목요일_매출_건수',\n",
    "    '금요일_매출_건수', '토요일_매출_건수', '일요일_매출_건수',\n",
    "    '시간대_건수~06_매출_건수', '시간대_건수~11_매출_건수', '시간대_건수~14_매출_건수',\n",
    "    '시간대_건수~17_매출_건수', '시간대_건수~21_매출_건수', '시간대_건수~24_매출_건수',\n",
    "    '남성_매출_건수', '여성_매출_건수',\n",
    "    '연령대_10_매출_건수', '연령대_20_매출_건수', '연령대_30_매출_건수',\n",
    "    '연령대_40_매출_건수', '연령대_50_매출_건수', '연령대_60_이상_매출_건수',\n",
    "    '운영_영업_개월_평균', '폐업_영업_개월_평균', '서울시_운영_영업_개월_평균', '서울시_폐업_영업_개월_평균',\n",
    "    '남성_유동인구_수', '여성_유동인구_수',\n",
    "    '연령대_10_유동인구_수', '연령대_20_유동인구_수', '연령대_30_유동인구_수',\n",
    "    '연령대_40_유동인구_수', '연령대_50_유동인구_수', '연령대_60_이상_유동인구_수',\n",
    "    '시간대_00_06_유동인구_수', '시간대_06_11_유동인구_수', '시간대_11_14_유동인구_수',\n",
    "    '시간대_14_17_유동인구_수', '시간대_17_21_유동인구_수', '시간대_21_24_유동인구_수',\n",
    "    '월요일_유동인구_수', '화요일_유동인구_수', '수요일_유동인구_수', '목요일_유동인구_수',\n",
    "    '금요일_유동인구_수', '토요일_유동인구_수', '일요일_유동인구_수',\n",
    "    '월_평균_소득_금액', '지출_총_금액', '식료품_지출_총금액', '의류_신발_지출_총금액',\n",
    "    '생활용품_지출_총금액', '의료비_지출_총금액', '교통_지출_총금액', '교육_지출_총금액',\n",
    "    '유흥_지출_총금액', '여가_문화_지출_총금액', '기타_지출_총금액', '음식_지출_총금액',\n",
    "    '남성_상주인구_수', '여성_상주인구_수',\n",
    "    '연령대_10_미만_상주인구_수', '연령대_20_상주인구_수', '연령대_30_상주인구_수',\n",
    "    '연령대_40_상주인구_수', '연령대_50_상주인구_수', '연령대_60_이상_상주인구_수',\n",
    "    '남성연령대_10_상주인구_수', '남성연령대_20_상주인구_수', '남성연령대_30_상주인구_수',\n",
    "    '남성연령대_40_상주인구_수', '남성연령대_50_상주인구_수', '남성연령대_60_이상_상주인구_수',\n",
    "    '여성연령대_10_상주인구_수', '여성연령대_20_상주인구_수', '여성연령대_30_상주인구_수',\n",
    "    '여성연령대_40_상주인구_수', '여성연령대_50_상주인구_수', '여성연령대_60_이상_상주인구_수',\n",
    "    '총_가구_수', '남성_직장인구_수', '여성_직장인구_수',\n",
    "    '연령대_10_직장인구_수', '연령대_20_직장인구_수', '연령대_30_직장인구_수',\n",
    "    '연령대_40_직장인구_수', '연령대_50_직장인구_수', '연령대_60_이상_직장인구_수',\n",
    "    '남성연령대_10_직장_인구_수', '남성연령대_20_직장_인구_수', '남성연령대_30_직장_인구_수',\n",
    "    '남성연령대_40_직장_인구_수', '남성연령대_50_직장_인구_수', '남성연령대_60_이상_직장_인구_수',\n",
    "    '여성연령대_10_직장_인구_수', '여성연령대_20_직장_인구_수', '여성연령대_30_직장_인구_수',\n",
    "    '여성연령대_40_직장_인구_수', '여성연령대_50_직장_인구_수', '여성연령대_60_이상_직장_인구_수'\n",
    "]\n",
    "\n",
    "# 사용 가능한 feature 선택\n",
    "feature_cols = [col for col in df.columns if col not in exclude_cols]\n",
    "\n",
    "# 범주형 feature의 인덱스 및 차원 설정\n",
    "cat_idxs = [feature_cols.index(col) for col in categorical_features if col in feature_cols]\n",
    "cat_dims = [\n",
    "    len(le_district.classes_),\n",
    "    len(le_industry.classes_),\n",
    "    len(le_change.classes_)\n",
    "]\n",
    "\n",
    "print(f\"✓ 전체 컬럼 수: {len(df.columns)}\")\n",
    "print(f\"✓ 제외 컬럼 수: {len(exclude_cols)}\")\n",
    "print(f\"✓ 사용 feature 수: {len(feature_cols)}\")\n",
    "print(f\"✓ 범주형 feature: {len(categorical_features)}개\")\n",
    "print(f\"  - cat_idxs: {cat_idxs}\")\n",
    "print(f\"  - cat_dims: {cat_dims}\")"
   ]
  },
  {
   "cell_type": "markdown",
   "metadata": {},
   "source": [
    "## 6. 데이터 분할 (시계열 기준)"
   ]
  },
  {
   "cell_type": "code",
   "execution_count": 8,
   "metadata": {},
   "outputs": [
    {
     "name": "stdout",
     "output_type": "stream",
     "text": [
      "\n",
      "================================================================================\n",
      "6. 데이터 분할 - 시계열 기준\n",
      "================================================================================\n",
      "✓ 초기 분기 제거 후 Shape: (36875, 202)\n",
      "✓ Train: 25812 (70.0%)\n",
      "  - Class 0: 12938, Class 1: 12874\n",
      "✓ Validation: 3687 (10.0%)\n",
      "  - Class 0: 1705, Class 1: 1982\n",
      "✓ Test: 7376 (20.0%)\n",
      "  - Class 0: 3568, Class 1: 3808\n"
     ]
    }
   ],
   "source": [
    "print(\"\\n\" + \"=\"*80)\n",
    "print(\"6. 데이터 분할 - 시계열 기준\")\n",
    "print(\"=\"*80)\n",
    "\n",
    "# 1. 결측값 제거\n",
    "df_clean = df.dropna(subset=feature_cols).reset_index(drop=True)\n",
    "\n",
    "# 2. 각 그룹의 초기 데이터 제거 (lag2 생성 이후부터 사용)\n",
    "# lag2 사용할 경우 처음 2분기까지는 데이터가 모두 0으로 처리됨\n",
    "df_clean = df_clean.groupby(['자치구_encoded', '업종_encoded'], group_keys=False).apply(\n",
    "    lambda x: x.iloc[2:] if len(x) > 2 else x  # 각 그룹에서 처음 2개 분기 제거\n",
    ").reset_index(drop=True)\n",
    "\n",
    "# 3. 시계열 정렬\n",
    "df_sorted = df_clean.sort_values(\n",
    "    ['year_quarter', '자치구_encoded', '업종_encoded']\n",
    ").reset_index(drop=True)\n",
    "\n",
    "print(f\"✓ 초기 분기 제거 후 Shape: {df_sorted.shape}\")\n",
    "\n",
    "# Train/Val/Test 분할\n",
    "train_size = 0.7\n",
    "val_size = 0.1\n",
    "test_size = 0.2\n",
    "\n",
    "n_total = len(df_sorted)\n",
    "n_train = int(n_total * train_size)\n",
    "n_val = int(n_total * val_size)\n",
    "\n",
    "train_df = df_sorted.iloc[:n_train].copy()\n",
    "val_df = df_sorted.iloc[n_train:n_train+n_val].copy()\n",
    "test_df = df_sorted.iloc[n_train+n_val:].copy()\n",
    "\n",
    "print(f\"✓ Train: {len(train_df)} ({len(train_df)/n_total*100:.1f}%)\")\n",
    "print(f\"  - Class 0: {(train_df['closure_risk']==0).sum()}, Class 1: {(train_df['closure_risk']==1).sum()}\")\n",
    "print(f\"✓ Validation: {len(val_df)} ({len(val_df)/n_total*100:.1f}%)\")\n",
    "print(f\"  - Class 0: {(val_df['closure_risk']==0).sum()}, Class 1: {(val_df['closure_risk']==1).sum()}\")\n",
    "print(f\"✓ Test: {len(test_df)} ({len(test_df)/n_total*100:.1f}%)\")\n",
    "print(f\"  - Class 0: {(test_df['closure_risk']==0).sum()}, Class 1: {(test_df['closure_risk']==1).sum()}\")"
   ]
  },
  {
   "cell_type": "markdown",
   "metadata": {},
   "source": [
    "## 7. 그룹 통계량 계산 - Train 데이터만 사용 (Leakage 방지)\n",
    "\n",
    "**핵심:**\n",
    "- Train에서만 그룹 평균 계산\n",
    "- Val/Test는 Train의 통계량 사용"
   ]
  },
  {
   "cell_type": "code",
   "execution_count": 9,
   "metadata": {},
   "outputs": [
    {
     "name": "stdout",
     "output_type": "stream",
     "text": [
      "\n",
      "================================================================================\n",
      "7. 그룹 통계량 계산 - Train 데이터만 사용 (Leakage 방지)\n",
      "================================================================================\n",
      "✓ 최종 feature 수: 66\n",
      "✓ 그룹 통계량 기반 특성 추가: 5개\n"
     ]
    }
   ],
   "source": [
    "print(\"\\n\" + \"=\"*80)\n",
    "print(\"7. 그룹 통계량 계산 - Train 데이터만 사용 (Leakage 방지)\")\n",
    "print(\"=\"*80)\n",
    "\n",
    "# Train에서만 그룹 평균 계산\n",
    "district_sales_mean = train_df.groupby('자치구_encoded')['당월_매출_금액_lag1'].mean()\n",
    "industry_sales_mean = train_df.groupby('업종_encoded')['당월_매출_금액_lag1'].mean()\n",
    "\n",
    "# 모든 세트에 적용 (train의 통계량 사용)\n",
    "train_df['상권_매출_평균'] = train_df['자치구_encoded'].map(district_sales_mean)\n",
    "train_df['업종_매출_평균'] = train_df['업종_encoded'].map(industry_sales_mean)\n",
    "\n",
    "val_df['상권_매출_평균'] = val_df['자치구_encoded'].map(district_sales_mean)\n",
    "val_df['업종_매출_평균'] = val_df['업종_encoded'].map(industry_sales_mean)\n",
    "\n",
    "test_df['상권_매출_평균'] = test_df['자치구_encoded'].map(district_sales_mean)\n",
    "test_df['업종_매출_평균'] = test_df['업종_encoded'].map(industry_sales_mean)\n",
    "\n",
    "# 상대 지표 계산\n",
    "for dataset in [train_df, val_df, test_df]:\n",
    "    dataset['상권_대비_매출'] = dataset['당월_매출_금액_lag1'] / (dataset['상권_매출_평균'] + 1)\n",
    "    dataset['업종_대비_매출'] = dataset['당월_매출_금액_lag1'] / (dataset['업종_매출_평균'] + 1)\n",
    "\n",
    "    # 위험 점수 (t-1 시점 데이터 기반)\n",
    "    dataset['위험_점수'] = (\n",
    "        (dataset['매출_변화율'] < -0.1).astype(int) * 2 +\n",
    "        (dataset['임대료_부담률'] > 0.3).astype(int) * 2 +\n",
    "        (dataset['상권_대비_매출'] < 0.7).astype(int) +\n",
    "        (dataset.get('연속_매출_감소', 0) >= 2).astype(int) * 3\n",
    "    )\n",
    "\n",
    "# Feature 리스트 업데이트\n",
    "additional_features = ['상권_매출_평균', '업종_매출_평균', '상권_대비_매출', '업종_대비_매출', '위험_점수']\n",
    "feature_cols.extend(additional_features)\n",
    "\n",
    "# 범주형 인덱스 업데이트\n",
    "cat_idxs = [feature_cols.index(col) for col in categorical_features if col in feature_cols]\n",
    "\n",
    "print(f\"✓ 최종 feature 수: {len(feature_cols)}\")\n",
    "print(f\"✓ 그룹 통계량 기반 특성 추가: {len(additional_features)}개\")\n",
    "\n",
    "# 결측값 처리\n",
    "train_df = train_df.replace([np.inf, -np.inf], np.nan).fillna(0)\n",
    "val_df = val_df.replace([np.inf, -np.inf], np.nan).fillna(0)\n",
    "test_df = test_df.replace([np.inf, -np.inf], np.nan).fillna(0)"
   ]
  },
  {
   "cell_type": "markdown",
   "metadata": {},
   "source": [
    "---\n",
    "\n",
    "##### 데이터 저장 - 공유용"
   ]
  },
  {
   "cell_type": "code",
   "execution_count": 10,
   "metadata": {},
   "outputs": [
    {
     "name": "stdout",
     "output_type": "stream",
     "text": [
      "데이터 저장 완료\n"
     ]
    }
   ],
   "source": [
    "# train_df, val_df, test_df에서 feature_cols만 추출해서 저장\n",
    "train_features = train_df[feature_cols]\n",
    "train_target = train_df['closure_risk']\n",
    "\n",
    "val_features = val_df[feature_cols]\n",
    "val_target = val_df['closure_risk']\n",
    "\n",
    "test_features = test_df[feature_cols]\n",
    "test_target = test_df['closure_risk']\n",
    "\n",
    "# 저장.1 (validation set 분할 필요한 경우) - 파일 경로 수정 필요\n",
    "train_features.to_csv('./preprocessed/train_features.csv', index=False)\n",
    "train_target.to_csv('./preprocessed/train_target.csv', index=False)\n",
    "val_features.to_csv('./preprocessed/val_features.csv', index=False)\n",
    "val_target.to_csv('./preprocessed/val_target.csv', index=False)\n",
    "test_features.to_csv('./preprocessed/test_features.csv', index=False)\n",
    "test_target.to_csv('./preprocessed/test_target.csv', index=False)\n",
    "\n",
    "# 저장.2 (validation set 따로 분할 필요 없는 경우)\n",
    "# train_val_features = pd.concat([train_features, val_features], axis=0)\n",
    "# train_val_target = pd.concat([train_target, val_target], axis=0)\n",
    "# train_val_features.to_csv('./preprocessed/train_val.csv', index=False)\n",
    "# train_val_target.to_csv('./preprocessed/train_target.csv', index=False)\n",
    "# test_features.to_csv('./preprocessed/test_features.csv', index=False)\n",
    "# test_target.to_csv('./preprocessed/test_target.csv', index=False)\n",
    "\n",
    "print('데이터 저장 완료')"
   ]
  },
  {
   "cell_type": "markdown",
   "metadata": {},
   "source": [
    "---"
   ]
  },
  {
   "cell_type": "markdown",
   "metadata": {},
   "source": [
    "## 8. 데이터 준비 및 스케일링"
   ]
  },
  {
   "cell_type": "code",
   "execution_count": 11,
   "metadata": {},
   "outputs": [
    {
     "name": "stdout",
     "output_type": "stream",
     "text": [
      "\n",
      "================================================================================\n",
      "8. 데이터 준비 및 스케일링\n",
      "================================================================================\n",
      "✓ 연속형 feature 수: 63개\n",
      "✓ 범주형 feature 수: 3개\n"
     ]
    }
   ],
   "source": [
    "print(\"\\n\" + \"=\"*80)\n",
    "print(\"8. 데이터 준비 및 스케일링\")\n",
    "print(\"=\"*80)\n",
    "\n",
    "# 데이터 추출\n",
    "X_train = train_df[feature_cols].values\n",
    "y_train = train_df['closure_risk'].values\n",
    "\n",
    "X_val = val_df[feature_cols].values\n",
    "y_val = val_df['closure_risk'].values\n",
    "\n",
    "X_test = test_df[feature_cols].values\n",
    "y_test = test_df['closure_risk'].values\n",
    "\n",
    "# 범주형과 연속형 분리\n",
    "categorical_mask = np.zeros(len(feature_cols), dtype=bool)\n",
    "for idx in cat_idxs:\n",
    "    categorical_mask[idx] = True\n",
    "continuous_mask = ~categorical_mask\n",
    "\n",
    "# Feature 스케일링 (연속형 변수만)\n",
    "scaler = StandardScaler()\n",
    "X_train_continuous = X_train[:, continuous_mask].astype(np.float64)\n",
    "X_val_continuous = X_val[:, continuous_mask].astype(np.float64)\n",
    "X_test_continuous = X_test[:, continuous_mask].astype(np.float64)\n",
    "\n",
    "X_train_continuous_scaled = scaler.fit_transform(X_train_continuous)\n",
    "X_val_continuous_scaled = scaler.transform(X_val_continuous)\n",
    "X_test_continuous_scaled = scaler.transform(X_test_continuous)\n",
    "\n",
    "# 범주형과 스케일링된 연속형 결합\n",
    "X_train_scaled = X_train.copy()\n",
    "X_val_scaled = X_val.copy()\n",
    "X_test_scaled = X_test.copy()\n",
    "\n",
    "X_train_scaled[:, continuous_mask] = X_train_continuous_scaled\n",
    "X_val_scaled[:, continuous_mask] = X_val_continuous_scaled\n",
    "X_test_scaled[:, continuous_mask] = X_test_continuous_scaled\n",
    "\n",
    "# MPS 호환성 \n",
    "if device == 'mps':\n",
    "    X_train_scaled = X_train_scaled.astype(np.float32)\n",
    "    X_val_scaled = X_val_scaled.astype(np.float32)\n",
    "    X_test_scaled = X_test_scaled.astype(np.float32)\n",
    "\n",
    "print(f\"✓ 연속형 feature 수: {continuous_mask.sum()}개\")\n",
    "print(f\"✓ 범주형 feature 수: {categorical_mask.sum()}개\")"
   ]
  },
  {
   "cell_type": "markdown",
   "metadata": {},
   "source": [
    "## 9. TabNet 모델 학습"
   ]
  },
  {
   "cell_type": "code",
   "execution_count": 12,
   "metadata": {},
   "outputs": [
    {
     "name": "stdout",
     "output_type": "stream",
     "text": [
      "\n",
      "================================================================================\n",
      "9. TabNet 모델 학습\n",
      "================================================================================\n",
      "\n",
      "✓ 모델 학습 시작\n",
      "\n",
      "epoch 0  | loss: 0.77035 | val_0_accuracy: 0.60835 | val_0_auc: 0.66398 | val_0_logloss: 0.68461 |  0:00:10s\n",
      "epoch 1  | loss: 0.67067 | val_0_accuracy: 0.64578 | val_0_auc: 0.71755 | val_0_logloss: 0.63705 |  0:00:15s\n",
      "epoch 2  | loss: 0.62395 | val_0_accuracy: 0.67752 | val_0_auc: 0.74781 | val_0_logloss: 0.60911 |  0:00:21s\n",
      "epoch 3  | loss: 0.59473 | val_0_accuracy: 0.68755 | val_0_auc: 0.76431 | val_0_logloss: 0.58628 |  0:00:26s\n",
      "epoch 4  | loss: 0.5859  | val_0_accuracy: 0.69325 | val_0_auc: 0.7706  | val_0_logloss: 0.573   |  0:00:32s\n",
      "epoch 5  | loss: 0.57985 | val_0_accuracy: 0.68918 | val_0_auc: 0.77285 | val_0_logloss: 0.57332 |  0:00:38s\n",
      "epoch 6  | loss: 0.57331 | val_0_accuracy: 0.69379 | val_0_auc: 0.77353 | val_0_logloss: 0.56884 |  0:00:43s\n",
      "epoch 7  | loss: 0.57038 | val_0_accuracy: 0.68565 | val_0_auc: 0.77779 | val_0_logloss: 0.56731 |  0:00:49s\n",
      "epoch 8  | loss: 0.56691 | val_0_accuracy: 0.69189 | val_0_auc: 0.77996 | val_0_logloss: 0.56295 |  0:00:55s\n",
      "epoch 9  | loss: 0.56533 | val_0_accuracy: 0.69216 | val_0_auc: 0.78197 | val_0_logloss: 0.56406 |  0:01:00s\n",
      "epoch 10 | loss: 0.56383 | val_0_accuracy: 0.69677 | val_0_auc: 0.782   | val_0_logloss: 0.55884 |  0:01:06s\n",
      "epoch 11 | loss: 0.56197 | val_0_accuracy: 0.69704 | val_0_auc: 0.78247 | val_0_logloss: 0.55823 |  0:01:12s\n",
      "epoch 12 | loss: 0.56178 | val_0_accuracy: 0.69406 | val_0_auc: 0.78409 | val_0_logloss: 0.55995 |  0:01:17s\n",
      "epoch 13 | loss: 0.55712 | val_0_accuracy: 0.6946  | val_0_auc: 0.78653 | val_0_logloss: 0.55748 |  0:01:23s\n",
      "epoch 14 | loss: 0.55401 | val_0_accuracy: 0.69786 | val_0_auc: 0.79186 | val_0_logloss: 0.55155 |  0:01:29s\n",
      "epoch 15 | loss: 0.55276 | val_0_accuracy: 0.69813 | val_0_auc: 0.79218 | val_0_logloss: 0.55229 |  0:01:34s\n",
      "epoch 16 | loss: 0.55033 | val_0_accuracy: 0.70301 | val_0_auc: 0.79213 | val_0_logloss: 0.54752 |  0:01:40s\n",
      "epoch 17 | loss: 0.54787 | val_0_accuracy: 0.70193 | val_0_auc: 0.79579 | val_0_logloss: 0.54615 |  0:01:46s\n",
      "epoch 18 | loss: 0.54545 | val_0_accuracy: 0.70328 | val_0_auc: 0.7923  | val_0_logloss: 0.5475  |  0:01:51s\n",
      "epoch 19 | loss: 0.54302 | val_0_accuracy: 0.70898 | val_0_auc: 0.79337 | val_0_logloss: 0.54754 |  0:01:57s\n",
      "epoch 20 | loss: 0.54107 | val_0_accuracy: 0.70545 | val_0_auc: 0.79446 | val_0_logloss: 0.54629 |  0:02:03s\n",
      "epoch 21 | loss: 0.54209 | val_0_accuracy: 0.70003 | val_0_auc: 0.79651 | val_0_logloss: 0.55173 |  0:02:09s\n",
      "epoch 22 | loss: 0.53973 | val_0_accuracy: 0.70464 | val_0_auc: 0.79663 | val_0_logloss: 0.54565 |  0:02:14s\n",
      "epoch 23 | loss: 0.5377  | val_0_accuracy: 0.69894 | val_0_auc: 0.79671 | val_0_logloss: 0.54773 |  0:02:20s\n",
      "epoch 24 | loss: 0.53453 | val_0_accuracy: 0.70952 | val_0_auc: 0.79961 | val_0_logloss: 0.53964 |  0:02:26s\n",
      "epoch 25 | loss: 0.53298 | val_0_accuracy: 0.70193 | val_0_auc: 0.8014  | val_0_logloss: 0.54504 |  0:02:31s\n",
      "epoch 26 | loss: 0.53375 | val_0_accuracy: 0.71088 | val_0_auc: 0.80325 | val_0_logloss: 0.53738 |  0:02:37s\n",
      "epoch 27 | loss: 0.53057 | val_0_accuracy: 0.70925 | val_0_auc: 0.80361 | val_0_logloss: 0.53906 |  0:02:43s\n",
      "epoch 28 | loss: 0.52847 | val_0_accuracy: 0.7163  | val_0_auc: 0.80487 | val_0_logloss: 0.53612 |  0:02:48s\n",
      "epoch 29 | loss: 0.5281  | val_0_accuracy: 0.7106  | val_0_auc: 0.8024  | val_0_logloss: 0.54037 |  0:02:54s\n",
      "epoch 30 | loss: 0.53058 | val_0_accuracy: 0.71332 | val_0_auc: 0.8019  | val_0_logloss: 0.54162 |  0:03:00s\n",
      "epoch 31 | loss: 0.52935 | val_0_accuracy: 0.71657 | val_0_auc: 0.80449 | val_0_logloss: 0.54111 |  0:03:05s\n",
      "epoch 32 | loss: 0.52947 | val_0_accuracy: 0.71576 | val_0_auc: 0.80391 | val_0_logloss: 0.54007 |  0:03:11s\n",
      "epoch 33 | loss: 0.52602 | val_0_accuracy: 0.72145 | val_0_auc: 0.80481 | val_0_logloss: 0.53919 |  0:03:16s\n",
      "epoch 34 | loss: 0.52557 | val_0_accuracy: 0.71467 | val_0_auc: 0.80832 | val_0_logloss: 0.53898 |  0:03:22s\n",
      "epoch 35 | loss: 0.52557 | val_0_accuracy: 0.72227 | val_0_auc: 0.80648 | val_0_logloss: 0.53601 |  0:03:28s\n",
      "epoch 36 | loss: 0.52186 | val_0_accuracy: 0.7201  | val_0_auc: 0.80578 | val_0_logloss: 0.53868 |  0:03:33s\n",
      "epoch 37 | loss: 0.5225  | val_0_accuracy: 0.72227 | val_0_auc: 0.80763 | val_0_logloss: 0.53345 |  0:03:39s\n",
      "epoch 38 | loss: 0.52052 | val_0_accuracy: 0.72362 | val_0_auc: 0.80878 | val_0_logloss: 0.53058 |  0:03:45s\n",
      "epoch 39 | loss: 0.52177 | val_0_accuracy: 0.71847 | val_0_auc: 0.80664 | val_0_logloss: 0.53402 |  0:03:50s\n",
      "epoch 40 | loss: 0.52049 | val_0_accuracy: 0.71684 | val_0_auc: 0.80417 | val_0_logloss: 0.5372  |  0:03:56s\n",
      "epoch 41 | loss: 0.52029 | val_0_accuracy: 0.72091 | val_0_auc: 0.80862 | val_0_logloss: 0.53139 |  0:04:02s\n",
      "epoch 42 | loss: 0.52073 | val_0_accuracy: 0.72525 | val_0_auc: 0.80892 | val_0_logloss: 0.52741 |  0:04:07s\n",
      "epoch 43 | loss: 0.51859 | val_0_accuracy: 0.72634 | val_0_auc: 0.80656 | val_0_logloss: 0.53114 |  0:04:13s\n",
      "epoch 44 | loss: 0.51669 | val_0_accuracy: 0.72227 | val_0_auc: 0.8084  | val_0_logloss: 0.531   |  0:04:18s\n",
      "epoch 45 | loss: 0.51961 | val_0_accuracy: 0.72335 | val_0_auc: 0.80846 | val_0_logloss: 0.53343 |  0:04:24s\n",
      "epoch 46 | loss: 0.51771 | val_0_accuracy: 0.71901 | val_0_auc: 0.808   | val_0_logloss: 0.53611 |  0:04:29s\n",
      "epoch 47 | loss: 0.51437 | val_0_accuracy: 0.72634 | val_0_auc: 0.81072 | val_0_logloss: 0.53018 |  0:04:35s\n",
      "epoch 48 | loss: 0.5132  | val_0_accuracy: 0.7304  | val_0_auc: 0.81364 | val_0_logloss: 0.52539 |  0:04:40s\n",
      "epoch 49 | loss: 0.51429 | val_0_accuracy: 0.71386 | val_0_auc: 0.80952 | val_0_logloss: 0.5348  |  0:04:46s\n",
      "epoch 50 | loss: 0.5118  | val_0_accuracy: 0.72091 | val_0_auc: 0.80853 | val_0_logloss: 0.53275 |  0:04:52s\n",
      "epoch 51 | loss: 0.51317 | val_0_accuracy: 0.72362 | val_0_auc: 0.80938 | val_0_logloss: 0.53161 |  0:04:57s\n",
      "epoch 52 | loss: 0.51282 | val_0_accuracy: 0.72064 | val_0_auc: 0.81009 | val_0_logloss: 0.53153 |  0:05:03s\n",
      "epoch 53 | loss: 0.51264 | val_0_accuracy: 0.72796 | val_0_auc: 0.81014 | val_0_logloss: 0.52793 |  0:05:09s\n",
      "epoch 54 | loss: 0.51136 | val_0_accuracy: 0.72661 | val_0_auc: 0.81131 | val_0_logloss: 0.53079 |  0:05:15s\n",
      "epoch 55 | loss: 0.51165 | val_0_accuracy: 0.72417 | val_0_auc: 0.8119  | val_0_logloss: 0.53077 |  0:05:20s\n",
      "epoch 56 | loss: 0.51166 | val_0_accuracy: 0.72905 | val_0_auc: 0.80855 | val_0_logloss: 0.53093 |  0:05:26s\n",
      "epoch 57 | loss: 0.51028 | val_0_accuracy: 0.72661 | val_0_auc: 0.80938 | val_0_logloss: 0.53056 |  0:05:31s\n",
      "epoch 58 | loss: 0.50945 | val_0_accuracy: 0.72254 | val_0_auc: 0.80944 | val_0_logloss: 0.5339  |  0:05:37s\n",
      "epoch 59 | loss: 0.50821 | val_0_accuracy: 0.72823 | val_0_auc: 0.8092  | val_0_logloss: 0.52987 |  0:05:43s\n",
      "epoch 60 | loss: 0.50948 | val_0_accuracy: 0.72661 | val_0_auc: 0.80851 | val_0_logloss: 0.53265 |  0:05:48s\n",
      "epoch 61 | loss: 0.50928 | val_0_accuracy: 0.72606 | val_0_auc: 0.80855 | val_0_logloss: 0.53163 |  0:05:54s\n",
      "epoch 62 | loss: 0.50697 | val_0_accuracy: 0.72634 | val_0_auc: 0.8095  | val_0_logloss: 0.53495 |  0:05:59s\n",
      "epoch 63 | loss: 0.50769 | val_0_accuracy: 0.72037 | val_0_auc: 0.80631 | val_0_logloss: 0.5388  |  0:06:05s\n",
      "epoch 64 | loss: 0.5061  | val_0_accuracy: 0.72878 | val_0_auc: 0.81203 | val_0_logloss: 0.52881 |  0:06:10s\n",
      "epoch 65 | loss: 0.50898 | val_0_accuracy: 0.72362 | val_0_auc: 0.80958 | val_0_logloss: 0.53181 |  0:06:16s\n",
      "epoch 66 | loss: 0.50684 | val_0_accuracy: 0.72525 | val_0_auc: 0.81128 | val_0_logloss: 0.52714 |  0:06:22s\n",
      "epoch 67 | loss: 0.50931 | val_0_accuracy: 0.71874 | val_0_auc: 0.8062  | val_0_logloss: 0.53858 |  0:06:27s\n",
      "epoch 68 | loss: 0.50833 | val_0_accuracy: 0.72905 | val_0_auc: 0.80907 | val_0_logloss: 0.53129 |  0:06:33s\n",
      "epoch 69 | loss: 0.50465 | val_0_accuracy: 0.72851 | val_0_auc: 0.80981 | val_0_logloss: 0.52944 |  0:06:39s\n",
      "epoch 70 | loss: 0.50521 | val_0_accuracy: 0.72498 | val_0_auc: 0.81001 | val_0_logloss: 0.53002 |  0:06:45s\n",
      "epoch 71 | loss: 0.50662 | val_0_accuracy: 0.72715 | val_0_auc: 0.8094  | val_0_logloss: 0.53243 |  0:06:50s\n",
      "epoch 72 | loss: 0.50497 | val_0_accuracy: 0.72905 | val_0_auc: 0.80988 | val_0_logloss: 0.52901 |  0:06:56s\n",
      "epoch 73 | loss: 0.50303 | val_0_accuracy: 0.72389 | val_0_auc: 0.81036 | val_0_logloss: 0.53065 |  0:07:02s\n",
      "\n",
      "Early stopping occurred at epoch 73 with best_epoch = 48 and best_val_0_logloss = 0.52539\n",
      "\n",
      "✓ 학습 완료\n",
      "  - Best Epoch: 48\n",
      "  - Best Loss: 0.525385\n"
     ]
    }
   ],
   "source": [
    "print(\"\\n\" + \"=\"*80)\n",
    "print(\"9. TabNet 모델 학습\")\n",
    "print(\"=\"*80)\n",
    "\n",
    "model = TabNetClassifier(\n",
    "    cat_idxs=cat_idxs,\n",
    "    cat_dims=cat_dims,\n",
    "    cat_emb_dim=3,\n",
    "    n_d=8,\n",
    "    n_a=8,\n",
    "    n_steps=3,\n",
    "    gamma=1.4,\n",
    "    lambda_sparse=0.000009,\n",
    "    optimizer_fn=torch.optim.Adam,\n",
    "    optimizer_params=dict(lr=0.01),\n",
    "    scheduler_params={\"step_size\": 50, \"gamma\": 0.9},\n",
    "    scheduler_fn=torch.optim.lr_scheduler.StepLR,\n",
    "    mask_type='entmax',\n",
    "    seed=SEED,\n",
    "    verbose=1,\n",
    "    device_name=device,\n",
    ")\n",
    "\n",
    "print(\"\\n✓ 모델 학습 시작\\n\")\n",
    "model.fit(\n",
    "    X_train_scaled, y_train,\n",
    "    eval_set=[(X_val_scaled, y_val)],\n",
    "    eval_metric=['accuracy', 'auc', 'logloss'],\n",
    "    max_epochs=150,\n",
    "    patience=25,\n",
    "    batch_size=1024,\n",
    "    virtual_batch_size=128\n",
    ")\n",
    "\n",
    "print(f\"\\n✓ 학습 완료\")\n",
    "print(f\"  - Best Epoch: {model.best_epoch}\")\n",
    "print(f\"  - Best Loss: {model.best_cost:.6f}\")"
   ]
  },
  {
   "cell_type": "markdown",
   "metadata": {},
   "source": [
    "## 10. 모델 평가 - Data Leakage 제거 후 실제 성능"
   ]
  },
  {
   "cell_type": "code",
   "execution_count": 13,
   "metadata": {},
   "outputs": [
    {
     "name": "stdout",
     "output_type": "stream",
     "text": [
      "\n",
      "================================================================================\n",
      "10. 모델 평가\n",
      "================================================================================\n",
      "✓ 최적 임계값: 0.4401\n",
      "\n",
      "================================================================================\n",
      "                                  테스트 세트 최종 성능                                  \n",
      "================================================================================\n",
      "  Accuracy:  0.7061 (70.61%)\n",
      "  Precision: 0.7221 (72.21%)\n",
      "  Recall:    0.7001 (70.01%)\n",
      "  F1 Score:  0.7109\n",
      "  AUC:       0.7807\n",
      "================================================================================\n",
      "\n",
      "✓ Confusion Matrix:\n",
      "[[2542 1026]\n",
      " [1142 2666]]\n",
      "\n",
      "✓ Classification Report:\n",
      "              precision    recall  f1-score   support\n",
      "\n",
      "    Low Risk       0.69      0.71      0.70      3568\n",
      "   High Risk       0.72      0.70      0.71      3808\n",
      "\n",
      "    accuracy                           0.71      7376\n",
      "   macro avg       0.71      0.71      0.71      7376\n",
      "weighted avg       0.71      0.71      0.71      7376\n",
      "\n"
     ]
    }
   ],
   "source": [
    "print(\"\\n\" + \"=\"*80)\n",
    "print(\"10. 모델 평가\")\n",
    "print(\"=\"*80)\n",
    "\n",
    "# 최적 임계값 찾기\n",
    "y_val_proba = model.predict_proba(X_val_scaled)\n",
    "fpr, tpr, roc_thresholds = roc_curve(y_val, y_val_proba[:, 1])\n",
    "j_scores = tpr - fpr\n",
    "optimal_idx = np.argmax(j_scores)\n",
    "optimal_threshold = roc_thresholds[optimal_idx]\n",
    "\n",
    "print(f\"✓ 최적 임계값: {optimal_threshold:.4f}\")\n",
    "\n",
    "# 테스트 세트 평가\n",
    "y_test_proba = model.predict_proba(X_test_scaled)\n",
    "y_test_pred = (y_test_proba[:, 1] >= optimal_threshold).astype(int)\n",
    "\n",
    "# 평가 지표 계산\n",
    "accuracy = accuracy_score(y_test, y_test_pred)\n",
    "precision = precision_score(y_test, y_test_pred)\n",
    "recall = recall_score(y_test, y_test_pred)\n",
    "f1 = f1_score(y_test, y_test_pred)\n",
    "auc = roc_auc_score(y_test, y_test_proba[:, 1])\n",
    "\n",
    "print(f\"\\n{'='*80}\")\n",
    "print(f\"{'테스트 세트 최종 성능':^80}\")\n",
    "print(f\"{'='*80}\")\n",
    "print(f\"  Accuracy:  {accuracy:.4f} ({accuracy*100:.2f}%)\")\n",
    "print(f\"  Precision: {precision:.4f} ({precision*100:.2f}%)\")\n",
    "print(f\"  Recall:    {recall:.4f} ({recall*100:.2f}%)\")\n",
    "print(f\"  F1 Score:  {f1:.4f}\")\n",
    "print(f\"  AUC:       {auc:.4f}\")\n",
    "print(f\"{'='*80}\")\n",
    "\n",
    "# Confusion Matrix\n",
    "cm = confusion_matrix(y_test, y_test_pred)\n",
    "print(f\"\\n✓ Confusion Matrix:\")\n",
    "print(cm)\n",
    "\n",
    "# Classification Report\n",
    "print(f\"\\n✓ Classification Report:\")\n",
    "print(classification_report(y_test, y_test_pred, target_names=['Low Risk', 'High Risk']))"
   ]
  },
  {
   "cell_type": "code",
   "execution_count": null,
   "metadata": {},
   "outputs": [],
   "source": []
  },
  {
   "cell_type": "code",
   "execution_count": null,
   "metadata": {},
   "outputs": [
    {
     "data": {
      "image/png": "[encoded data removed]",
      "text/plain": [
       "<Figure size 576x432 with 2 Axes>"
      ]
     },
     "metadata": {
      "needs_background": "light"
     },
     "output_type": "display_data"
    }
   ],
   "source": [
    "# Confusion Matrix 시각화\n",
    "import matplotlib.pyplot as plt\n",
    "import seaborn as sns\n",
    "from matplotlib import rc  ### 이 줄과\n",
    "rc('font', family='AppleGothic') \t\t\t## 이 두 줄을 \n",
    "plt.rcParams['axes.unicode_minus'] = False  ## 추가해줍니다. \n",
    "\n",
    "fig, ax = plt.subplots(figsize=(8, 6))\n",
    "sns.heatmap(\n",
    "    cm, annot=True, fmt='d', cmap='Blues',\n",
    "    xticklabels=['Low Risk', 'High Risk'],\n",
    "    yticklabels=['Low Risk', 'High Risk'],\n",
    "    ax=ax\n",
    ")\n",
    "ax.set_title('Confusion Matrix', fontsize=14, pad=20)\n",
    "ax.set_xlabel('Predicted', fontsize=12)\n",
    "ax.set_ylabel('Actual', fontsize=12)\n",
    "plt.tight_layout()\n",
    "plt.show()"
   ]
  },
  {
   "cell_type": "markdown",
   "metadata": {},
   "source": [
    "## 11. Feature Importance (Top 20)"
   ]
  },
  {
   "cell_type": "code",
   "execution_count": 15,
   "metadata": {},
   "outputs": [
    {
     "name": "stdout",
     "output_type": "stream",
     "text": [
      "\n",
      "================================================================================\n",
      "11. Feature Importance (Top 20)\n",
      "================================================================================\n",
      "          feature  importance\n",
      "         야간_매출_비율    0.218798\n",
      "        개업_률_lag1    0.074865\n",
      "     개업_점포_수_lag1    0.061052\n",
      "        점포_수_lag2    0.059339\n",
      "  프랜차이즈_점포_수_lag1    0.053854\n",
      "         주말_매출_비율    0.043926\n",
      "            건당_매출    0.038899\n",
      "       업종_encoded    0.037672\n",
      "        개업_률_lag2    0.033754\n",
      "  프랜차이즈_점포_수_lag2    0.033502\n",
      "    총_상주인구_수_lag2    0.033294\n",
      "    당월_매출_건수_lag2    0.030518\n",
      "    당월_매출_건수_lag1    0.025189\n",
      "    총_직장인구_수_lag2    0.023896\n",
      "         매출건수_변화율    0.018345\n",
      "연령대_50_매출_금액_lag2    0.017501\n",
      "    당월_매출_금액_lag1    0.015315\n",
      "          임대료_부담률    0.015127\n",
      "            위험_점수    0.013179\n",
      "연령대_40_매출_금액_lag2    0.013000\n"
     ]
    }
   ],
   "source": [
    "print(\"\\n\" + \"=\"*80)\n",
    "print(\"11. Feature Importance (Top 20)\")\n",
    "print(\"=\"*80)\n",
    "\n",
    "feature_importances = model.feature_importances_\n",
    "importance_df = pd.DataFrame({\n",
    "    'feature': feature_cols,\n",
    "    'importance': feature_importances\n",
    "}).sort_values('importance', ascending=False).head(20)\n",
    "\n",
    "print(importance_df.to_string(index=False))"
   ]
  },
  {
   "cell_type": "code",
   "execution_count": 16,
   "metadata": {},
   "outputs": [
    {
     "data": {
      "image/png": "[encoded data removed]",
      "text/plain": [
       "<Figure size 720x576 with 1 Axes>"
      ]
     },
     "metadata": {
      "needs_background": "light"
     },
     "output_type": "display_data"
    }
   ],
   "source": [
    "# Feature Importance (Top 20) 시각화\n",
    "fig, ax = plt.subplots(figsize=(10, 8))\n",
    "ax.barh(range(len(importance_df)), importance_df['importance'])\n",
    "ax.set_yticks(range(len(importance_df)))\n",
    "ax.set_yticklabels(importance_df['feature'], fontsize=9)\n",
    "ax.invert_yaxis()\n",
    "ax.set_xlabel('Importance', fontsize=12)\n",
    "ax.set_title('Top 20 Feature Importance', fontsize=14, pad=20)\n",
    "ax.grid(True, alpha=0.3, axis='x')\n",
    "plt.tight_layout()\n",
    "plt.show()"
   ]
  }
 ],
 "metadata": {
  "kernelspec": {
   "display_name": "tf2",
   "language": "python",
   "name": "python3"
  },
  "language_info": {
   "codemirror_mode": {
    "name": "ipython",
    "version": 3
   },
   "file_extension": ".py",
   "mimetype": "text/x-python",
   "name": "python",
   "nbconvert_exporter": "python",
   "pygments_lexer": "ipython3",
   "version": "3.8.15"
  }
 },
 "nbformat": 4,
 "nbformat_minor": 4
}
